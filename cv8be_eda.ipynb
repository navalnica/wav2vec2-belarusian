{
 "cells": [
  {
   "cell_type": "code",
   "execution_count": 1,
   "id": "643d962f",
   "metadata": {},
   "outputs": [],
   "source": [
    "import os\n",
    "import logging\n",
    "\n",
    "import pandas as pd\n",
    "\n",
    "import matplotlib.pyplot as plt\n",
    "import seaborn as sns\n",
    "sns.set(font_scale=1.1);"
   ]
  },
  {
   "cell_type": "code",
   "execution_count": 2,
   "id": "8dfc2cdc",
   "metadata": {},
   "outputs": [],
   "source": [
    "logging_format_str = '%(asctime)s:%(name)s:%(levelname)s:%(message)s'\n",
    "logging.basicConfig(format=logging_format_str, level=logging.WARNING)\n",
    "logger = logging.getLogger('STT')\n",
    "logger.setLevel(level=logging.DEBUG)"
   ]
  },
  {
   "cell_type": "code",
   "execution_count": 3,
   "id": "38a068b1",
   "metadata": {},
   "outputs": [],
   "source": [
    "DATA_ROOT_DP = os.environ['DATA_HOME']\n",
    "CV_DP = f'{DATA_ROOT_DP}/datasets/cv-corpus-8.0-2022-01-19/be'"
   ]
  },
  {
   "cell_type": "code",
   "execution_count": 4,
   "id": "05d80096",
   "metadata": {},
   "outputs": [
    {
     "data": {
      "text/plain": [
       "['dev.tsv',\n",
       " 'validated.tsv',\n",
       " 'train.tsv',\n",
       " 'clips',\n",
       " 'reported.tsv',\n",
       " 'invalidated.tsv',\n",
       " 'other.tsv',\n",
       " 'test.tsv']"
      ]
     },
     "execution_count": 4,
     "metadata": {},
     "output_type": "execute_result"
    }
   ],
   "source": [
    "os.listdir(CV_DP)"
   ]
  },
  {
   "cell_type": "code",
   "execution_count": 5,
   "id": "bc67ab9b",
   "metadata": {},
   "outputs": [
    {
     "name": "stderr",
     "output_type": "stream",
     "text": [
      "/tmp/ipykernel_8836/3704487974.py:4: DtypeWarning: Columns (5,6) have mixed types. Specify dtype option on import or set low_memory=False.\n",
      "  df_validated = pd.read_csv(os.path.join(CV_DP, 'validated.tsv'), delimiter='\\t')\n",
      "2022-03-27 14:08:07,139:STT:DEBUG:df_train.shape: (314305, 10)\n",
      "2022-03-27 14:08:07,140:STT:DEBUG:df_dev.shape: (15803, 10)\n",
      "2022-03-27 14:08:07,140:STT:DEBUG:df_test.shape: (15801, 10)\n",
      "2022-03-27 14:08:07,141:STT:DEBUG:df_validated.shape: (677936, 10)\n",
      "2022-03-27 14:08:07,141:STT:DEBUG:df_invalidated.shape: (22178, 10)\n",
      "2022-03-27 14:08:07,142:STT:DEBUG:df_other.shape: (40596, 10)\n",
      "2022-03-27 14:08:07,142:STT:DEBUG:df_reported.shape: (3082, 4)\n"
     ]
    }
   ],
   "source": [
    "df_train = pd.read_csv(os.path.join(CV_DP, 'train.tsv'), delimiter='\\t')\n",
    "df_dev = pd.read_csv(os.path.join(CV_DP, 'dev.tsv'), delimiter='\\t')\n",
    "df_test = pd.read_csv(os.path.join(CV_DP, 'test.tsv'), delimiter='\\t')\n",
    "df_validated = pd.read_csv(os.path.join(CV_DP, 'validated.tsv'), delimiter='\\t')\n",
    "df_invalidated = pd.read_csv(os.path.join(CV_DP, 'invalidated.tsv'), delimiter='\\t')\n",
    "df_other = pd.read_csv(os.path.join(CV_DP, 'other.tsv'), delimiter='\\t')\n",
    "df_reported = pd.read_csv(os.path.join(CV_DP, 'reported.tsv'), delimiter='\\t')\n",
    "\n",
    "logger.debug(f'df_train.shape: {df_train.shape}')\n",
    "logger.debug(f'df_dev.shape: {df_dev.shape}')\n",
    "logger.debug(f'df_test.shape: {df_test.shape}')\n",
    "logger.debug(f'df_validated.shape: {df_validated.shape}')\n",
    "logger.debug(f'df_invalidated.shape: {df_invalidated.shape}')\n",
    "logger.debug(f'df_other.shape: {df_other.shape}')\n",
    "logger.debug(f'df_reported.shape: {df_reported.shape}')"
   ]
  },
  {
   "cell_type": "code",
   "execution_count": 6,
   "id": "5d49c894",
   "metadata": {},
   "outputs": [],
   "source": [
    "# do not include `df_reported` as it contains info about sentences, not clips\n",
    "frames = [df_train, df_dev, df_test, df_validated, df_invalidated, df_other]\n",
    "names = ['df_train', 'df_dev', 'df_test', 'df_validated', 'df_invalidated', 'df_other']"
   ]
  },
  {
   "cell_type": "code",
   "execution_count": null,
   "id": "b2933c75",
   "metadata": {},
   "outputs": [],
   "source": []
  },
  {
   "cell_type": "code",
   "execution_count": 7,
   "id": "e3a8931b",
   "metadata": {},
   "outputs": [
    {
     "data": {
      "text/html": [
       "<div>\n",
       "<style scoped>\n",
       "    .dataframe tbody tr th:only-of-type {\n",
       "        vertical-align: middle;\n",
       "    }\n",
       "\n",
       "    .dataframe tbody tr th {\n",
       "        vertical-align: top;\n",
       "    }\n",
       "\n",
       "    .dataframe thead th {\n",
       "        text-align: right;\n",
       "    }\n",
       "</style>\n",
       "<table border=\"1\" class=\"dataframe\">\n",
       "  <thead>\n",
       "    <tr style=\"text-align: right;\">\n",
       "      <th></th>\n",
       "      <th>client_id</th>\n",
       "      <th>path</th>\n",
       "      <th>sentence</th>\n",
       "      <th>up_votes</th>\n",
       "      <th>down_votes</th>\n",
       "      <th>age</th>\n",
       "      <th>gender</th>\n",
       "      <th>accents</th>\n",
       "      <th>locale</th>\n",
       "      <th>segment</th>\n",
       "    </tr>\n",
       "  </thead>\n",
       "  <tbody>\n",
       "    <tr>\n",
       "      <th>0</th>\n",
       "      <td>9356b041bf9c40eb40bc036a354b69f47709e0cae8d619...</td>\n",
       "      <td>common_voice_be_29365148.mp3</td>\n",
       "      <td>Прыкладам таму можа быць мой уласны досвед.</td>\n",
       "      <td>2</td>\n",
       "      <td>0</td>\n",
       "      <td>NaN</td>\n",
       "      <td>NaN</td>\n",
       "      <td>NaN</td>\n",
       "      <td>be</td>\n",
       "      <td>NaN</td>\n",
       "    </tr>\n",
       "    <tr>\n",
       "      <th>1</th>\n",
       "      <td>9356b041bf9c40eb40bc036a354b69f47709e0cae8d619...</td>\n",
       "      <td>common_voice_be_29365149.mp3</td>\n",
       "      <td>У яго было столькі пазітыву і таланту, што хап...</td>\n",
       "      <td>2</td>\n",
       "      <td>1</td>\n",
       "      <td>NaN</td>\n",
       "      <td>NaN</td>\n",
       "      <td>NaN</td>\n",
       "      <td>be</td>\n",
       "      <td>NaN</td>\n",
       "    </tr>\n",
       "    <tr>\n",
       "      <th>2</th>\n",
       "      <td>9356b041bf9c40eb40bc036a354b69f47709e0cae8d619...</td>\n",
       "      <td>common_voice_be_29365150.mp3</td>\n",
       "      <td>Малады хлопец, кандыдат мастацтвазнаўства, вел...</td>\n",
       "      <td>2</td>\n",
       "      <td>0</td>\n",
       "      <td>NaN</td>\n",
       "      <td>NaN</td>\n",
       "      <td>NaN</td>\n",
       "      <td>be</td>\n",
       "      <td>NaN</td>\n",
       "    </tr>\n",
       "  </tbody>\n",
       "</table>\n",
       "</div>"
      ],
      "text/plain": [
       "                                           client_id  \\\n",
       "0  9356b041bf9c40eb40bc036a354b69f47709e0cae8d619...   \n",
       "1  9356b041bf9c40eb40bc036a354b69f47709e0cae8d619...   \n",
       "2  9356b041bf9c40eb40bc036a354b69f47709e0cae8d619...   \n",
       "\n",
       "                           path  \\\n",
       "0  common_voice_be_29365148.mp3   \n",
       "1  common_voice_be_29365149.mp3   \n",
       "2  common_voice_be_29365150.mp3   \n",
       "\n",
       "                                            sentence  up_votes  down_votes  \\\n",
       "0        Прыкладам таму можа быць мой уласны досвед.         2           0   \n",
       "1  У яго было столькі пазітыву і таланту, што хап...         2           1   \n",
       "2  Малады хлопец, кандыдат мастацтвазнаўства, вел...         2           0   \n",
       "\n",
       "   age gender  accents locale  segment  \n",
       "0  NaN    NaN      NaN     be      NaN  \n",
       "1  NaN    NaN      NaN     be      NaN  \n",
       "2  NaN    NaN      NaN     be      NaN  "
      ]
     },
     "execution_count": 7,
     "metadata": {},
     "output_type": "execute_result"
    }
   ],
   "source": [
    "df_train.head(3)"
   ]
  },
  {
   "cell_type": "code",
   "execution_count": 8,
   "id": "3485f520",
   "metadata": {},
   "outputs": [
    {
     "data": {
      "text/html": [
       "<div>\n",
       "<style scoped>\n",
       "    .dataframe tbody tr th:only-of-type {\n",
       "        vertical-align: middle;\n",
       "    }\n",
       "\n",
       "    .dataframe tbody tr th {\n",
       "        vertical-align: top;\n",
       "    }\n",
       "\n",
       "    .dataframe thead th {\n",
       "        text-align: right;\n",
       "    }\n",
       "</style>\n",
       "<table border=\"1\" class=\"dataframe\">\n",
       "  <thead>\n",
       "    <tr style=\"text-align: right;\">\n",
       "      <th></th>\n",
       "      <th>sentence</th>\n",
       "      <th>sentence_id</th>\n",
       "      <th>locale</th>\n",
       "      <th>reason</th>\n",
       "    </tr>\n",
       "  </thead>\n",
       "  <tbody>\n",
       "    <tr>\n",
       "      <th>0</th>\n",
       "      <td>Падводная частка катлавіна карытападобнай формы.</td>\n",
       "      <td>011985f231b245445d4caa543609c45e7f79d5081358cf...</td>\n",
       "      <td>be</td>\n",
       "      <td>grammar-or-spelling</td>\n",
       "    </tr>\n",
       "    <tr>\n",
       "      <th>1</th>\n",
       "      <td>Усё жыццё займаўся праблемамі уніфікацыі і ста...</td>\n",
       "      <td>012272ad82d20200aa7edb1d1b191d3e5660e3781a339d...</td>\n",
       "      <td>be</td>\n",
       "      <td>grammar-or-spelling</td>\n",
       "    </tr>\n",
       "    <tr>\n",
       "      <th>2</th>\n",
       "      <td>Па пачатку не прызнаная народам іншаземка хутк...</td>\n",
       "      <td>01428fe764265a76b0d8ba98abafbd1ff8a5c465e6432c...</td>\n",
       "      <td>be</td>\n",
       "      <td>grammar-or-spelling</td>\n",
       "    </tr>\n",
       "  </tbody>\n",
       "</table>\n",
       "</div>"
      ],
      "text/plain": [
       "                                            sentence  \\\n",
       "0   Падводная частка катлавіна карытападобнай формы.   \n",
       "1  Усё жыццё займаўся праблемамі уніфікацыі і ста...   \n",
       "2  Па пачатку не прызнаная народам іншаземка хутк...   \n",
       "\n",
       "                                         sentence_id locale  \\\n",
       "0  011985f231b245445d4caa543609c45e7f79d5081358cf...     be   \n",
       "1  012272ad82d20200aa7edb1d1b191d3e5660e3781a339d...     be   \n",
       "2  01428fe764265a76b0d8ba98abafbd1ff8a5c465e6432c...     be   \n",
       "\n",
       "                reason  \n",
       "0  grammar-or-spelling  \n",
       "1  grammar-or-spelling  \n",
       "2  grammar-or-spelling  "
      ]
     },
     "execution_count": 8,
     "metadata": {},
     "output_type": "execute_result"
    }
   ],
   "source": [
    "df_reported.head(3)"
   ]
  },
  {
   "cell_type": "code",
   "execution_count": null,
   "id": "cb0c2afa",
   "metadata": {},
   "outputs": [],
   "source": []
  },
  {
   "cell_type": "code",
   "execution_count": null,
   "id": "2b683a67",
   "metadata": {},
   "outputs": [],
   "source": []
  },
  {
   "cell_type": "markdown",
   "id": "65eb1f38",
   "metadata": {},
   "source": [
    "## check duplicates & nans"
   ]
  },
  {
   "cell_type": "code",
   "execution_count": 9,
   "id": "9bf0fb93",
   "metadata": {},
   "outputs": [
    {
     "data": {
      "text/html": [
       "<div>\n",
       "<style scoped>\n",
       "    .dataframe tbody tr th:only-of-type {\n",
       "        vertical-align: middle;\n",
       "    }\n",
       "\n",
       "    .dataframe tbody tr th {\n",
       "        vertical-align: top;\n",
       "    }\n",
       "\n",
       "    .dataframe thead th {\n",
       "        text-align: right;\n",
       "    }\n",
       "</style>\n",
       "<table border=\"1\" class=\"dataframe\">\n",
       "  <thead>\n",
       "    <tr style=\"text-align: right;\">\n",
       "      <th></th>\n",
       "      <th>client_id</th>\n",
       "      <th>path</th>\n",
       "      <th>sentence</th>\n",
       "      <th>up_votes</th>\n",
       "      <th>down_votes</th>\n",
       "      <th>age</th>\n",
       "      <th>gender</th>\n",
       "      <th>accents</th>\n",
       "      <th>locale</th>\n",
       "      <th>segment</th>\n",
       "    </tr>\n",
       "  </thead>\n",
       "  <tbody>\n",
       "    <tr>\n",
       "      <th>0</th>\n",
       "      <td>9356b041bf9c40eb40bc036a354b69f47709e0cae8d619...</td>\n",
       "      <td>common_voice_be_29365148.mp3</td>\n",
       "      <td>Прыкладам таму можа быць мой уласны досвед.</td>\n",
       "      <td>2</td>\n",
       "      <td>0</td>\n",
       "      <td>NaN</td>\n",
       "      <td>NaN</td>\n",
       "      <td>NaN</td>\n",
       "      <td>be</td>\n",
       "      <td>NaN</td>\n",
       "    </tr>\n",
       "    <tr>\n",
       "      <th>1</th>\n",
       "      <td>9356b041bf9c40eb40bc036a354b69f47709e0cae8d619...</td>\n",
       "      <td>common_voice_be_29365149.mp3</td>\n",
       "      <td>У яго было столькі пазітыву і таланту, што хап...</td>\n",
       "      <td>2</td>\n",
       "      <td>1</td>\n",
       "      <td>NaN</td>\n",
       "      <td>NaN</td>\n",
       "      <td>NaN</td>\n",
       "      <td>be</td>\n",
       "      <td>NaN</td>\n",
       "    </tr>\n",
       "  </tbody>\n",
       "</table>\n",
       "</div>"
      ],
      "text/plain": [
       "                                           client_id  \\\n",
       "0  9356b041bf9c40eb40bc036a354b69f47709e0cae8d619...   \n",
       "1  9356b041bf9c40eb40bc036a354b69f47709e0cae8d619...   \n",
       "\n",
       "                           path  \\\n",
       "0  common_voice_be_29365148.mp3   \n",
       "1  common_voice_be_29365149.mp3   \n",
       "\n",
       "                                            sentence  up_votes  down_votes  \\\n",
       "0        Прыкладам таму можа быць мой уласны досвед.         2           0   \n",
       "1  У яго было столькі пазітыву і таланту, што хап...         2           1   \n",
       "\n",
       "   age gender  accents locale  segment  \n",
       "0  NaN    NaN      NaN     be      NaN  \n",
       "1  NaN    NaN      NaN     be      NaN  "
      ]
     },
     "execution_count": 9,
     "metadata": {},
     "output_type": "execute_result"
    }
   ],
   "source": [
    "df_train.head(2)"
   ]
  },
  {
   "cell_type": "code",
   "execution_count": 10,
   "id": "64e2d3fb",
   "metadata": {},
   "outputs": [
    {
     "name": "stderr",
     "output_type": "stream",
     "text": [
      "2022-03-27 14:08:07,311:STT:DEBUG:df_train        # duplicates: 0. # nans: 0\n",
      "2022-03-27 14:08:07,320:STT:DEBUG:df_dev          # duplicates: 0. # nans: 0\n",
      "2022-03-27 14:08:07,328:STT:DEBUG:df_test         # duplicates: 0. # nans: 0\n",
      "2022-03-27 14:08:07,644:STT:DEBUG:df_validated    # duplicates: 0. # nans: 0\n",
      "2022-03-27 14:08:07,656:STT:DEBUG:df_invalidated  # duplicates: 0. # nans: 0\n",
      "2022-03-27 14:08:07,673:STT:DEBUG:df_other        # duplicates: 0. # nans: 0\n"
     ]
    }
   ],
   "source": [
    "cols_to_check = ['client_id', 'path', 'sentence', 'up_votes', 'down_votes']\n",
    "for _frame, _name in zip(frames, names):\n",
    "    n_nans = _frame[cols_to_check].isna().sum().sum()\n",
    "    n_dups = _frame.duplicated('path').sum()\n",
    "    logger.debug(f'{_name :<15} # duplicates: {n_dups}. # nans: {n_nans}')"
   ]
  },
  {
   "cell_type": "code",
   "execution_count": null,
   "id": "0fec1731",
   "metadata": {},
   "outputs": [],
   "source": []
  },
  {
   "cell_type": "markdown",
   "id": "263e1bf5",
   "metadata": {},
   "source": [
    "## check splits overlap"
   ]
  },
  {
   "cell_type": "code",
   "execution_count": null,
   "id": "edbcbc47",
   "metadata": {},
   "outputs": [],
   "source": []
  },
  {
   "cell_type": "markdown",
   "id": "f2044aff",
   "metadata": {},
   "source": [
    "### user ids. users do not overlap between folds\n"
   ]
  },
  {
   "cell_type": "code",
   "execution_count": 11,
   "id": "5d67e32c",
   "metadata": {},
   "outputs": [
    {
     "data": {
      "text/html": [
       "<div>\n",
       "<style scoped>\n",
       "    .dataframe tbody tr th:only-of-type {\n",
       "        vertical-align: middle;\n",
       "    }\n",
       "\n",
       "    .dataframe tbody tr th {\n",
       "        vertical-align: top;\n",
       "    }\n",
       "\n",
       "    .dataframe thead th {\n",
       "        text-align: right;\n",
       "    }\n",
       "</style>\n",
       "<table border=\"1\" class=\"dataframe\">\n",
       "  <thead>\n",
       "    <tr style=\"text-align: right;\">\n",
       "      <th></th>\n",
       "      <th>df_train</th>\n",
       "      <th>df_dev</th>\n",
       "      <th>df_test</th>\n",
       "      <th>df_validated</th>\n",
       "      <th>df_invalidated</th>\n",
       "      <th>df_other</th>\n",
       "    </tr>\n",
       "  </thead>\n",
       "  <tbody>\n",
       "    <tr>\n",
       "      <th>df_train</th>\n",
       "      <td>2222</td>\n",
       "      <td>0</td>\n",
       "      <td>0</td>\n",
       "      <td>2222</td>\n",
       "      <td>1804</td>\n",
       "      <td>556</td>\n",
       "    </tr>\n",
       "    <tr>\n",
       "      <th>df_dev</th>\n",
       "      <td>0</td>\n",
       "      <td>1017</td>\n",
       "      <td>0</td>\n",
       "      <td>1017</td>\n",
       "      <td>528</td>\n",
       "      <td>81</td>\n",
       "    </tr>\n",
       "    <tr>\n",
       "      <th>df_test</th>\n",
       "      <td>0</td>\n",
       "      <td>0</td>\n",
       "      <td>2779</td>\n",
       "      <td>2779</td>\n",
       "      <td>998</td>\n",
       "      <td>103</td>\n",
       "    </tr>\n",
       "    <tr>\n",
       "      <th>df_validated</th>\n",
       "      <td>2222</td>\n",
       "      <td>1017</td>\n",
       "      <td>2779</td>\n",
       "      <td>6018</td>\n",
       "      <td>3330</td>\n",
       "      <td>740</td>\n",
       "    </tr>\n",
       "    <tr>\n",
       "      <th>df_invalidated</th>\n",
       "      <td>1804</td>\n",
       "      <td>528</td>\n",
       "      <td>998</td>\n",
       "      <td>3330</td>\n",
       "      <td>3384</td>\n",
       "      <td>559</td>\n",
       "    </tr>\n",
       "    <tr>\n",
       "      <th>df_other</th>\n",
       "      <td>556</td>\n",
       "      <td>81</td>\n",
       "      <td>103</td>\n",
       "      <td>740</td>\n",
       "      <td>559</td>\n",
       "      <td>831</td>\n",
       "    </tr>\n",
       "  </tbody>\n",
       "</table>\n",
       "</div>"
      ],
      "text/plain": [
       "                df_train  df_dev  df_test  df_validated  df_invalidated  \\\n",
       "df_train            2222       0        0          2222            1804   \n",
       "df_dev                 0    1017        0          1017             528   \n",
       "df_test                0       0     2779          2779             998   \n",
       "df_validated        2222    1017     2779          6018            3330   \n",
       "df_invalidated      1804     528      998          3330            3384   \n",
       "df_other             556      81      103           740             559   \n",
       "\n",
       "                df_other  \n",
       "df_train             556  \n",
       "df_dev                81  \n",
       "df_test              103  \n",
       "df_validated         740  \n",
       "df_invalidated       559  \n",
       "df_other             831  "
      ]
     },
     "execution_count": 11,
     "metadata": {},
     "output_type": "execute_result"
    }
   ],
   "source": [
    "stats = [\n",
    "    [len(set(frames[i]['client_id']).intersection(frames[j]['client_id'])) for j in range(len(frames))]\n",
    "    for i in range(len(frames))\n",
    "]\n",
    "pd.DataFrame(stats, columns=names, index=names)"
   ]
  },
  {
   "cell_type": "code",
   "execution_count": 12,
   "id": "291d7c99",
   "metadata": {},
   "outputs": [],
   "source": [
    "assert sum(x['client_id'].nunique() for x in frames[:3]) == df_validated['client_id'].nunique()"
   ]
  },
  {
   "cell_type": "code",
   "execution_count": 13,
   "id": "30803086",
   "metadata": {},
   "outputs": [
    {
     "name": "stderr",
     "output_type": "stream",
     "text": [
      "2022-03-27 14:08:08,405:STT:DEBUG:users_total: 6160\n"
     ]
    }
   ],
   "source": [
    "users_total = len(set().union(*[x['client_id'] for x in frames]))\n",
    "logger.debug(f'users_total: {users_total}')"
   ]
  },
  {
   "cell_type": "code",
   "execution_count": null,
   "id": "b2c58b32",
   "metadata": {},
   "outputs": [],
   "source": []
  },
  {
   "cell_type": "code",
   "execution_count": null,
   "id": "35c43bdc",
   "metadata": {},
   "outputs": [],
   "source": []
  },
  {
   "cell_type": "markdown",
   "id": "c55d535c",
   "metadata": {},
   "source": [
    "### sentences. sentences not overlap between folds\n",
    "\n",
    "TODO:\n",
    "* there are sentences both in `df_reported` and in `df_train`, etc."
   ]
  },
  {
   "cell_type": "code",
   "execution_count": 14,
   "id": "cf222c7d",
   "metadata": {},
   "outputs": [
    {
     "data": {
      "text/html": [
       "<div>\n",
       "<style scoped>\n",
       "    .dataframe tbody tr th:only-of-type {\n",
       "        vertical-align: middle;\n",
       "    }\n",
       "\n",
       "    .dataframe tbody tr th {\n",
       "        vertical-align: top;\n",
       "    }\n",
       "\n",
       "    .dataframe thead th {\n",
       "        text-align: right;\n",
       "    }\n",
       "</style>\n",
       "<table border=\"1\" class=\"dataframe\">\n",
       "  <thead>\n",
       "    <tr style=\"text-align: right;\">\n",
       "      <th></th>\n",
       "      <th>df_train</th>\n",
       "      <th>df_dev</th>\n",
       "      <th>df_test</th>\n",
       "      <th>df_validated</th>\n",
       "      <th>df_invalidated</th>\n",
       "      <th>df_other</th>\n",
       "      <th>df_reported</th>\n",
       "    </tr>\n",
       "  </thead>\n",
       "  <tbody>\n",
       "    <tr>\n",
       "      <th>df_train</th>\n",
       "      <td>314305</td>\n",
       "      <td>0</td>\n",
       "      <td>0</td>\n",
       "      <td>314305</td>\n",
       "      <td>19163</td>\n",
       "      <td>26535</td>\n",
       "      <td>1756</td>\n",
       "    </tr>\n",
       "    <tr>\n",
       "      <th>df_dev</th>\n",
       "      <td>0</td>\n",
       "      <td>15803</td>\n",
       "      <td>0</td>\n",
       "      <td>15803</td>\n",
       "      <td>677</td>\n",
       "      <td>1292</td>\n",
       "      <td>206</td>\n",
       "    </tr>\n",
       "    <tr>\n",
       "      <th>df_test</th>\n",
       "      <td>0</td>\n",
       "      <td>0</td>\n",
       "      <td>15801</td>\n",
       "      <td>15801</td>\n",
       "      <td>701</td>\n",
       "      <td>1489</td>\n",
       "      <td>198</td>\n",
       "    </tr>\n",
       "    <tr>\n",
       "      <th>df_validated</th>\n",
       "      <td>314305</td>\n",
       "      <td>15803</td>\n",
       "      <td>15801</td>\n",
       "      <td>345909</td>\n",
       "      <td>20541</td>\n",
       "      <td>29316</td>\n",
       "      <td>2160</td>\n",
       "    </tr>\n",
       "    <tr>\n",
       "      <th>df_invalidated</th>\n",
       "      <td>19163</td>\n",
       "      <td>677</td>\n",
       "      <td>701</td>\n",
       "      <td>20541</td>\n",
       "      <td>21564</td>\n",
       "      <td>1524</td>\n",
       "      <td>408</td>\n",
       "    </tr>\n",
       "    <tr>\n",
       "      <th>df_other</th>\n",
       "      <td>26535</td>\n",
       "      <td>1292</td>\n",
       "      <td>1489</td>\n",
       "      <td>29316</td>\n",
       "      <td>1524</td>\n",
       "      <td>29687</td>\n",
       "      <td>266</td>\n",
       "    </tr>\n",
       "    <tr>\n",
       "      <th>df_reported</th>\n",
       "      <td>1756</td>\n",
       "      <td>206</td>\n",
       "      <td>198</td>\n",
       "      <td>2160</td>\n",
       "      <td>408</td>\n",
       "      <td>266</td>\n",
       "      <td>2199</td>\n",
       "    </tr>\n",
       "  </tbody>\n",
       "</table>\n",
       "</div>"
      ],
      "text/plain": [
       "                df_train  df_dev  df_test  df_validated  df_invalidated  \\\n",
       "df_train          314305       0        0        314305           19163   \n",
       "df_dev                 0   15803        0         15803             677   \n",
       "df_test                0       0    15801         15801             701   \n",
       "df_validated      314305   15803    15801        345909           20541   \n",
       "df_invalidated     19163     677      701         20541           21564   \n",
       "df_other           26535    1292     1489         29316            1524   \n",
       "df_reported         1756     206      198          2160             408   \n",
       "\n",
       "                df_other  df_reported  \n",
       "df_train           26535         1756  \n",
       "df_dev              1292          206  \n",
       "df_test             1489          198  \n",
       "df_validated       29316         2160  \n",
       "df_invalidated      1524          408  \n",
       "df_other           29687          266  \n",
       "df_reported          266         2199  "
      ]
     },
     "execution_count": 14,
     "metadata": {},
     "output_type": "execute_result"
    }
   ],
   "source": [
    "stats = [\n",
    "    [len(set(f1['sentence']).intersection(f2['sentence'])) \n",
    "     for f2 in frames + [df_reported]\n",
    "    ]\n",
    "    for f1 in frames + [df_reported]\n",
    "]\n",
    "pd.DataFrame(stats, columns=names + ['df_reported'], index=names + ['df_reported'])"
   ]
  },
  {
   "cell_type": "code",
   "execution_count": 15,
   "id": "83722079",
   "metadata": {},
   "outputs": [],
   "source": [
    "assert sum([x['sentence'].nunique() for x in frames[:3]]) == df_validated['sentence'].nunique()"
   ]
  },
  {
   "cell_type": "code",
   "execution_count": 16,
   "id": "3bd6d58e",
   "metadata": {},
   "outputs": [
    {
     "name": "stderr",
     "output_type": "stream",
     "text": [
      "2022-03-27 14:08:12,244:STT:DEBUG:sentences total: 347010\n"
     ]
    }
   ],
   "source": [
    "users_total = len(set().union(*[x['sentence'] for x in frames]))\n",
    "logger.debug(f'sentences total: {users_total}')"
   ]
  },
  {
   "cell_type": "code",
   "execution_count": null,
   "id": "7ac42c30",
   "metadata": {},
   "outputs": [],
   "source": []
  },
  {
   "cell_type": "markdown",
   "id": "9780cd70",
   "metadata": {},
   "source": [
    "#### each sentence was voiced only once in each split"
   ]
  },
  {
   "cell_type": "code",
   "execution_count": 17,
   "id": "2baa0a6d",
   "metadata": {},
   "outputs": [
    {
     "name": "stderr",
     "output_type": "stream",
     "text": [
      "2022-03-27 14:08:12,253:STT:DEBUG:df_train:\n"
     ]
    },
    {
     "data": {
      "text/plain": [
       "1    314305\n",
       "dtype: int64"
      ]
     },
     "metadata": {},
     "output_type": "display_data"
    },
    {
     "name": "stderr",
     "output_type": "stream",
     "text": [
      "2022-03-27 14:08:12,691:STT:DEBUG:df_dev:\n"
     ]
    },
    {
     "data": {
      "text/plain": [
       "1    15803\n",
       "dtype: int64"
      ]
     },
     "metadata": {},
     "output_type": "display_data"
    },
    {
     "name": "stderr",
     "output_type": "stream",
     "text": [
      "2022-03-27 14:08:12,706:STT:DEBUG:df_test:\n"
     ]
    },
    {
     "data": {
      "text/plain": [
       "1    15801\n",
       "dtype: int64"
      ]
     },
     "metadata": {},
     "output_type": "display_data"
    }
   ],
   "source": [
    "for _frame, _name in zip(frames[:3], names[:3]):\n",
    "    logger.debug(f'{_name}:')\n",
    "    display(_frame.groupby(['sentence']).size().value_counts(dropna=False).sort_index())"
   ]
  },
  {
   "cell_type": "code",
   "execution_count": null,
   "id": "dcb897a7",
   "metadata": {},
   "outputs": [],
   "source": []
  },
  {
   "cell_type": "markdown",
   "id": "f942a684",
   "metadata": {},
   "source": [
    "#### `df_validated` contains multiple voicings of same sentences"
   ]
  },
  {
   "cell_type": "code",
   "execution_count": 18,
   "id": "3283ad97",
   "metadata": {},
   "outputs": [
    {
     "data": {
      "text/plain": [
       "1     36700\n",
       "2    286781\n",
       "3     22058\n",
       "4       351\n",
       "5        18\n",
       "6         1\n",
       "dtype: int64"
      ]
     },
     "execution_count": 18,
     "metadata": {},
     "output_type": "execute_result"
    }
   ],
   "source": [
    "df_validated.groupby(['sentence']).size().value_counts(dropna=False).sort_index()"
   ]
  },
  {
   "cell_type": "code",
   "execution_count": null,
   "id": "b9a079a3",
   "metadata": {},
   "outputs": [],
   "source": []
  },
  {
   "cell_type": "markdown",
   "id": "babf5a72",
   "metadata": {},
   "source": [
    "#### no clip was voiced > 1 times by single person"
   ]
  },
  {
   "cell_type": "code",
   "execution_count": 19,
   "id": "b0ca3183",
   "metadata": {},
   "outputs": [
    {
     "data": {
      "text/plain": [
       "1    677936\n",
       "dtype: int64"
      ]
     },
     "execution_count": 19,
     "metadata": {},
     "output_type": "execute_result"
    }
   ],
   "source": [
    "df_validated.groupby(['client_id', 'sentence']).size().value_counts()"
   ]
  },
  {
   "cell_type": "code",
   "execution_count": null,
   "id": "0abb9180",
   "metadata": {},
   "outputs": [],
   "source": []
  },
  {
   "cell_type": "markdown",
   "id": "c2636d21",
   "metadata": {},
   "source": [
    "### clips"
   ]
  },
  {
   "cell_type": "code",
   "execution_count": 20,
   "id": "0f1a90a3",
   "metadata": {},
   "outputs": [
    {
     "data": {
      "text/html": [
       "<div>\n",
       "<style scoped>\n",
       "    .dataframe tbody tr th:only-of-type {\n",
       "        vertical-align: middle;\n",
       "    }\n",
       "\n",
       "    .dataframe tbody tr th {\n",
       "        vertical-align: top;\n",
       "    }\n",
       "\n",
       "    .dataframe thead th {\n",
       "        text-align: right;\n",
       "    }\n",
       "</style>\n",
       "<table border=\"1\" class=\"dataframe\">\n",
       "  <thead>\n",
       "    <tr style=\"text-align: right;\">\n",
       "      <th></th>\n",
       "      <th>df_train</th>\n",
       "      <th>df_dev</th>\n",
       "      <th>df_test</th>\n",
       "      <th>df_validated</th>\n",
       "      <th>df_invalidated</th>\n",
       "      <th>df_other</th>\n",
       "    </tr>\n",
       "  </thead>\n",
       "  <tbody>\n",
       "    <tr>\n",
       "      <th>df_train</th>\n",
       "      <td>314305</td>\n",
       "      <td>0</td>\n",
       "      <td>0</td>\n",
       "      <td>314305</td>\n",
       "      <td>0</td>\n",
       "      <td>0</td>\n",
       "    </tr>\n",
       "    <tr>\n",
       "      <th>df_dev</th>\n",
       "      <td>0</td>\n",
       "      <td>15803</td>\n",
       "      <td>0</td>\n",
       "      <td>15803</td>\n",
       "      <td>0</td>\n",
       "      <td>0</td>\n",
       "    </tr>\n",
       "    <tr>\n",
       "      <th>df_test</th>\n",
       "      <td>0</td>\n",
       "      <td>0</td>\n",
       "      <td>15801</td>\n",
       "      <td>15801</td>\n",
       "      <td>0</td>\n",
       "      <td>0</td>\n",
       "    </tr>\n",
       "    <tr>\n",
       "      <th>df_validated</th>\n",
       "      <td>314305</td>\n",
       "      <td>15803</td>\n",
       "      <td>15801</td>\n",
       "      <td>677936</td>\n",
       "      <td>0</td>\n",
       "      <td>0</td>\n",
       "    </tr>\n",
       "    <tr>\n",
       "      <th>df_invalidated</th>\n",
       "      <td>0</td>\n",
       "      <td>0</td>\n",
       "      <td>0</td>\n",
       "      <td>0</td>\n",
       "      <td>22178</td>\n",
       "      <td>0</td>\n",
       "    </tr>\n",
       "    <tr>\n",
       "      <th>df_other</th>\n",
       "      <td>0</td>\n",
       "      <td>0</td>\n",
       "      <td>0</td>\n",
       "      <td>0</td>\n",
       "      <td>0</td>\n",
       "      <td>40596</td>\n",
       "    </tr>\n",
       "  </tbody>\n",
       "</table>\n",
       "</div>"
      ],
      "text/plain": [
       "                df_train  df_dev  df_test  df_validated  df_invalidated  \\\n",
       "df_train          314305       0        0        314305               0   \n",
       "df_dev                 0   15803        0         15803               0   \n",
       "df_test                0       0    15801         15801               0   \n",
       "df_validated      314305   15803    15801        677936               0   \n",
       "df_invalidated         0       0        0             0           22178   \n",
       "df_other               0       0        0             0               0   \n",
       "\n",
       "                df_other  \n",
       "df_train               0  \n",
       "df_dev                 0  \n",
       "df_test                0  \n",
       "df_validated           0  \n",
       "df_invalidated         0  \n",
       "df_other           40596  "
      ]
     },
     "execution_count": 20,
     "metadata": {},
     "output_type": "execute_result"
    }
   ],
   "source": [
    "stats = [\n",
    "    [len(set(frames[i]['path']).intersection(frames[j]['path'])) for j in range(len(frames))]\n",
    "    for i in range(len(frames))\n",
    "]\n",
    "pd.DataFrame(stats, columns=names, index=names)"
   ]
  },
  {
   "cell_type": "code",
   "execution_count": 21,
   "id": "89a9b0c7",
   "metadata": {},
   "outputs": [
    {
     "data": {
      "text/plain": [
       "False"
      ]
     },
     "execution_count": 21,
     "metadata": {},
     "output_type": "execute_result"
    }
   ],
   "source": [
    "sum([x['path'].nunique() for x in frames[:3]]) == df_validated['path'].nunique()"
   ]
  },
  {
   "cell_type": "code",
   "execution_count": null,
   "id": "1f4c4062",
   "metadata": {},
   "outputs": [],
   "source": []
  },
  {
   "cell_type": "markdown",
   "id": "d1513702",
   "metadata": {},
   "source": [
    "#### `df_validated` contains multiple voicings of same sentences"
   ]
  },
  {
   "cell_type": "code",
   "execution_count": 22,
   "id": "86868f9e",
   "metadata": {},
   "outputs": [
    {
     "name": "stdout",
     "output_type": "stream",
     "text": [
      "332027\n"
     ]
    }
   ],
   "source": [
    "x = set().union(*[x['path'] for x in frames[:3]])\n",
    "clips_from_diff = list(set(df_validated['path']).difference(x))\n",
    "print(len(clips_from_diff))"
   ]
  },
  {
   "cell_type": "code",
   "execution_count": 23,
   "id": "82c1b63d",
   "metadata": {},
   "outputs": [
    {
     "data": {
      "text/plain": [
       "['common_voice_be_30033538.mp3',\n",
       " 'common_voice_be_29743075.mp3',\n",
       " 'common_voice_be_29308635.mp3',\n",
       " 'common_voice_be_27305775.mp3']"
      ]
     },
     "execution_count": 23,
     "metadata": {},
     "output_type": "execute_result"
    }
   ],
   "source": [
    "clips_from_diff[:4]"
   ]
  },
  {
   "cell_type": "code",
   "execution_count": 24,
   "id": "8d5d8e78",
   "metadata": {},
   "outputs": [
    {
     "data": {
      "text/plain": [
       "(332027, 10)"
      ]
     },
     "execution_count": 24,
     "metadata": {},
     "output_type": "execute_result"
    }
   ],
   "source": [
    "check = df_validated[df_validated['path'].isin(clips_from_diff)].copy()\n",
    "check.shape"
   ]
  },
  {
   "cell_type": "code",
   "execution_count": 25,
   "id": "e3684495",
   "metadata": {},
   "outputs": [],
   "source": [
    "check.loc[check['sentence'].isin(df_train['sentence']), 'found_in'] = 'train'\n",
    "check.loc[check['sentence'].isin(df_dev['sentence']), 'found_in'] = 'dev'\n",
    "check.loc[check['sentence'].isin(df_test['sentence']), 'found_in'] = 'test'"
   ]
  },
  {
   "cell_type": "code",
   "execution_count": 26,
   "id": "ac78199a",
   "metadata": {},
   "outputs": [
    {
     "data": {
      "text/plain": [
       "train    298855\n",
       "dev       16588\n",
       "test      16584\n",
       "Name: found_in, dtype: int64"
      ]
     },
     "execution_count": 26,
     "metadata": {},
     "output_type": "execute_result"
    }
   ],
   "source": [
    "check['found_in'].value_counts(dropna=False)"
   ]
  },
  {
   "cell_type": "code",
   "execution_count": null,
   "id": "6897f803",
   "metadata": {},
   "outputs": [],
   "source": []
  },
  {
   "cell_type": "code",
   "execution_count": null,
   "id": "6383f961",
   "metadata": {},
   "outputs": [],
   "source": []
  },
  {
   "cell_type": "markdown",
   "id": "9f98cfdc",
   "metadata": {},
   "source": [
    "## can enlarge train/dev/test sets\n",
    "* can include > 1 voicing of same sentences to each split\n",
    "* train size increases in 2 times"
   ]
  },
  {
   "cell_type": "code",
   "execution_count": 27,
   "id": "27d5d678",
   "metadata": {},
   "outputs": [],
   "source": [
    "df_validated_2 = df_validated.copy()"
   ]
  },
  {
   "cell_type": "code",
   "execution_count": 28,
   "id": "5157fecf",
   "metadata": {},
   "outputs": [],
   "source": [
    "df_validated_2.loc[df_validated_2['sentence'].isin(df_train['sentence']), 'split'] = 'train'\n",
    "df_validated_2.loc[df_validated_2['sentence'].isin(df_dev['sentence']), 'split'] = 'dev'\n",
    "df_validated_2.loc[df_validated_2['sentence'].isin(df_test['sentence']), 'split'] = 'test'"
   ]
  },
  {
   "cell_type": "code",
   "execution_count": 29,
   "id": "2e1931bd",
   "metadata": {},
   "outputs": [
    {
     "data": {
      "text/plain": [
       "train    613160\n",
       "dev       32391\n",
       "test      32385\n",
       "Name: split, dtype: int64"
      ]
     },
     "execution_count": 29,
     "metadata": {},
     "output_type": "execute_result"
    }
   ],
   "source": [
    "df_validated_2['split'].value_counts(dropna=False)"
   ]
  },
  {
   "cell_type": "code",
   "execution_count": 30,
   "id": "9582d495",
   "metadata": {},
   "outputs": [],
   "source": [
    "assert (df_validated_2.groupby(['sentence'])['split'].nunique() == 1).all() == True"
   ]
  },
  {
   "cell_type": "code",
   "execution_count": null,
   "id": "81ec1d12",
   "metadata": {},
   "outputs": [],
   "source": []
  },
  {
   "cell_type": "markdown",
   "id": "926f228c",
   "metadata": {},
   "source": [
    "### number of voicings of same sentence"
   ]
  },
  {
   "cell_type": "code",
   "execution_count": 31,
   "id": "a4c2d58e",
   "metadata": {},
   "outputs": [],
   "source": [
    "voicings_dist = {}\n",
    "for split in ['train', 'dev', 'test']:\n",
    "    voicings_dist[split] = df_validated_2.query(\n",
    "        'split == @split')['sentence'].value_counts()"
   ]
  },
  {
   "cell_type": "code",
   "execution_count": 32,
   "id": "115b7085",
   "metadata": {},
   "outputs": [
    {
     "data": {
      "image/png": "[encoded data removed]",
      "text/plain": [
       "<Figure size 1296x360 with 3 Axes>"
      ]
     },
     "metadata": {},
     "output_type": "display_data"
    }
   ],
   "source": [
    "fig, ax = plt.subplots(1, 3, figsize=(3 * 6, 5))\n",
    "for split, _ax in zip(['train', 'dev', 'test'], ax):\n",
    "    voicings_dist[split].hist(bins=50, log=False, ax=_ax);\n",
    "    _ax.set_title(split);\n",
    "fig.suptitle('how many times each sentence was voiced. distribution.');"
   ]
  },
  {
   "cell_type": "code",
   "execution_count": 33,
   "id": "975191c3",
   "metadata": {},
   "outputs": [
    {
     "data": {
      "image/png": "[encoded data removed]",
      "text/plain": [
       "<Figure size 1296x360 with 3 Axes>"
      ]
     },
     "metadata": {},
     "output_type": "display_data"
    }
   ],
   "source": [
    "fig, ax = plt.subplots(1, 3, figsize=(3 * 6, 5))\n",
    "for split, _ax in zip(['train', 'dev', 'test'], ax):\n",
    "    voicings_dist[split].hist(bins=50, log=True, ax=_ax);\n",
    "    _ax.set_title(split);\n",
    "fig.suptitle('how many times each sentence was voiced. distribution. log scale');"
   ]
  },
  {
   "cell_type": "code",
   "execution_count": null,
   "id": "e9347a92",
   "metadata": {},
   "outputs": [],
   "source": []
  },
  {
   "cell_type": "code",
   "execution_count": null,
   "id": "87cd1b25",
   "metadata": {},
   "outputs": [],
   "source": []
  },
  {
   "cell_type": "markdown",
   "id": "5612b4f7",
   "metadata": {},
   "source": [
    "## upvotes vs downvotes"
   ]
  },
  {
   "cell_type": "code",
   "execution_count": 34,
   "id": "a4fbe5e8",
   "metadata": {},
   "outputs": [
    {
     "data": {
      "text/html": [
       "<div>\n",
       "<style scoped>\n",
       "    .dataframe tbody tr th:only-of-type {\n",
       "        vertical-align: middle;\n",
       "    }\n",
       "\n",
       "    .dataframe tbody tr th {\n",
       "        vertical-align: top;\n",
       "    }\n",
       "\n",
       "    .dataframe thead th {\n",
       "        text-align: right;\n",
       "    }\n",
       "</style>\n",
       "<table border=\"1\" class=\"dataframe\">\n",
       "  <thead>\n",
       "    <tr style=\"text-align: right;\">\n",
       "      <th>down_votes</th>\n",
       "      <th>0</th>\n",
       "      <th>1</th>\n",
       "      <th>2</th>\n",
       "      <th>3</th>\n",
       "      <th>4</th>\n",
       "    </tr>\n",
       "    <tr>\n",
       "      <th>up_votes</th>\n",
       "      <th></th>\n",
       "      <th></th>\n",
       "      <th></th>\n",
       "      <th></th>\n",
       "      <th></th>\n",
       "    </tr>\n",
       "  </thead>\n",
       "  <tbody>\n",
       "    <tr>\n",
       "      <th>2</th>\n",
       "      <td>589902</td>\n",
       "      <td>41511</td>\n",
       "      <td>0</td>\n",
       "      <td>0</td>\n",
       "      <td>0</td>\n",
       "    </tr>\n",
       "    <tr>\n",
       "      <th>3</th>\n",
       "      <td>39926</td>\n",
       "      <td>3314</td>\n",
       "      <td>729</td>\n",
       "      <td>0</td>\n",
       "      <td>0</td>\n",
       "    </tr>\n",
       "    <tr>\n",
       "      <th>4</th>\n",
       "      <td>2132</td>\n",
       "      <td>185</td>\n",
       "      <td>73</td>\n",
       "      <td>30</td>\n",
       "      <td>0</td>\n",
       "    </tr>\n",
       "    <tr>\n",
       "      <th>5</th>\n",
       "      <td>105</td>\n",
       "      <td>12</td>\n",
       "      <td>5</td>\n",
       "      <td>5</td>\n",
       "      <td>1</td>\n",
       "    </tr>\n",
       "    <tr>\n",
       "      <th>6</th>\n",
       "      <td>4</td>\n",
       "      <td>0</td>\n",
       "      <td>0</td>\n",
       "      <td>0</td>\n",
       "      <td>0</td>\n",
       "    </tr>\n",
       "    <tr>\n",
       "      <th>7</th>\n",
       "      <td>2</td>\n",
       "      <td>0</td>\n",
       "      <td>0</td>\n",
       "      <td>0</td>\n",
       "      <td>0</td>\n",
       "    </tr>\n",
       "  </tbody>\n",
       "</table>\n",
       "</div>"
      ],
      "text/plain": [
       "down_votes       0      1    2   3  4\n",
       "up_votes                             \n",
       "2           589902  41511    0   0  0\n",
       "3            39926   3314  729   0  0\n",
       "4             2132    185   73  30  0\n",
       "5              105     12    5   5  1\n",
       "6                4      0    0   0  0\n",
       "7                2      0    0   0  0"
      ]
     },
     "execution_count": 34,
     "metadata": {},
     "output_type": "execute_result"
    }
   ],
   "source": [
    "pd.crosstab(df_validated['up_votes'], df_validated['down_votes'])"
   ]
  },
  {
   "cell_type": "code",
   "execution_count": 35,
   "id": "6bc1a348",
   "metadata": {},
   "outputs": [
    {
     "data": {
      "text/html": [
       "<div>\n",
       "<style scoped>\n",
       "    .dataframe tbody tr th:only-of-type {\n",
       "        vertical-align: middle;\n",
       "    }\n",
       "\n",
       "    .dataframe tbody tr th {\n",
       "        vertical-align: top;\n",
       "    }\n",
       "\n",
       "    .dataframe thead th {\n",
       "        text-align: right;\n",
       "    }\n",
       "</style>\n",
       "<table border=\"1\" class=\"dataframe\">\n",
       "  <thead>\n",
       "    <tr style=\"text-align: right;\">\n",
       "      <th>down_votes</th>\n",
       "      <th>2</th>\n",
       "      <th>3</th>\n",
       "      <th>4</th>\n",
       "      <th>5</th>\n",
       "    </tr>\n",
       "    <tr>\n",
       "      <th>up_votes</th>\n",
       "      <th></th>\n",
       "      <th></th>\n",
       "      <th></th>\n",
       "      <th></th>\n",
       "    </tr>\n",
       "  </thead>\n",
       "  <tbody>\n",
       "    <tr>\n",
       "      <th>0</th>\n",
       "      <td>11112</td>\n",
       "      <td>588</td>\n",
       "      <td>30</td>\n",
       "      <td>0</td>\n",
       "    </tr>\n",
       "    <tr>\n",
       "      <th>1</th>\n",
       "      <td>9650</td>\n",
       "      <td>416</td>\n",
       "      <td>17</td>\n",
       "      <td>0</td>\n",
       "    </tr>\n",
       "    <tr>\n",
       "      <th>2</th>\n",
       "      <td>0</td>\n",
       "      <td>327</td>\n",
       "      <td>17</td>\n",
       "      <td>0</td>\n",
       "    </tr>\n",
       "    <tr>\n",
       "      <th>3</th>\n",
       "      <td>0</td>\n",
       "      <td>0</td>\n",
       "      <td>20</td>\n",
       "      <td>0</td>\n",
       "    </tr>\n",
       "    <tr>\n",
       "      <th>4</th>\n",
       "      <td>0</td>\n",
       "      <td>0</td>\n",
       "      <td>0</td>\n",
       "      <td>1</td>\n",
       "    </tr>\n",
       "  </tbody>\n",
       "</table>\n",
       "</div>"
      ],
      "text/plain": [
       "down_votes      2    3   4  5\n",
       "up_votes                     \n",
       "0           11112  588  30  0\n",
       "1            9650  416  17  0\n",
       "2               0  327  17  0\n",
       "3               0    0  20  0\n",
       "4               0    0   0  1"
      ]
     },
     "execution_count": 35,
     "metadata": {},
     "output_type": "execute_result"
    }
   ],
   "source": [
    "pd.crosstab(df_invalidated['up_votes'], df_invalidated['down_votes'])"
   ]
  },
  {
   "cell_type": "code",
   "execution_count": 36,
   "id": "0aec3a9f",
   "metadata": {},
   "outputs": [
    {
     "data": {
      "text/html": [
       "<div>\n",
       "<style scoped>\n",
       "    .dataframe tbody tr th:only-of-type {\n",
       "        vertical-align: middle;\n",
       "    }\n",
       "\n",
       "    .dataframe tbody tr th {\n",
       "        vertical-align: top;\n",
       "    }\n",
       "\n",
       "    .dataframe thead th {\n",
       "        text-align: right;\n",
       "    }\n",
       "</style>\n",
       "<table border=\"1\" class=\"dataframe\">\n",
       "  <thead>\n",
       "    <tr style=\"text-align: right;\">\n",
       "      <th>down_votes</th>\n",
       "      <th>2</th>\n",
       "      <th>3</th>\n",
       "      <th>4</th>\n",
       "      <th>5</th>\n",
       "    </tr>\n",
       "    <tr>\n",
       "      <th>up_votes</th>\n",
       "      <th></th>\n",
       "      <th></th>\n",
       "      <th></th>\n",
       "      <th></th>\n",
       "    </tr>\n",
       "  </thead>\n",
       "  <tbody>\n",
       "    <tr>\n",
       "      <th>0</th>\n",
       "      <td>19229</td>\n",
       "      <td>1183</td>\n",
       "      <td>74</td>\n",
       "      <td>1</td>\n",
       "    </tr>\n",
       "    <tr>\n",
       "      <th>1</th>\n",
       "      <td>1533</td>\n",
       "      <td>148</td>\n",
       "      <td>10</td>\n",
       "      <td>0</td>\n",
       "    </tr>\n",
       "  </tbody>\n",
       "</table>\n",
       "</div>"
      ],
      "text/plain": [
       "down_votes      2     3   4  5\n",
       "up_votes                      \n",
       "0           19229  1183  74  1\n",
       "1            1533   148  10  0"
      ]
     },
     "execution_count": 36,
     "metadata": {},
     "output_type": "execute_result"
    }
   ],
   "source": [
    "pd.crosstab(df_other['up_votes'], df_invalidated['down_votes'])"
   ]
  },
  {
   "cell_type": "code",
   "execution_count": null,
   "id": "8cd89342",
   "metadata": {},
   "outputs": [],
   "source": []
  },
  {
   "cell_type": "code",
   "execution_count": 37,
   "id": "ad413e12",
   "metadata": {},
   "outputs": [
    {
     "data": {
      "text/html": [
       "<div>\n",
       "<style scoped>\n",
       "    .dataframe tbody tr th:only-of-type {\n",
       "        vertical-align: middle;\n",
       "    }\n",
       "\n",
       "    .dataframe tbody tr th {\n",
       "        vertical-align: top;\n",
       "    }\n",
       "\n",
       "    .dataframe thead th {\n",
       "        text-align: right;\n",
       "    }\n",
       "</style>\n",
       "<table border=\"1\" class=\"dataframe\">\n",
       "  <thead>\n",
       "    <tr style=\"text-align: right;\">\n",
       "      <th>down_votes</th>\n",
       "      <th>0</th>\n",
       "      <th>1</th>\n",
       "      <th>2</th>\n",
       "      <th>3</th>\n",
       "      <th>4</th>\n",
       "    </tr>\n",
       "    <tr>\n",
       "      <th>up_votes</th>\n",
       "      <th></th>\n",
       "      <th></th>\n",
       "      <th></th>\n",
       "      <th></th>\n",
       "      <th></th>\n",
       "    </tr>\n",
       "  </thead>\n",
       "  <tbody>\n",
       "    <tr>\n",
       "      <th>2</th>\n",
       "      <td>270247</td>\n",
       "      <td>20528</td>\n",
       "      <td>0</td>\n",
       "      <td>0</td>\n",
       "      <td>0</td>\n",
       "    </tr>\n",
       "    <tr>\n",
       "      <th>3</th>\n",
       "      <td>20004</td>\n",
       "      <td>1747</td>\n",
       "      <td>405</td>\n",
       "      <td>0</td>\n",
       "      <td>0</td>\n",
       "    </tr>\n",
       "    <tr>\n",
       "      <th>4</th>\n",
       "      <td>1132</td>\n",
       "      <td>106</td>\n",
       "      <td>38</td>\n",
       "      <td>15</td>\n",
       "      <td>0</td>\n",
       "    </tr>\n",
       "    <tr>\n",
       "      <th>5</th>\n",
       "      <td>64</td>\n",
       "      <td>7</td>\n",
       "      <td>5</td>\n",
       "      <td>3</td>\n",
       "      <td>1</td>\n",
       "    </tr>\n",
       "    <tr>\n",
       "      <th>6</th>\n",
       "      <td>3</td>\n",
       "      <td>0</td>\n",
       "      <td>0</td>\n",
       "      <td>0</td>\n",
       "      <td>0</td>\n",
       "    </tr>\n",
       "  </tbody>\n",
       "</table>\n",
       "</div>"
      ],
      "text/plain": [
       "down_votes       0      1    2   3  4\n",
       "up_votes                             \n",
       "2           270247  20528    0   0  0\n",
       "3            20004   1747  405   0  0\n",
       "4             1132    106   38  15  0\n",
       "5               64      7    5   3  1\n",
       "6                3      0    0   0  0"
      ]
     },
     "execution_count": 37,
     "metadata": {},
     "output_type": "execute_result"
    }
   ],
   "source": [
    "pd.crosstab(df_train['up_votes'], df_train['down_votes'])"
   ]
  },
  {
   "cell_type": "code",
   "execution_count": 38,
   "id": "26444302",
   "metadata": {},
   "outputs": [
    {
     "data": {
      "text/html": [
       "<div>\n",
       "<style scoped>\n",
       "    .dataframe tbody tr th:only-of-type {\n",
       "        vertical-align: middle;\n",
       "    }\n",
       "\n",
       "    .dataframe tbody tr th {\n",
       "        vertical-align: top;\n",
       "    }\n",
       "\n",
       "    .dataframe thead th {\n",
       "        text-align: right;\n",
       "    }\n",
       "</style>\n",
       "<table border=\"1\" class=\"dataframe\">\n",
       "  <thead>\n",
       "    <tr style=\"text-align: right;\">\n",
       "      <th>down_votes</th>\n",
       "      <th>0</th>\n",
       "      <th>1</th>\n",
       "      <th>2</th>\n",
       "      <th>3</th>\n",
       "    </tr>\n",
       "    <tr>\n",
       "      <th>up_votes</th>\n",
       "      <th></th>\n",
       "      <th></th>\n",
       "      <th></th>\n",
       "      <th></th>\n",
       "    </tr>\n",
       "  </thead>\n",
       "  <tbody>\n",
       "    <tr>\n",
       "      <th>2</th>\n",
       "      <td>13002</td>\n",
       "      <td>1471</td>\n",
       "      <td>0</td>\n",
       "      <td>0</td>\n",
       "    </tr>\n",
       "    <tr>\n",
       "      <th>3</th>\n",
       "      <td>1074</td>\n",
       "      <td>149</td>\n",
       "      <td>32</td>\n",
       "      <td>0</td>\n",
       "    </tr>\n",
       "    <tr>\n",
       "      <th>4</th>\n",
       "      <td>65</td>\n",
       "      <td>3</td>\n",
       "      <td>2</td>\n",
       "      <td>1</td>\n",
       "    </tr>\n",
       "    <tr>\n",
       "      <th>5</th>\n",
       "      <td>3</td>\n",
       "      <td>0</td>\n",
       "      <td>0</td>\n",
       "      <td>1</td>\n",
       "    </tr>\n",
       "  </tbody>\n",
       "</table>\n",
       "</div>"
      ],
      "text/plain": [
       "down_votes      0     1   2  3\n",
       "up_votes                      \n",
       "2           13002  1471   0  0\n",
       "3            1074   149  32  0\n",
       "4              65     3   2  1\n",
       "5               3     0   0  1"
      ]
     },
     "execution_count": 38,
     "metadata": {},
     "output_type": "execute_result"
    }
   ],
   "source": [
    "pd.crosstab(df_dev['up_votes'], df_dev['down_votes'])"
   ]
  },
  {
   "cell_type": "code",
   "execution_count": 39,
   "id": "5b73c735",
   "metadata": {},
   "outputs": [
    {
     "data": {
      "text/html": [
       "<div>\n",
       "<style scoped>\n",
       "    .dataframe tbody tr th:only-of-type {\n",
       "        vertical-align: middle;\n",
       "    }\n",
       "\n",
       "    .dataframe tbody tr th {\n",
       "        vertical-align: top;\n",
       "    }\n",
       "\n",
       "    .dataframe thead th {\n",
       "        text-align: right;\n",
       "    }\n",
       "</style>\n",
       "<table border=\"1\" class=\"dataframe\">\n",
       "  <thead>\n",
       "    <tr style=\"text-align: right;\">\n",
       "      <th>down_votes</th>\n",
       "      <th>0</th>\n",
       "      <th>1</th>\n",
       "      <th>2</th>\n",
       "      <th>3</th>\n",
       "    </tr>\n",
       "    <tr>\n",
       "      <th>up_votes</th>\n",
       "      <th></th>\n",
       "      <th></th>\n",
       "      <th></th>\n",
       "      <th></th>\n",
       "    </tr>\n",
       "  </thead>\n",
       "  <tbody>\n",
       "    <tr>\n",
       "      <th>2</th>\n",
       "      <td>12738</td>\n",
       "      <td>1657</td>\n",
       "      <td>0</td>\n",
       "      <td>0</td>\n",
       "    </tr>\n",
       "    <tr>\n",
       "      <th>3</th>\n",
       "      <td>1087</td>\n",
       "      <td>168</td>\n",
       "      <td>59</td>\n",
       "      <td>0</td>\n",
       "    </tr>\n",
       "    <tr>\n",
       "      <th>4</th>\n",
       "      <td>68</td>\n",
       "      <td>9</td>\n",
       "      <td>9</td>\n",
       "      <td>2</td>\n",
       "    </tr>\n",
       "    <tr>\n",
       "      <th>5</th>\n",
       "      <td>4</td>\n",
       "      <td>0</td>\n",
       "      <td>0</td>\n",
       "      <td>0</td>\n",
       "    </tr>\n",
       "  </tbody>\n",
       "</table>\n",
       "</div>"
      ],
      "text/plain": [
       "down_votes      0     1   2  3\n",
       "up_votes                      \n",
       "2           12738  1657   0  0\n",
       "3            1087   168  59  0\n",
       "4              68     9   9  2\n",
       "5               4     0   0  0"
      ]
     },
     "execution_count": 39,
     "metadata": {},
     "output_type": "execute_result"
    }
   ],
   "source": [
    "pd.crosstab(df_test['up_votes'], df_test['down_votes'])"
   ]
  },
  {
   "cell_type": "code",
   "execution_count": null,
   "id": "687762b7",
   "metadata": {},
   "outputs": [],
   "source": []
  },
  {
   "cell_type": "markdown",
   "id": "6ce9a8bf",
   "metadata": {},
   "source": [
    "## reported sentences"
   ]
  },
  {
   "cell_type": "code",
   "execution_count": 40,
   "id": "15ccf571",
   "metadata": {},
   "outputs": [
    {
     "data": {
      "text/html": [
       "<div>\n",
       "<style scoped>\n",
       "    .dataframe tbody tr th:only-of-type {\n",
       "        vertical-align: middle;\n",
       "    }\n",
       "\n",
       "    .dataframe tbody tr th {\n",
       "        vertical-align: top;\n",
       "    }\n",
       "\n",
       "    .dataframe thead th {\n",
       "        text-align: right;\n",
       "    }\n",
       "</style>\n",
       "<table border=\"1\" class=\"dataframe\">\n",
       "  <thead>\n",
       "    <tr style=\"text-align: right;\">\n",
       "      <th></th>\n",
       "      <th>sentence</th>\n",
       "      <th>sentence_id</th>\n",
       "      <th>locale</th>\n",
       "      <th>reason</th>\n",
       "    </tr>\n",
       "  </thead>\n",
       "  <tbody>\n",
       "    <tr>\n",
       "      <th>0</th>\n",
       "      <td>Падводная частка катлавіна карытападобнай формы.</td>\n",
       "      <td>011985f231b245445d4caa543609c45e7f79d5081358cf...</td>\n",
       "      <td>be</td>\n",
       "      <td>grammar-or-spelling</td>\n",
       "    </tr>\n",
       "    <tr>\n",
       "      <th>1</th>\n",
       "      <td>Усё жыццё займаўся праблемамі уніфікацыі і ста...</td>\n",
       "      <td>012272ad82d20200aa7edb1d1b191d3e5660e3781a339d...</td>\n",
       "      <td>be</td>\n",
       "      <td>grammar-or-spelling</td>\n",
       "    </tr>\n",
       "    <tr>\n",
       "      <th>2</th>\n",
       "      <td>Па пачатку не прызнаная народам іншаземка хутк...</td>\n",
       "      <td>01428fe764265a76b0d8ba98abafbd1ff8a5c465e6432c...</td>\n",
       "      <td>be</td>\n",
       "      <td>grammar-or-spelling</td>\n",
       "    </tr>\n",
       "  </tbody>\n",
       "</table>\n",
       "</div>"
      ],
      "text/plain": [
       "                                            sentence  \\\n",
       "0   Падводная частка катлавіна карытападобнай формы.   \n",
       "1  Усё жыццё займаўся праблемамі уніфікацыі і ста...   \n",
       "2  Па пачатку не прызнаная народам іншаземка хутк...   \n",
       "\n",
       "                                         sentence_id locale  \\\n",
       "0  011985f231b245445d4caa543609c45e7f79d5081358cf...     be   \n",
       "1  012272ad82d20200aa7edb1d1b191d3e5660e3781a339d...     be   \n",
       "2  01428fe764265a76b0d8ba98abafbd1ff8a5c465e6432c...     be   \n",
       "\n",
       "                reason  \n",
       "0  grammar-or-spelling  \n",
       "1  grammar-or-spelling  \n",
       "2  grammar-or-spelling  "
      ]
     },
     "execution_count": 40,
     "metadata": {},
     "output_type": "execute_result"
    }
   ],
   "source": [
    "df_reported.head(3)"
   ]
  },
  {
   "cell_type": "code",
   "execution_count": 41,
   "id": "ff011172",
   "metadata": {},
   "outputs": [
    {
     "data": {
      "text/plain": [
       "grammar-or-spelling                            2907\n",
       "difficult-pronounce                              31\n",
       "different-language                               27\n",
       "offensive-language                                4\n",
       "??????????? ????                                  4\n",
       "                                               ... \n",
       "?? ?????? ????????, ????????? ??????? ?????       1\n",
       "?????? ????                                       1\n",
       "?????????? ?????                                  1\n",
       "?? ????? ??????                                   1\n",
       "???? ?????                                        1\n",
       "Name: reason, Length: 109, dtype: int64"
      ]
     },
     "execution_count": 41,
     "metadata": {},
     "output_type": "execute_result"
    }
   ],
   "source": [
    "df_reported['reason'].value_counts()"
   ]
  },
  {
   "cell_type": "code",
   "execution_count": 42,
   "id": "418ec607",
   "metadata": {},
   "outputs": [
    {
     "data": {
      "text/plain": [
       "['У выніку фактычна былі закрыты цэлыя навуковыя напрамкі, што нанесла вялікую шкоду развіццю навукі.',\n",
       " 'Хоць дробная, але спорная.',\n",
       " 'Звычайна букет гарні дадаецца напачатку гатавання булёну або супу і вымаецца ў самым канцы.',\n",
       " 'У гімназіі на паглыбленым роўні вывучаецца французская мова.']"
      ]
     },
     "execution_count": 42,
     "metadata": {},
     "output_type": "execute_result"
    }
   ],
   "source": [
    "x = df_reported[\n",
    "    df_reported['reason'].isin(['different-language'])\n",
    "]\n",
    "x['sentence'].sample(4).tolist()"
   ]
  },
  {
   "cell_type": "code",
   "execution_count": null,
   "id": "5a8126b9",
   "metadata": {},
   "outputs": [],
   "source": []
  },
  {
   "cell_type": "code",
   "execution_count": null,
   "id": "94d96a07",
   "metadata": {},
   "outputs": [],
   "source": []
  },
  {
   "cell_type": "code",
   "execution_count": null,
   "id": "fbfeaefb",
   "metadata": {},
   "outputs": [],
   "source": []
  },
  {
   "cell_type": "code",
   "execution_count": null,
   "id": "cd0a8bc1",
   "metadata": {},
   "outputs": [],
   "source": []
  },
  {
   "cell_type": "code",
   "execution_count": null,
   "id": "025fa5d9",
   "metadata": {},
   "outputs": [],
   "source": []
  },
  {
   "cell_type": "code",
   "execution_count": null,
   "id": "1a14090d",
   "metadata": {},
   "outputs": [],
   "source": []
  }
 ],
 "metadata": {
  "kernelspec": {
   "display_name": "Python 3 (ipykernel)",
   "language": "python",
   "name": "python3"
  },
  "language_info": {
   "codemirror_mode": {
    "name": "ipython",
    "version": 3
   },
   "file_extension": ".py",
   "mimetype": "text/x-python",
   "name": "python",
   "nbconvert_exporter": "python",
   "pygments_lexer": "ipython3",
   "version": "3.9.7"
  },
  "toc": {
   "base_numbering": 1,
   "nav_menu": {},
   "number_sections": true,
   "sideBar": true,
   "skip_h1_title": false,
   "title_cell": "Table of Contents",
   "title_sidebar": "Contents",
   "toc_cell": false,
   "toc_position": {},
   "toc_section_display": true,
   "toc_window_display": true
  }
 },
 "nbformat": 4,
 "nbformat_minor": 5
}
