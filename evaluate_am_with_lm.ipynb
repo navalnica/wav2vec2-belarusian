{
 "cells": [
  {
   "cell_type": "code",
   "execution_count": 1,
   "id": "5269d560",
   "metadata": {},
   "outputs": [
    {
     "name": "stdout",
     "output_type": "stream",
     "text": [
      "transformers version: \"4.17.0\"\n",
      "True\n"
     ]
    }
   ],
   "source": [
    "import re\n",
    "import json\n",
    "import os\n",
    "import shutil\n",
    "\n",
    "from datetime import datetime\n",
    "import IPython.display as ipd\n",
    "\n",
    "import numpy as np\n",
    "import pandas as pd\n",
    "pd.options.display.max_columns = 100\n",
    "pd.options.display.max_colwidth = 200\n",
    "\n",
    "import datasets as hfd\n",
    "\n",
    "import transformers\n",
    "print(f'transformers version: \"{transformers.__version__}\"')\n",
    "\n",
    "from transformers import (\n",
    "    Wav2Vec2Processor, Wav2Vec2ProcessorWithLM,\n",
    "    Wav2Vec2ForCTC,\n",
    "    TrainingArguments, Trainer\n",
    ")\n",
    "\n",
    "import pyctcdecode\n",
    "\n",
    "import torch\n",
    "print(torch.cuda.is_available())"
   ]
  },
  {
   "cell_type": "code",
   "execution_count": 2,
   "id": "f71fb945",
   "metadata": {},
   "outputs": [],
   "source": [
    "from src.data_collator import DataCollatorCTCWithPadding\n",
    "from src.metrics import WerMetricWithLM, parse_w2v2_predictions_batched_with_lm"
   ]
  },
  {
   "cell_type": "code",
   "execution_count": 3,
   "id": "2554bda0",
   "metadata": {},
   "outputs": [],
   "source": [
    "import logging\n",
    "logging_format_str = '%(asctime)s:%(name)s:%(levelname)s:%(message)s'\n",
    "logging.basicConfig(format=logging_format_str, level=logging.WARNING)\n",
    "logger = logging.getLogger('STT')\n",
    "logger.setLevel(level=logging.DEBUG)"
   ]
  },
  {
   "cell_type": "code",
   "execution_count": null,
   "id": "a8277393",
   "metadata": {},
   "outputs": [],
   "source": []
  },
  {
   "cell_type": "code",
   "execution_count": 4,
   "id": "2308027c",
   "metadata": {},
   "outputs": [],
   "source": [
    "# DATA_ROOT_DP = os.environ['DATA_HOME']\n",
    "SSD_DATA_ROOT_DP = os.environ['SSD_DATA_HOME']"
   ]
  },
  {
   "cell_type": "code",
   "execution_count": 5,
   "id": "f9b6e246",
   "metadata": {},
   "outputs": [],
   "source": [
    "CV_PROCESSED_2_DP = f'{SSD_DATA_ROOT_DP}/datasets/cv-corpus-8.0-2022-01-19__be__processed__2'"
   ]
  },
  {
   "cell_type": "code",
   "execution_count": 6,
   "id": "46c0b16b",
   "metadata": {},
   "outputs": [
    {
     "data": {
      "text/plain": [
       "DatasetDict({\n",
       "    train: Dataset({\n",
       "        features: ['input_values', 'labels'],\n",
       "        num_rows: 314305\n",
       "    })\n",
       "    dev: Dataset({\n",
       "        features: ['input_values', 'labels'],\n",
       "        num_rows: 15803\n",
       "    })\n",
       "    test: Dataset({\n",
       "        features: ['input_values', 'labels'],\n",
       "        num_rows: 15801\n",
       "    })\n",
       "})"
      ]
     },
     "execution_count": 6,
     "metadata": {},
     "output_type": "execute_result"
    }
   ],
   "source": [
    "ds = hfd.load_from_disk(CV_PROCESSED_2_DP)\n",
    "ds"
   ]
  },
  {
   "cell_type": "code",
   "execution_count": null,
   "id": "c66f5afd",
   "metadata": {},
   "outputs": [],
   "source": []
  },
  {
   "cell_type": "markdown",
   "id": "6f02f549",
   "metadata": {},
   "source": [
    "## read model"
   ]
  },
  {
   "cell_type": "code",
   "execution_count": 7,
   "id": "1c769f95",
   "metadata": {},
   "outputs": [
    {
     "name": "stderr",
     "output_type": "stream",
     "text": [
      "Special tokens have been added in the vocabulary, make sure the associated word embeddings are fine-tuned or trained.\n"
     ]
    }
   ],
   "source": [
    "processor = Wav2Vec2Processor.from_pretrained('artifacts/processor')"
   ]
  },
  {
   "cell_type": "code",
   "execution_count": 8,
   "id": "18bbda43",
   "metadata": {},
   "outputs": [],
   "source": [
    "data_collator = DataCollatorCTCWithPadding(processor=processor, padding=True)"
   ]
  },
  {
   "cell_type": "code",
   "execution_count": null,
   "id": "30906f19",
   "metadata": {},
   "outputs": [],
   "source": []
  },
  {
   "cell_type": "code",
   "execution_count": 9,
   "id": "1c97cc54",
   "metadata": {},
   "outputs": [
    {
     "name": "stdout",
     "output_type": "stream",
     "text": [
      "['scheduler.pt', 'preprocessor_config.json', 'training_args.bin', 'pytorch_model.bin', 'scaler.pt', 'config.json', 'rng_state.pth', 'optimizer.pt', 'trainer_state.json']\n"
     ]
    }
   ],
   "source": [
    "pretrained_checkpoint_dp = 'train/run_3/2022-03-31-10-42-03/checkpoint-6480'\n",
    "print(os.listdir(pretrained_checkpoint_dp))"
   ]
  },
  {
   "cell_type": "code",
   "execution_count": 10,
   "id": "1ea3bc30",
   "metadata": {},
   "outputs": [],
   "source": [
    "# continue from checkpoint\n",
    "model = Wav2Vec2ForCTC.from_pretrained(pretrained_checkpoint_dp)"
   ]
  },
  {
   "cell_type": "code",
   "execution_count": 11,
   "id": "7fabd387",
   "metadata": {},
   "outputs": [
    {
     "data": {
      "text/plain": [
       "device(type='cuda', index=0)"
      ]
     },
     "execution_count": 11,
     "metadata": {},
     "output_type": "execute_result"
    }
   ],
   "source": [
    "model.to('cuda');\n",
    "model.device"
   ]
  },
  {
   "cell_type": "code",
   "execution_count": null,
   "id": "8dd7af21",
   "metadata": {},
   "outputs": [],
   "source": []
  },
  {
   "cell_type": "markdown",
   "id": "54a7fea1",
   "metadata": {},
   "source": [
    "## prepare processor"
   ]
  },
  {
   "cell_type": "code",
   "execution_count": 12,
   "id": "777e6677",
   "metadata": {},
   "outputs": [
    {
     "data": {
      "text/html": [
       "<div>\n",
       "<style scoped>\n",
       "    .dataframe tbody tr th:only-of-type {\n",
       "        vertical-align: middle;\n",
       "    }\n",
       "\n",
       "    .dataframe tbody tr th {\n",
       "        vertical-align: top;\n",
       "    }\n",
       "\n",
       "    .dataframe thead th {\n",
       "        text-align: right;\n",
       "    }\n",
       "</style>\n",
       "<table border=\"1\" class=\"dataframe\">\n",
       "  <thead>\n",
       "    <tr style=\"text-align: right;\">\n",
       "      <th></th>\n",
       "      <th>|</th>\n",
       "      <th>'</th>\n",
       "      <th>i</th>\n",
       "      <th>а</th>\n",
       "      <th>б</th>\n",
       "      <th>в</th>\n",
       "      <th>г</th>\n",
       "      <th>д</th>\n",
       "      <th>е</th>\n",
       "      <th>ж</th>\n",
       "      <th>з</th>\n",
       "      <th>й</th>\n",
       "      <th>к</th>\n",
       "      <th>л</th>\n",
       "      <th>м</th>\n",
       "      <th>н</th>\n",
       "      <th>о</th>\n",
       "      <th>п</th>\n",
       "      <th>р</th>\n",
       "      <th>с</th>\n",
       "      <th>т</th>\n",
       "      <th>у</th>\n",
       "      <th>ф</th>\n",
       "      <th>х</th>\n",
       "      <th>ц</th>\n",
       "      <th>ч</th>\n",
       "      <th>ш</th>\n",
       "      <th>ы</th>\n",
       "      <th>ь</th>\n",
       "      <th>э</th>\n",
       "      <th>ю</th>\n",
       "      <th>я</th>\n",
       "      <th>ё</th>\n",
       "      <th>і</th>\n",
       "      <th>ў</th>\n",
       "      <th>[UNK]</th>\n",
       "      <th>[PAD]</th>\n",
       "      <th>&lt;s&gt;</th>\n",
       "      <th>&lt;/s&gt;</th>\n",
       "    </tr>\n",
       "  </thead>\n",
       "  <tbody>\n",
       "    <tr>\n",
       "      <th>0</th>\n",
       "      <td>0</td>\n",
       "      <td>1</td>\n",
       "      <td>2</td>\n",
       "      <td>3</td>\n",
       "      <td>4</td>\n",
       "      <td>5</td>\n",
       "      <td>6</td>\n",
       "      <td>7</td>\n",
       "      <td>8</td>\n",
       "      <td>9</td>\n",
       "      <td>10</td>\n",
       "      <td>11</td>\n",
       "      <td>12</td>\n",
       "      <td>13</td>\n",
       "      <td>14</td>\n",
       "      <td>15</td>\n",
       "      <td>16</td>\n",
       "      <td>17</td>\n",
       "      <td>18</td>\n",
       "      <td>19</td>\n",
       "      <td>20</td>\n",
       "      <td>21</td>\n",
       "      <td>22</td>\n",
       "      <td>23</td>\n",
       "      <td>24</td>\n",
       "      <td>25</td>\n",
       "      <td>26</td>\n",
       "      <td>27</td>\n",
       "      <td>28</td>\n",
       "      <td>29</td>\n",
       "      <td>30</td>\n",
       "      <td>31</td>\n",
       "      <td>32</td>\n",
       "      <td>33</td>\n",
       "      <td>34</td>\n",
       "      <td>35</td>\n",
       "      <td>36</td>\n",
       "      <td>37</td>\n",
       "      <td>38</td>\n",
       "    </tr>\n",
       "  </tbody>\n",
       "</table>\n",
       "</div>"
      ],
      "text/plain": [
       "   |  '  i  а  б  в  г  д  е  ж   з   й   к   л   м   н   о   п   р   с   т  \\\n",
       "0  0  1  2  3  4  5  6  7  8  9  10  11  12  13  14  15  16  17  18  19  20   \n",
       "\n",
       "    у   ф   х   ц   ч   ш   ы   ь   э   ю   я   ё   і   ў  [UNK]  [PAD]  <s>  \\\n",
       "0  21  22  23  24  25  26  27  28  29  30  31  32  33  34     35     36   37   \n",
       "\n",
       "   </s>  \n",
       "0    38  "
      ]
     },
     "execution_count": 12,
     "metadata": {},
     "output_type": "execute_result"
    }
   ],
   "source": [
    "vocab = processor.tokenizer.get_vocab()\n",
    "pd.Series(vocab).sort_values().to_frame().T"
   ]
  },
  {
   "cell_type": "code",
   "execution_count": 13,
   "id": "78aab2ac",
   "metadata": {},
   "outputs": [
    {
     "name": "stdout",
     "output_type": "stream",
     "text": [
      "[('|', 0), (\"'\", 1), ('i', 2), ('а', 3), ('б', 4), ('в', 5), ('г', 6), ('д', 7), ('е', 8), ('ж', 9), ('з', 10), ('й', 11), ('к', 12), ('л', 13), ('м', 14), ('н', 15), ('о', 16), ('п', 17), ('р', 18), ('с', 19), ('т', 20), ('у', 21), ('ф', 22), ('х', 23), ('ц', 24), ('ч', 25), ('ш', 26), ('ы', 27), ('ь', 28), ('э', 29), ('ю', 30), ('я', 31), ('ё', 32), ('і', 33), ('ў', 34), ('[UNK]', 35), ('[PAD]', 36), ('<s>', 37), ('</s>', 38)]\n"
     ]
    }
   ],
   "source": [
    "sorted_vocab_dict = [(char, ix) for char, ix in sorted(vocab.items(), key=lambda item: item[1])]\n",
    "print(sorted_vocab_dict)"
   ]
  },
  {
   "cell_type": "code",
   "execution_count": null,
   "id": "cb1edcb7",
   "metadata": {},
   "outputs": [],
   "source": []
  },
  {
   "cell_type": "code",
   "execution_count": 14,
   "id": "64f17663",
   "metadata": {},
   "outputs": [],
   "source": [
    "lm_fp = 'artifacts/lm/cv8be_5gram.bin'"
   ]
  },
  {
   "cell_type": "code",
   "execution_count": 15,
   "id": "2065a6ec",
   "metadata": {},
   "outputs": [
    {
     "name": "stderr",
     "output_type": "stream",
     "text": [
      "2022-03-31 21:26:10,943:pyctcdecode.decoder:WARNING:Unigrams not provided and cannot be automatically determined from LM file (only arpa format). Decoding accuracy might be reduced.\n",
      "2022-03-31 21:26:10,945:pyctcdecode.alphabet:WARNING:Found entries of length > 1 in alphabet. This is unusual unless style is BPE, but the alphabet was not recognized as BPE type. Is this correct?\n",
      "2022-03-31 21:26:10,946:pyctcdecode.language_model:WARNING:No known unigrams provided, decoding results might be a lot worse.\n"
     ]
    }
   ],
   "source": [
    "from pyctcdecode import build_ctcdecoder\n",
    "\n",
    "decoder = build_ctcdecoder(\n",
    "    labels=[x[0] for x in sorted_vocab_dict],\n",
    "    kenlm_model_path=lm_fp,\n",
    ")"
   ]
  },
  {
   "cell_type": "code",
   "execution_count": 16,
   "id": "da6147c0",
   "metadata": {},
   "outputs": [],
   "source": [
    "processor_with_lm = Wav2Vec2ProcessorWithLM(\n",
    "    feature_extractor=processor.feature_extractor,\n",
    "    tokenizer=processor.tokenizer,\n",
    "    decoder=decoder\n",
    ")"
   ]
  },
  {
   "cell_type": "code",
   "execution_count": null,
   "id": "109d15da",
   "metadata": {},
   "outputs": [],
   "source": []
  },
  {
   "cell_type": "code",
   "execution_count": 17,
   "id": "ea213f6b",
   "metadata": {},
   "outputs": [
    {
     "name": "stdout",
     "output_type": "stream",
     "text": [
      "39\n",
      "True\n",
      "' </s> <s> [PAD] [UNK] i | а б в г д е ж з й к л м н о п р с т у ф х ц ч ш ы ь э ю я ё і ў\n"
     ]
    }
   ],
   "source": [
    "print(len(processor.tokenizer.get_vocab()))\n",
    "print(sorted(processor.tokenizer.get_vocab()) == sorted(processor_with_lm.tokenizer.get_vocab()))\n",
    "print(\" \".join(sorted(processor_with_lm.tokenizer.get_vocab())))"
   ]
  },
  {
   "cell_type": "code",
   "execution_count": 18,
   "id": "3a62ffd7",
   "metadata": {},
   "outputs": [
    {
     "name": "stdout",
     "output_type": "stream",
     "text": [
      "39\n",
      "[' ', \"'\", 'i', 'а', 'б', 'в', 'г', 'д', 'е', 'ж', 'з', 'й', 'к', 'л', 'м', 'н', 'о', 'п', 'р', 'с', 'т', 'у', 'ф', 'х', 'ц', 'ч', 'ш', 'ы', 'ь', 'э', 'ю', 'я', 'ё', 'і', 'ў', '⁇', '', '<s>', '</s>']\n"
     ]
    }
   ],
   "source": [
    "print(len(processor_with_lm.decoder._alphabet.labels))\n",
    "print(processor_with_lm.decoder._alphabet.labels)"
   ]
  },
  {
   "cell_type": "code",
   "execution_count": 19,
   "id": "8f313f1f",
   "metadata": {},
   "outputs": [
    {
     "name": "stdout",
     "output_type": "stream",
     "text": [
      "39\n",
      "{0: ' ', 1: \"'\", 2: 'i', 3: 'а', 4: 'б', 5: 'в', 6: 'г', 7: 'д', 8: 'е', 9: 'ж', 10: 'з', 11: 'й', 12: 'к', 13: 'л', 14: 'м', 15: 'н', 16: 'о', 17: 'п', 18: 'р', 19: 'с', 20: 'т', 21: 'у', 22: 'ф', 23: 'х', 24: 'ц', 25: 'ч', 26: 'ш', 27: 'ы', 28: 'ь', 29: 'э', 30: 'ю', 31: 'я', 32: 'ё', 33: 'і', 34: 'ў', 35: '⁇', 36: '', 37: '<s>', 38: '</s>'}\n"
     ]
    }
   ],
   "source": [
    "print(len(processor_with_lm.decoder._idx2vocab))\n",
    "print(processor_with_lm.decoder._idx2vocab)"
   ]
  },
  {
   "cell_type": "code",
   "execution_count": null,
   "id": "f7cfa35d",
   "metadata": {},
   "outputs": [],
   "source": []
  },
  {
   "cell_type": "code",
   "execution_count": null,
   "id": "0ab0e552",
   "metadata": {},
   "outputs": [],
   "source": []
  },
  {
   "cell_type": "markdown",
   "id": "1355d3f6",
   "metadata": {},
   "source": [
    "## evaluate model"
   ]
  },
  {
   "cell_type": "code",
   "execution_count": 20,
   "id": "55647277",
   "metadata": {},
   "outputs": [],
   "source": [
    "wer_metrics = WerMetricWithLM(processor_with_lm=processor_with_lm)"
   ]
  },
  {
   "cell_type": "code",
   "execution_count": 21,
   "id": "67bd8c9c",
   "metadata": {},
   "outputs": [],
   "source": [
    "training_args = TrainingArguments(\n",
    "    output_dir='eval_output',\n",
    "    per_device_eval_batch_size=16,\n",
    ")\n",
    "\n",
    "trainer = Trainer(\n",
    "    model=model,\n",
    "    data_collator=data_collator,\n",
    "    args=training_args,\n",
    "    compute_metrics=wer_metrics.compute_metrics,\n",
    "    tokenizer=processor.feature_extractor,\n",
    ")"
   ]
  },
  {
   "cell_type": "code",
   "execution_count": null,
   "id": "c3174456",
   "metadata": {},
   "outputs": [],
   "source": [
    "pred_out = trainer.predict(ds['test'])"
   ]
  },
  {
   "cell_type": "code",
   "execution_count": 23,
   "id": "a39fbe3b",
   "metadata": {},
   "outputs": [
    {
     "data": {
      "text/plain": [
       "{'test_loss': 0.13471770286560059,\n",
       " 'test_wer': 0.1325156998072499,\n",
       " 'test_runtime': 554.0533,\n",
       " 'test_samples_per_second': 28.519,\n",
       " 'test_steps_per_second': 0.596}"
      ]
     },
     "execution_count": 23,
     "metadata": {},
     "output_type": "execute_result"
    }
   ],
   "source": [
    "pred_out.metrics"
   ]
  },
  {
   "cell_type": "code",
   "execution_count": 24,
   "id": "9891d76f",
   "metadata": {},
   "outputs": [
    {
     "name": "stdout",
     "output_type": "stream",
     "text": [
      "WER on Test set using Acoustic Model + Language model: 0.133\n"
     ]
    }
   ],
   "source": [
    "print(f\"WER on Test set using Acoustic Model + Language model: {pred_out.metrics['test_wer'] :.3f}\")"
   ]
  },
  {
   "cell_type": "code",
   "execution_count": null,
   "id": "e15d4cd1",
   "metadata": {},
   "outputs": [],
   "source": []
  },
  {
   "cell_type": "code",
   "execution_count": null,
   "id": "96e342ef",
   "metadata": {},
   "outputs": [],
   "source": []
  },
  {
   "cell_type": "markdown",
   "id": "d8245494",
   "metadata": {},
   "source": [
    "### examples of model predictions"
   ]
  },
  {
   "cell_type": "code",
   "execution_count": 25,
   "id": "6c5b04bc",
   "metadata": {},
   "outputs": [],
   "source": [
    "import matplotlib.pyplot as plt\n",
    "import seaborn as sns\n",
    "sns.set(font_scale=1.1);"
   ]
  },
  {
   "cell_type": "code",
   "execution_count": 26,
   "id": "1a2f4fcf",
   "metadata": {},
   "outputs": [],
   "source": [
    "parsed_preds = parse_w2v2_predictions_batched_with_lm(pred_out, processor_with_lm=processor_with_lm)"
   ]
  },
  {
   "cell_type": "code",
   "execution_count": 27,
   "id": "ce319ef2",
   "metadata": {},
   "outputs": [
    {
     "name": "stdout",
     "output_type": "stream",
     "text": [
      "(15801, 2)\n"
     ]
    },
    {
     "data": {
      "text/html": [
       "<div>\n",
       "<style scoped>\n",
       "    .dataframe tbody tr th:only-of-type {\n",
       "        vertical-align: middle;\n",
       "    }\n",
       "\n",
       "    .dataframe tbody tr th {\n",
       "        vertical-align: top;\n",
       "    }\n",
       "\n",
       "    .dataframe thead th {\n",
       "        text-align: right;\n",
       "    }\n",
       "</style>\n",
       "<table border=\"1\" class=\"dataframe\">\n",
       "  <thead>\n",
       "    <tr style=\"text-align: right;\">\n",
       "      <th></th>\n",
       "      <th>text</th>\n",
       "      <th>pred_text</th>\n",
       "      <th>success</th>\n",
       "      <th>wer</th>\n",
       "    </tr>\n",
       "  </thead>\n",
       "  <tbody>\n",
       "    <tr>\n",
       "      <th>0</th>\n",
       "      <td>і на гэтым кірунку нас чакаюць вялікія складанасці</td>\n",
       "      <td>і на гэтым кірунку нас чакаюць вялікія складанасці</td>\n",
       "      <td>1</td>\n",
       "      <td>0.000000</td>\n",
       "    </tr>\n",
       "    <tr>\n",
       "      <th>1</th>\n",
       "      <td>быў разбураны пры вызваленні горада ад нямецкафашысцкіх захопнікаў</td>\n",
       "      <td>быў разбураны пры вызваленні горада ад нямецкую фашысцкіх захопнікаў</td>\n",
       "      <td>0</td>\n",
       "      <td>0.250000</td>\n",
       "    </tr>\n",
       "    <tr>\n",
       "      <th>2</th>\n",
       "      <td>далейшае супрацоўніцтва паміж нямецкім і савецкім прыняло форму абмену польскіх ваеннапалонных</td>\n",
       "      <td>далейшае супрацоўніцтва між нямецкім савецкім пыняафорамуў абмену польскіх твуеннапога</td>\n",
       "      <td>0</td>\n",
       "      <td>0.454545</td>\n",
       "    </tr>\n",
       "    <tr>\n",
       "      <th>3</th>\n",
       "      <td>цвіценне працягваецца з мая да позняй восені</td>\n",
       "      <td>цвіценне працягваецца з мая да позняй восені</td>\n",
       "      <td>1</td>\n",
       "      <td>0.000000</td>\n",
       "    </tr>\n",
       "    <tr>\n",
       "      <th>4</th>\n",
       "      <td>таксама пройдзе канферэнцыя фестываль і мастацкая выстава</td>\n",
       "      <td>таксама пройдзе канферэнцыя фестываль і мастацкая выстава</td>\n",
       "      <td>1</td>\n",
       "      <td>0.000000</td>\n",
       "    </tr>\n",
       "  </tbody>\n",
       "</table>\n",
       "</div>"
      ],
      "text/plain": [
       "                                                                                             text  \\\n",
       "0                                              і на гэтым кірунку нас чакаюць вялікія складанасці   \n",
       "1                              быў разбураны пры вызваленні горада ад нямецкафашысцкіх захопнікаў   \n",
       "2  далейшае супрацоўніцтва паміж нямецкім і савецкім прыняло форму абмену польскіх ваеннапалонных   \n",
       "3                                                    цвіценне працягваецца з мая да позняй восені   \n",
       "4                                       таксама пройдзе канферэнцыя фестываль і мастацкая выстава   \n",
       "\n",
       "                                                                                pred_text  \\\n",
       "0                                      і на гэтым кірунку нас чакаюць вялікія складанасці   \n",
       "1                    быў разбураны пры вызваленні горада ад нямецкую фашысцкіх захопнікаў   \n",
       "2  далейшае супрацоўніцтва між нямецкім савецкім пыняафорамуў абмену польскіх твуеннапога   \n",
       "3                                            цвіценне працягваецца з мая да позняй восені   \n",
       "4                               таксама пройдзе канферэнцыя фестываль і мастацкая выстава   \n",
       "\n",
       "   success       wer  \n",
       "0        1  0.000000  \n",
       "1        0  0.250000  \n",
       "2        0  0.454545  \n",
       "3        1  0.000000  \n",
       "4        1  0.000000  "
      ]
     },
     "execution_count": 27,
     "metadata": {},
     "output_type": "execute_result"
    }
   ],
   "source": [
    "df_results = pd.DataFrame(parsed_preds)[['text', 'pred_text']]\n",
    "print(df_results.shape)\n",
    "\n",
    "df_results['success'] = (df_results['text'] == df_results['pred_text']).astype('int')\n",
    "df_results['wer'] = df_results.apply(\n",
    "    lambda row: \n",
    "    wer_metrics.wer_metric.compute(\n",
    "        predictions=[row['pred_text']],\n",
    "        references=[row['text']]\n",
    "    ),\n",
    "    axis=1\n",
    ")\n",
    "\n",
    "df_results.head()"
   ]
  },
  {
   "cell_type": "code",
   "execution_count": 28,
   "id": "c16d92f2",
   "metadata": {},
   "outputs": [
    {
     "data": {
      "text/html": [
       "<div>\n",
       "<style scoped>\n",
       "    .dataframe tbody tr th:only-of-type {\n",
       "        vertical-align: middle;\n",
       "    }\n",
       "\n",
       "    .dataframe tbody tr th {\n",
       "        vertical-align: top;\n",
       "    }\n",
       "\n",
       "    .dataframe thead th {\n",
       "        text-align: right;\n",
       "    }\n",
       "</style>\n",
       "<table border=\"1\" class=\"dataframe\">\n",
       "  <thead>\n",
       "    <tr style=\"text-align: right;\">\n",
       "      <th></th>\n",
       "      <th>fraction</th>\n",
       "      <th>abs</th>\n",
       "    </tr>\n",
       "  </thead>\n",
       "  <tbody>\n",
       "    <tr>\n",
       "      <th>1</th>\n",
       "      <td>0.50174</td>\n",
       "      <td>7928</td>\n",
       "    </tr>\n",
       "    <tr>\n",
       "      <th>0</th>\n",
       "      <td>0.49826</td>\n",
       "      <td>7873</td>\n",
       "    </tr>\n",
       "  </tbody>\n",
       "</table>\n",
       "</div>"
      ],
      "text/plain": [
       "   fraction   abs\n",
       "1   0.50174  7928\n",
       "0   0.49826  7873"
      ]
     },
     "execution_count": 28,
     "metadata": {},
     "output_type": "execute_result"
    }
   ],
   "source": [
    "success_stats = df_results['success'].value_counts(dropna=False, normalize=True)\n",
    "success_stats = success_stats.to_frame('fraction').join(\n",
    "    df_results['success'].value_counts(dropna=False).rename('abs')\n",
    ")\n",
    "success_stats"
   ]
  },
  {
   "cell_type": "code",
   "execution_count": 29,
   "id": "8837f452",
   "metadata": {},
   "outputs": [
    {
     "name": "stdout",
     "output_type": "stream",
     "text": [
      "Rate of fully recognized clips from Test set using Acoustic Model only: 50.174%\n"
     ]
    }
   ],
   "source": [
    "print(f'Rate of fully recognized clips from Test set using Acoustic Model only: '\n",
    "      f\"{success_stats.loc[1, 'fraction'] :.3%}\")"
   ]
  },
  {
   "cell_type": "code",
   "execution_count": null,
   "id": "7510c7d9",
   "metadata": {},
   "outputs": [],
   "source": []
  },
  {
   "cell_type": "code",
   "execution_count": 30,
   "id": "abcc158d",
   "metadata": {},
   "outputs": [
    {
     "data": {
      "text/html": [
       "<div>\n",
       "<style scoped>\n",
       "    .dataframe tbody tr th:only-of-type {\n",
       "        vertical-align: middle;\n",
       "    }\n",
       "\n",
       "    .dataframe tbody tr th {\n",
       "        vertical-align: top;\n",
       "    }\n",
       "\n",
       "    .dataframe thead th {\n",
       "        text-align: right;\n",
       "    }\n",
       "</style>\n",
       "<table border=\"1\" class=\"dataframe\">\n",
       "  <thead>\n",
       "    <tr style=\"text-align: right;\">\n",
       "      <th></th>\n",
       "      <th>text</th>\n",
       "      <th>pred_text</th>\n",
       "      <th>success</th>\n",
       "      <th>wer</th>\n",
       "    </tr>\n",
       "  </thead>\n",
       "  <tbody>\n",
       "    <tr>\n",
       "      <th>11661</th>\n",
       "      <td>стой стой абора ўчапілася</td>\n",
       "      <td>з той з той абораўчапілася</td>\n",
       "      <td>0</td>\n",
       "      <td>1.250000</td>\n",
       "    </tr>\n",
       "    <tr>\n",
       "      <th>8440</th>\n",
       "      <td>сартаваць паведамленні па катэгорыях</td>\n",
       "      <td>сартаваць па віда мне не па катэгорыя</td>\n",
       "      <td>0</td>\n",
       "      <td>1.250000</td>\n",
       "    </tr>\n",
       "    <tr>\n",
       "      <th>8877</th>\n",
       "      <td>дрэвы маюць гладкую светлашэрую кару</td>\n",
       "      <td>трэба мачвадкую свет па шэрую карону</td>\n",
       "      <td>0</td>\n",
       "      <td>1.200000</td>\n",
       "    </tr>\n",
       "    <tr>\n",
       "      <th>15154</th>\n",
       "      <td>вецер будзе паўночназаходні ўмеркаваны удзень слабы</td>\n",
       "      <td>вецер будзе паўночны захоннік у вергаварны у дзень ствала</td>\n",
       "      <td>0</td>\n",
       "      <td>1.166667</td>\n",
       "    </tr>\n",
       "    <tr>\n",
       "      <th>7817</th>\n",
       "      <td>пакінутае персідскае ўмацаванне прыгадвалі і партугальцы</td>\n",
       "      <td>кінуетэіцмацаноне прыгатэльіптувалы</td>\n",
       "      <td>0</td>\n",
       "      <td>1.000000</td>\n",
       "    </tr>\n",
       "  </tbody>\n",
       "</table>\n",
       "</div>"
      ],
      "text/plain": [
       "                                                           text  \\\n",
       "11661                                 стой стой абора ўчапілася   \n",
       "8440                       сартаваць паведамленні па катэгорыях   \n",
       "8877                       дрэвы маюць гладкую светлашэрую кару   \n",
       "15154       вецер будзе паўночназаходні ўмеркаваны удзень слабы   \n",
       "7817   пакінутае персідскае ўмацаванне прыгадвалі і партугальцы   \n",
       "\n",
       "                                                       pred_text  success  \\\n",
       "11661                                 з той з той абораўчапілася        0   \n",
       "8440                       сартаваць па віда мне не па катэгорыя        0   \n",
       "8877                        трэба мачвадкую свет па шэрую карону        0   \n",
       "15154  вецер будзе паўночны захоннік у вергаварны у дзень ствала        0   \n",
       "7817                         кінуетэіцмацаноне прыгатэльіптувалы        0   \n",
       "\n",
       "            wer  \n",
       "11661  1.250000  \n",
       "8440   1.250000  \n",
       "8877   1.200000  \n",
       "15154  1.166667  \n",
       "7817   1.000000  "
      ]
     },
     "execution_count": 30,
     "metadata": {},
     "output_type": "execute_result"
    }
   ],
   "source": [
    "df_results.sort_values('wer', ascending=False).head()"
   ]
  },
  {
   "cell_type": "code",
   "execution_count": 31,
   "id": "666bad1a",
   "metadata": {},
   "outputs": [
    {
     "data": {
      "text/html": [
       "<div>\n",
       "<style scoped>\n",
       "    .dataframe tbody tr th:only-of-type {\n",
       "        vertical-align: middle;\n",
       "    }\n",
       "\n",
       "    .dataframe tbody tr th {\n",
       "        vertical-align: top;\n",
       "    }\n",
       "\n",
       "    .dataframe thead th {\n",
       "        text-align: right;\n",
       "    }\n",
       "</style>\n",
       "<table border=\"1\" class=\"dataframe\">\n",
       "  <thead>\n",
       "    <tr style=\"text-align: right;\">\n",
       "      <th></th>\n",
       "      <th>text</th>\n",
       "      <th>pred_text</th>\n",
       "      <th>success</th>\n",
       "      <th>wer</th>\n",
       "    </tr>\n",
       "  </thead>\n",
       "  <tbody>\n",
       "    <tr>\n",
       "      <th>0</th>\n",
       "      <td>і на гэтым кірунку нас чакаюць вялікія складанасці</td>\n",
       "      <td>і на гэтым кірунку нас чакаюць вялікія складанасці</td>\n",
       "      <td>1</td>\n",
       "      <td>0.0</td>\n",
       "    </tr>\n",
       "    <tr>\n",
       "      <th>8874</th>\n",
       "      <td>на месцы сёл і вёсак вецер узнімае халодны попел</td>\n",
       "      <td>на месцы сёл і вёсак вецер узнімае халодны попел</td>\n",
       "      <td>1</td>\n",
       "      <td>0.0</td>\n",
       "    </tr>\n",
       "    <tr>\n",
       "      <th>8878</th>\n",
       "      <td>замест яго выкарыстоўваўся проста чырвоны сцяг</td>\n",
       "      <td>замест яго выкарыстоўваўся проста чырвоны сцяг</td>\n",
       "      <td>1</td>\n",
       "      <td>0.0</td>\n",
       "    </tr>\n",
       "    <tr>\n",
       "      <th>8882</th>\n",
       "      <td>гэта была цудоўная грыбная верашчака</td>\n",
       "      <td>гэта была цудоўная грыбная верашчака</td>\n",
       "      <td>1</td>\n",
       "      <td>0.0</td>\n",
       "    </tr>\n",
       "    <tr>\n",
       "      <th>8886</th>\n",
       "      <td>для дзяўчат асобна для хлопцаў асобна</td>\n",
       "      <td>для дзяўчат асобна для хлопцаў асобна</td>\n",
       "      <td>1</td>\n",
       "      <td>0.0</td>\n",
       "    </tr>\n",
       "  </tbody>\n",
       "</table>\n",
       "</div>"
      ],
      "text/plain": [
       "                                                    text  \\\n",
       "0     і на гэтым кірунку нас чакаюць вялікія складанасці   \n",
       "8874    на месцы сёл і вёсак вецер узнімае халодны попел   \n",
       "8878      замест яго выкарыстоўваўся проста чырвоны сцяг   \n",
       "8882                гэта была цудоўная грыбная верашчака   \n",
       "8886               для дзяўчат асобна для хлопцаў асобна   \n",
       "\n",
       "                                               pred_text  success  wer  \n",
       "0     і на гэтым кірунку нас чакаюць вялікія складанасці        1  0.0  \n",
       "8874    на месцы сёл і вёсак вецер узнімае халодны попел        1  0.0  \n",
       "8878      замест яго выкарыстоўваўся проста чырвоны сцяг        1  0.0  \n",
       "8882                гэта была цудоўная грыбная верашчака        1  0.0  \n",
       "8886               для дзяўчат асобна для хлопцаў асобна        1  0.0  "
      ]
     },
     "execution_count": 31,
     "metadata": {},
     "output_type": "execute_result"
    }
   ],
   "source": [
    "df_results.sort_values('wer', ascending=True).head()"
   ]
  },
  {
   "cell_type": "code",
   "execution_count": 32,
   "id": "1e9feb99",
   "metadata": {},
   "outputs": [
    {
     "data": {
      "text/html": [
       "<div>\n",
       "<style scoped>\n",
       "    .dataframe tbody tr th:only-of-type {\n",
       "        vertical-align: middle;\n",
       "    }\n",
       "\n",
       "    .dataframe tbody tr th {\n",
       "        vertical-align: top;\n",
       "    }\n",
       "\n",
       "    .dataframe thead th {\n",
       "        text-align: right;\n",
       "    }\n",
       "</style>\n",
       "<table border=\"1\" class=\"dataframe\">\n",
       "  <thead>\n",
       "    <tr style=\"text-align: right;\">\n",
       "      <th></th>\n",
       "      <th>text</th>\n",
       "      <th>pred_text</th>\n",
       "      <th>success</th>\n",
       "      <th>wer</th>\n",
       "    </tr>\n",
       "  </thead>\n",
       "  <tbody>\n",
       "    <tr>\n",
       "      <th>11819</th>\n",
       "      <td>калі і пасля гэтага калгас не выпраўляўся яго распускалі і ўсю маёмасць канфіскоўвалі</td>\n",
       "      <td>калі і пасля гэтага калгас не выпраўляўся яго распускалі і ўсю маёмасць канфіскоўвалі</td>\n",
       "      <td>1</td>\n",
       "      <td>0.000000</td>\n",
       "    </tr>\n",
       "    <tr>\n",
       "      <th>14481</th>\n",
       "      <td>конкурс праводзіцца ў два этапы</td>\n",
       "      <td>конкурс праводзіцца ў два этапы</td>\n",
       "      <td>1</td>\n",
       "      <td>0.000000</td>\n",
       "    </tr>\n",
       "    <tr>\n",
       "      <th>14083</th>\n",
       "      <td>участкі саду маюць правільную геаметрычную форму і падзелены кіпарысамі</td>\n",
       "      <td>участкі саду маюць фральмругіяметрычную формы і падзелены кіпарысамі</td>\n",
       "      <td>0</td>\n",
       "      <td>0.333333</td>\n",
       "    </tr>\n",
       "    <tr>\n",
       "      <th>1756</th>\n",
       "      <td>яна таксама агучыла свае абвінавачванні праз шмат гадоў пасля саміх падзей</td>\n",
       "      <td>яна таксама гучала свае абвінавачанне праз шмат гадоў пасля саміх падзей</td>\n",
       "      <td>0</td>\n",
       "      <td>0.181818</td>\n",
       "    </tr>\n",
       "    <tr>\n",
       "      <th>606</th>\n",
       "      <td>у старажытнасці меў культавае значэнне</td>\n",
       "      <td>у старажытнасці меў культавае значэнне</td>\n",
       "      <td>1</td>\n",
       "      <td>0.000000</td>\n",
       "    </tr>\n",
       "  </tbody>\n",
       "</table>\n",
       "</div>"
      ],
      "text/plain": [
       "                                                                                        text  \\\n",
       "11819  калі і пасля гэтага калгас не выпраўляўся яго распускалі і ўсю маёмасць канфіскоўвалі   \n",
       "14481                                                        конкурс праводзіцца ў два этапы   \n",
       "14083                участкі саду маюць правільную геаметрычную форму і падзелены кіпарысамі   \n",
       "1756              яна таксама агучыла свае абвінавачванні праз шмат гадоў пасля саміх падзей   \n",
       "606                                                   у старажытнасці меў культавае значэнне   \n",
       "\n",
       "                                                                                   pred_text  \\\n",
       "11819  калі і пасля гэтага калгас не выпраўляўся яго распускалі і ўсю маёмасць канфіскоўвалі   \n",
       "14481                                                        конкурс праводзіцца ў два этапы   \n",
       "14083                   участкі саду маюць фральмругіяметрычную формы і падзелены кіпарысамі   \n",
       "1756                яна таксама гучала свае абвінавачанне праз шмат гадоў пасля саміх падзей   \n",
       "606                                                   у старажытнасці меў культавае значэнне   \n",
       "\n",
       "       success       wer  \n",
       "11819        1  0.000000  \n",
       "14481        1  0.000000  \n",
       "14083        0  0.333333  \n",
       "1756         0  0.181818  \n",
       "606          1  0.000000  "
      ]
     },
     "execution_count": 32,
     "metadata": {},
     "output_type": "execute_result"
    }
   ],
   "source": [
    "df_results.sort_values('wer', ascending=True).sample(5)"
   ]
  },
  {
   "cell_type": "code",
   "execution_count": null,
   "id": "5b9e3653",
   "metadata": {},
   "outputs": [],
   "source": []
  },
  {
   "cell_type": "code",
   "execution_count": 33,
   "id": "6117938b",
   "metadata": {},
   "outputs": [
    {
     "data": {
      "text/html": [
       "<div>\n",
       "<style scoped>\n",
       "    .dataframe tbody tr th:only-of-type {\n",
       "        vertical-align: middle;\n",
       "    }\n",
       "\n",
       "    .dataframe tbody tr th {\n",
       "        vertical-align: top;\n",
       "    }\n",
       "\n",
       "    .dataframe thead th {\n",
       "        text-align: right;\n",
       "    }\n",
       "</style>\n",
       "<table border=\"1\" class=\"dataframe\">\n",
       "  <thead>\n",
       "    <tr style=\"text-align: right;\">\n",
       "      <th></th>\n",
       "      <th>text</th>\n",
       "      <th>pred_text</th>\n",
       "      <th>success</th>\n",
       "      <th>wer</th>\n",
       "    </tr>\n",
       "  </thead>\n",
       "  <tbody>\n",
       "    <tr>\n",
       "      <th>12</th>\n",
       "      <td>толькі ў раёне таксама нашы людзі вясковыя</td>\n",
       "      <td>толькі ў раёне таксама наш людзі вясковыя</td>\n",
       "      <td>0</td>\n",
       "      <td>0.142857</td>\n",
       "    </tr>\n",
       "    <tr>\n",
       "      <th>9532</th>\n",
       "      <td>у яго нават ёсць сольныя выступы</td>\n",
       "      <td>у яго нават ёсць сольныя выступы</td>\n",
       "      <td>1</td>\n",
       "      <td>0.000000</td>\n",
       "    </tr>\n",
       "    <tr>\n",
       "      <th>9533</th>\n",
       "      <td>на ўзвышшы што ў цэнтры пляцоўкі стаяла абарончая вежа</td>\n",
       "      <td>на ўзвышшы што ў цэнтры пляцоўкі стаяла абарончая вежа</td>\n",
       "      <td>1</td>\n",
       "      <td>0.000000</td>\n",
       "    </tr>\n",
       "    <tr>\n",
       "      <th>12305</th>\n",
       "      <td>шлюбам папярэднічалі перагаворы паміж сем'ямі</td>\n",
       "      <td>шлюбам папярэднічалі перагаворы паміж сем'ямі</td>\n",
       "      <td>1</td>\n",
       "      <td>0.000000</td>\n",
       "    </tr>\n",
       "  </tbody>\n",
       "</table>\n",
       "</div>"
      ],
      "text/plain": [
       "                                                         text  \\\n",
       "12                 толькі ў раёне таксама нашы людзі вясковыя   \n",
       "9532                         у яго нават ёсць сольныя выступы   \n",
       "9533   на ўзвышшы што ў цэнтры пляцоўкі стаяла абарончая вежа   \n",
       "12305           шлюбам папярэднічалі перагаворы паміж сем'ямі   \n",
       "\n",
       "                                                    pred_text  success  \\\n",
       "12                  толькі ў раёне таксама наш людзі вясковыя        0   \n",
       "9532                         у яго нават ёсць сольныя выступы        1   \n",
       "9533   на ўзвышшы што ў цэнтры пляцоўкі стаяла абарончая вежа        1   \n",
       "12305           шлюбам папярэднічалі перагаворы паміж сем'ямі        1   \n",
       "\n",
       "            wer  \n",
       "12     0.142857  \n",
       "9532   0.000000  \n",
       "9533   0.000000  \n",
       "12305  0.000000  "
      ]
     },
     "execution_count": 33,
     "metadata": {},
     "output_type": "execute_result"
    }
   ],
   "source": [
    "df_results.iloc[[12, 9532, 9533,12305]]"
   ]
  },
  {
   "cell_type": "code",
   "execution_count": null,
   "id": "665304c7",
   "metadata": {},
   "outputs": [],
   "source": []
  },
  {
   "cell_type": "code",
   "execution_count": null,
   "id": "aad14079",
   "metadata": {},
   "outputs": [],
   "source": []
  },
  {
   "cell_type": "markdown",
   "id": "c46a6226",
   "metadata": {},
   "source": [
    "### wer stats for test set items"
   ]
  },
  {
   "cell_type": "code",
   "execution_count": 34,
   "id": "68729fc1",
   "metadata": {},
   "outputs": [
    {
     "data": {
      "text/plain": [
       "count    15801.000000\n",
       "mean         0.128689\n",
       "std          0.173040\n",
       "min          0.000000\n",
       "25%          0.000000\n",
       "50%          0.000000\n",
       "75%          0.214286\n",
       "max          1.250000\n",
       "Name: wer, dtype: float64"
      ]
     },
     "metadata": {},
     "output_type": "display_data"
    },
    {
     "data": {
      "image/png": "[encoded data removed]",
      "text/plain": [
       "<Figure size 576x360 with 1 Axes>"
      ]
     },
     "metadata": {},
     "output_type": "display_data"
    }
   ],
   "source": [
    "display(df_results['wer'].describe())\n",
    "\n",
    "df_results['wer'].plot.hist(bins=50, figsize=(8, 5));\n",
    "plt.title('WER distribution over Test set items');\n",
    "plt.axvline(1, color='red', alpha=0.5);"
   ]
  },
  {
   "cell_type": "code",
   "execution_count": null,
   "id": "4c8709da",
   "metadata": {},
   "outputs": [],
   "source": []
  },
  {
   "cell_type": "code",
   "execution_count": null,
   "id": "4361fbb0",
   "metadata": {},
   "outputs": [],
   "source": []
  },
  {
   "cell_type": "code",
   "execution_count": null,
   "id": "4e968412",
   "metadata": {},
   "outputs": [],
   "source": []
  }
 ],
 "metadata": {
  "kernelspec": {
   "display_name": "Python 3 (ipykernel)",
   "language": "python",
   "name": "python3"
  },
  "language_info": {
   "codemirror_mode": {
    "name": "ipython",
    "version": 3
   },
   "file_extension": ".py",
   "mimetype": "text/x-python",
   "name": "python",
   "nbconvert_exporter": "python",
   "pygments_lexer": "ipython3",
   "version": "3.9.7"
  },
  "toc": {
   "base_numbering": 1,
   "nav_menu": {},
   "number_sections": true,
   "sideBar": true,
   "skip_h1_title": false,
   "title_cell": "Table of Contents",
   "title_sidebar": "Contents",
   "toc_cell": false,
   "toc_position": {},
   "toc_section_display": true,
   "toc_window_display": true
  }
 },
 "nbformat": 4,
 "nbformat_minor": 5
}
