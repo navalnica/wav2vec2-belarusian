{
 "cells": [
  {
   "cell_type": "code",
   "execution_count": 1,
   "id": "c4f26172",
   "metadata": {},
   "outputs": [
    {
     "name": "stdout",
     "output_type": "stream",
     "text": [
      "True\n"
     ]
    }
   ],
   "source": [
    "import re\n",
    "import json\n",
    "import os\n",
    "import shutil\n",
    "\n",
    "from datetime import datetime\n",
    "import IPython.display as ipd\n",
    "\n",
    "import numpy as np\n",
    "import pandas as pd\n",
    "pd.options.display.max_columns = 100\n",
    "pd.options.display.max_colwidth = 200\n",
    "\n",
    "import datasets as hfd\n",
    "\n",
    "import transformers\n",
    "from transformers import (\n",
    "    Wav2Vec2CTCTokenizer, Wav2Vec2FeatureExtractor, Wav2Vec2Processor,\n",
    "    Wav2Vec2ForCTC,\n",
    "    TrainingArguments, Trainer\n",
    ")\n",
    "\n",
    "import torch\n",
    "print(torch.cuda.is_available())"
   ]
  },
  {
   "cell_type": "code",
   "execution_count": 2,
   "id": "a9b94978",
   "metadata": {},
   "outputs": [],
   "source": [
    "from src.data_collator import DataCollatorCTCWithPadding\n",
    "from src.metrics import WerMetric, parse_w2v2_predictions_batched"
   ]
  },
  {
   "cell_type": "code",
   "execution_count": 3,
   "id": "96686227",
   "metadata": {},
   "outputs": [],
   "source": [
    "import logging\n",
    "logging_format_str = '%(asctime)s:%(name)s:%(levelname)s:%(message)s'\n",
    "logging.basicConfig(format=logging_format_str, level=logging.WARNING)\n",
    "logger = logging.getLogger('STT')\n",
    "logger.setLevel(level=logging.DEBUG)"
   ]
  },
  {
   "cell_type": "code",
   "execution_count": null,
   "id": "54815137",
   "metadata": {},
   "outputs": [],
   "source": []
  },
  {
   "cell_type": "code",
   "execution_count": 4,
   "id": "5751538f",
   "metadata": {},
   "outputs": [],
   "source": [
    "# DATA_ROOT_DP = os.environ['DATA_HOME']\n",
    "SSD_DATA_ROOT_DP = os.environ['SSD_DATA_HOME']"
   ]
  },
  {
   "cell_type": "code",
   "execution_count": 5,
   "id": "4fcf9f67",
   "metadata": {},
   "outputs": [],
   "source": [
    "CV_PROCESSED_2_DP = f'{SSD_DATA_ROOT_DP}/datasets/cv-corpus-8.0-2022-01-19__be__processed__2'"
   ]
  },
  {
   "cell_type": "code",
   "execution_count": 6,
   "id": "b5a7db00",
   "metadata": {},
   "outputs": [
    {
     "data": {
      "text/plain": [
       "DatasetDict({\n",
       "    train: Dataset({\n",
       "        features: ['input_values', 'labels'],\n",
       "        num_rows: 314305\n",
       "    })\n",
       "    dev: Dataset({\n",
       "        features: ['input_values', 'labels'],\n",
       "        num_rows: 15803\n",
       "    })\n",
       "    test: Dataset({\n",
       "        features: ['input_values', 'labels'],\n",
       "        num_rows: 15801\n",
       "    })\n",
       "})"
      ]
     },
     "execution_count": 6,
     "metadata": {},
     "output_type": "execute_result"
    }
   ],
   "source": [
    "ds = hfd.load_from_disk(CV_PROCESSED_2_DP)\n",
    "ds"
   ]
  },
  {
   "cell_type": "code",
   "execution_count": 7,
   "id": "d3350da1",
   "metadata": {},
   "outputs": [],
   "source": [
    "# # select subset of data\n",
    "# ds['train'] = ds['train'].select(range(300))\n",
    "# ds['dev'] = ds['dev'].select(range(100))\n",
    "# ds"
   ]
  },
  {
   "cell_type": "code",
   "execution_count": null,
   "id": "8d8e6f2e",
   "metadata": {},
   "outputs": [],
   "source": []
  },
  {
   "cell_type": "code",
   "execution_count": 8,
   "id": "daa8ec74",
   "metadata": {},
   "outputs": [
    {
     "name": "stderr",
     "output_type": "stream",
     "text": [
      "Special tokens have been added in the vocabulary, make sure the associated word embeddings are fine-tuned or trained.\n"
     ]
    }
   ],
   "source": [
    "processor = Wav2Vec2Processor.from_pretrained('artifacts/processor')"
   ]
  },
  {
   "cell_type": "code",
   "execution_count": 9,
   "id": "d18f0b3f",
   "metadata": {},
   "outputs": [],
   "source": [
    "data_collator = DataCollatorCTCWithPadding(processor=processor, padding=True)"
   ]
  },
  {
   "cell_type": "code",
   "execution_count": null,
   "id": "c1718159",
   "metadata": {},
   "outputs": [],
   "source": []
  },
  {
   "cell_type": "code",
   "execution_count": null,
   "id": "8a77eeb6",
   "metadata": {},
   "outputs": [],
   "source": []
  },
  {
   "cell_type": "code",
   "execution_count": 10,
   "id": "cf981809",
   "metadata": {},
   "outputs": [],
   "source": [
    "wer_metric = hfd.load_metric(\"wer\")"
   ]
  },
  {
   "cell_type": "code",
   "execution_count": 11,
   "id": "82afa2f3",
   "metadata": {},
   "outputs": [],
   "source": [
    "def compute_metrics(pred):\n",
    "    pred_logits = pred.predictions\n",
    "    pred_ids = np.argmax(pred_logits, axis=-1)\n",
    "\n",
    "    pred.label_ids[pred.label_ids == -100] = processor.tokenizer.pad_token_id\n",
    "\n",
    "    pred_str = processor.batch_decode(pred_ids)\n",
    "    # we do not want to group tokens when computing the metrics\n",
    "    label_str = processor.batch_decode(pred.label_ids, group_tokens=False)\n",
    "\n",
    "    wer = wer_metric.compute(predictions=pred_str, references=label_str)\n",
    "\n",
    "    return {\"wer\": wer}"
   ]
  },
  {
   "cell_type": "code",
   "execution_count": null,
   "id": "0b886c19",
   "metadata": {},
   "outputs": [],
   "source": []
  },
  {
   "cell_type": "code",
   "execution_count": 12,
   "id": "2fdb8add",
   "metadata": {},
   "outputs": [
    {
     "data": {
      "text/html": [
       "<div>\n",
       "<style scoped>\n",
       "    .dataframe tbody tr th:only-of-type {\n",
       "        vertical-align: middle;\n",
       "    }\n",
       "\n",
       "    .dataframe tbody tr th {\n",
       "        vertical-align: top;\n",
       "    }\n",
       "\n",
       "    .dataframe thead th {\n",
       "        text-align: right;\n",
       "    }\n",
       "</style>\n",
       "<table border=\"1\" class=\"dataframe\">\n",
       "  <thead>\n",
       "    <tr style=\"text-align: right;\">\n",
       "      <th></th>\n",
       "      <th>'</th>\n",
       "      <th>i</th>\n",
       "      <th>а</th>\n",
       "      <th>б</th>\n",
       "      <th>в</th>\n",
       "      <th>г</th>\n",
       "      <th>д</th>\n",
       "      <th>е</th>\n",
       "      <th>ж</th>\n",
       "      <th>з</th>\n",
       "      <th>й</th>\n",
       "      <th>к</th>\n",
       "      <th>л</th>\n",
       "      <th>м</th>\n",
       "      <th>н</th>\n",
       "      <th>о</th>\n",
       "      <th>п</th>\n",
       "      <th>р</th>\n",
       "      <th>с</th>\n",
       "      <th>т</th>\n",
       "      <th>у</th>\n",
       "      <th>ф</th>\n",
       "      <th>х</th>\n",
       "      <th>ц</th>\n",
       "      <th>ч</th>\n",
       "      <th>ш</th>\n",
       "      <th>ы</th>\n",
       "      <th>ь</th>\n",
       "      <th>э</th>\n",
       "      <th>ю</th>\n",
       "      <th>я</th>\n",
       "      <th>ё</th>\n",
       "      <th>і</th>\n",
       "      <th>ў</th>\n",
       "      <th>|</th>\n",
       "      <th>[UNK]</th>\n",
       "      <th>[PAD]</th>\n",
       "      <th>&lt;s&gt;</th>\n",
       "      <th>&lt;/s&gt;</th>\n",
       "    </tr>\n",
       "  </thead>\n",
       "  <tbody>\n",
       "    <tr>\n",
       "      <th>0</th>\n",
       "      <td>1</td>\n",
       "      <td>2</td>\n",
       "      <td>3</td>\n",
       "      <td>4</td>\n",
       "      <td>5</td>\n",
       "      <td>6</td>\n",
       "      <td>7</td>\n",
       "      <td>8</td>\n",
       "      <td>9</td>\n",
       "      <td>10</td>\n",
       "      <td>11</td>\n",
       "      <td>12</td>\n",
       "      <td>13</td>\n",
       "      <td>14</td>\n",
       "      <td>15</td>\n",
       "      <td>16</td>\n",
       "      <td>17</td>\n",
       "      <td>18</td>\n",
       "      <td>19</td>\n",
       "      <td>20</td>\n",
       "      <td>21</td>\n",
       "      <td>22</td>\n",
       "      <td>23</td>\n",
       "      <td>24</td>\n",
       "      <td>25</td>\n",
       "      <td>26</td>\n",
       "      <td>27</td>\n",
       "      <td>28</td>\n",
       "      <td>29</td>\n",
       "      <td>30</td>\n",
       "      <td>31</td>\n",
       "      <td>32</td>\n",
       "      <td>33</td>\n",
       "      <td>34</td>\n",
       "      <td>0</td>\n",
       "      <td>35</td>\n",
       "      <td>36</td>\n",
       "      <td>37</td>\n",
       "      <td>38</td>\n",
       "    </tr>\n",
       "  </tbody>\n",
       "</table>\n",
       "</div>"
      ],
      "text/plain": [
       "   '  i  а  б  в  г  д  е  ж   з   й   к   л   м   н   о   п   р   с   т   у  \\\n",
       "0  1  2  3  4  5  6  7  8  9  10  11  12  13  14  15  16  17  18  19  20  21   \n",
       "\n",
       "    ф   х   ц   ч   ш   ы   ь   э   ю   я   ё   і   ў  |  [UNK]  [PAD]  <s>  \\\n",
       "0  22  23  24  25  26  27  28  29  30  31  32  33  34  0     35     36   37   \n",
       "\n",
       "   </s>  \n",
       "0    38  "
      ]
     },
     "execution_count": 12,
     "metadata": {},
     "output_type": "execute_result"
    }
   ],
   "source": [
    "vocab = processor.tokenizer.get_vocab()\n",
    "pd.Series(vocab).to_frame().T"
   ]
  },
  {
   "cell_type": "code",
   "execution_count": 13,
   "id": "ccaaa1e9",
   "metadata": {},
   "outputs": [
    {
     "name": "stderr",
     "output_type": "stream",
     "text": [
      "2022-03-30 01:26:27,069:STT:INFO:vocab_size: 39\n"
     ]
    }
   ],
   "source": [
    "vocab_size = len(processor.tokenizer.get_vocab())\n",
    "logger.info(f'vocab_size: {vocab_size}')"
   ]
  },
  {
   "cell_type": "code",
   "execution_count": null,
   "id": "45ac58f4",
   "metadata": {},
   "outputs": [],
   "source": []
  },
  {
   "cell_type": "code",
   "execution_count": 14,
   "id": "6bb8334c",
   "metadata": {},
   "outputs": [
    {
     "name": "stdout",
     "output_type": "stream",
     "text": [
      "['scheduler.pt', 'preprocessor_config.json', 'training_args.bin', 'pytorch_model.bin', 'scaler.pt', 'config.json', 'rng_state.pth', 'optimizer.pt', 'trainer_state.json']\n"
     ]
    }
   ],
   "source": [
    "pretrained_checkpoint_dp = 'train/run_1/checkpoint-6480'\n",
    "print(os.listdir(pretrained_checkpoint_dp))"
   ]
  },
  {
   "cell_type": "code",
   "execution_count": null,
   "id": "c8646384",
   "metadata": {},
   "outputs": [],
   "source": []
  },
  {
   "cell_type": "code",
   "execution_count": 15,
   "id": "f5757aab",
   "metadata": {},
   "outputs": [],
   "source": [
    "# model = Wav2Vec2ForCTC.from_pretrained(\n",
    "#     \"facebook/wav2vec2-base\",\n",
    "#     ctc_loss_reduction=\"mean\", \n",
    "#     pad_token_id=processor.tokenizer.pad_token_id,\n",
    "#     vocab_size=vocab_size\n",
    "# )"
   ]
  },
  {
   "cell_type": "code",
   "execution_count": 16,
   "id": "14ff5326",
   "metadata": {},
   "outputs": [],
   "source": [
    "# continue from checkpoint\n",
    "model = Wav2Vec2ForCTC.from_pretrained(pretrained_checkpoint_dp)"
   ]
  },
  {
   "cell_type": "code",
   "execution_count": null,
   "id": "35c0d291",
   "metadata": {},
   "outputs": [],
   "source": [
    "model.freeze_feature_extractor()"
   ]
  },
  {
   "cell_type": "code",
   "execution_count": 18,
   "id": "ca4ae4c5",
   "metadata": {},
   "outputs": [
    {
     "data": {
      "text/plain": [
       "device(type='cpu')"
      ]
     },
     "execution_count": 18,
     "metadata": {},
     "output_type": "execute_result"
    }
   ],
   "source": [
    "model.device"
   ]
  },
  {
   "cell_type": "code",
   "execution_count": null,
   "id": "b0907435",
   "metadata": {},
   "outputs": [],
   "source": []
  },
  {
   "cell_type": "code",
   "execution_count": 19,
   "id": "9a1c5ab6",
   "metadata": {},
   "outputs": [
    {
     "name": "stdout",
     "output_type": "stream",
     "text": [
      "will save train output to: \"train/2022-03-30-01-26-34\"\n",
      "will save train logs to: \"train/2022-03-30-01-26-34/logs\"\n"
     ]
    }
   ],
   "source": [
    "now_str = datetime.now().strftime('%Y-%m-%d-%H-%M-%S')\n",
    "\n",
    "train_out_dp = os.path.join('train', now_str)\n",
    "os.makedirs(train_out_dp, exist_ok=True)\n",
    "print(f'will save train output to: \"{train_out_dp}\"')\n",
    "\n",
    "logs_dp = os.path.join(train_out_dp, 'logs')\n",
    "print(f'will save train logs to: \"{logs_dp}\"')"
   ]
  },
  {
   "cell_type": "code",
   "execution_count": 20,
   "id": "a88e0830",
   "metadata": {},
   "outputs": [],
   "source": [
    "steps = 1080\n",
    "\n",
    "training_args = TrainingArguments(\n",
    "    output_dir=train_out_dp,\n",
    "    logging_dir=logs_dp,\n",
    "\n",
    "    num_train_epochs=1,\n",
    "    evaluation_strategy='steps',\n",
    "    save_strategy='steps',\n",
    "    logging_strategy='steps',\n",
    "    eval_steps=steps,\n",
    "    logging_steps=steps,\n",
    "    save_steps=steps,\n",
    "    save_total_limit=None,\n",
    "    load_best_model_at_end=True,\n",
    "    metric_for_best_model='wer',\n",
    "    greater_is_better=False,\n",
    "\n",
    "    per_device_train_batch_size=16,\n",
    "    per_device_eval_batch_size=16,\n",
    "    fp16=True,\n",
    "    group_by_length=False,\n",
    "    gradient_checkpointing=True, \n",
    "    \n",
    "    learning_rate=1e-4,\n",
    "    weight_decay=0.005,\n",
    "    warmup_steps=1080,\n",
    ")"
   ]
  },
  {
   "cell_type": "code",
   "execution_count": 21,
   "id": "63d37d9b",
   "metadata": {},
   "outputs": [],
   "source": [
    "transformers.logging.set_verbosity_info()"
   ]
  },
  {
   "cell_type": "code",
   "execution_count": 22,
   "id": "9ea75887",
   "metadata": {},
   "outputs": [
    {
     "name": "stderr",
     "output_type": "stream",
     "text": [
      "Using amp half precision backend\n"
     ]
    }
   ],
   "source": [
    "trainer = Trainer(\n",
    "    model=model,\n",
    "    data_collator=data_collator,\n",
    "    args=training_args,\n",
    "    compute_metrics=compute_metrics,\n",
    "    train_dataset=ds['train'],\n",
    "    eval_dataset=ds['dev'],\n",
    "    tokenizer=processor.feature_extractor,\n",
    ")"
   ]
  },
  {
   "cell_type": "code",
   "execution_count": null,
   "id": "2f17cd38",
   "metadata": {},
   "outputs": [],
   "source": []
  },
  {
   "cell_type": "markdown",
   "id": "1e2d21cd",
   "metadata": {},
   "source": [
    "## train"
   ]
  },
  {
   "cell_type": "code",
   "execution_count": null,
   "id": "3cc926e6",
   "metadata": {},
   "outputs": [],
   "source": [
    "trainer.train()"
   ]
  },
  {
   "cell_type": "code",
   "execution_count": null,
   "id": "5e3e7127",
   "metadata": {},
   "outputs": [],
   "source": []
  },
  {
   "cell_type": "code",
   "execution_count": 24,
   "id": "cde22e28",
   "metadata": {},
   "outputs": [],
   "source": [
    "torch.cuda.empty_cache()"
   ]
  },
  {
   "cell_type": "code",
   "execution_count": null,
   "id": "703d2fda",
   "metadata": {},
   "outputs": [],
   "source": []
  },
  {
   "cell_type": "markdown",
   "id": "72334c3d",
   "metadata": {},
   "source": [
    "## evaluate"
   ]
  },
  {
   "cell_type": "code",
   "execution_count": 10,
   "id": "a94810d1",
   "metadata": {},
   "outputs": [
    {
     "name": "stdout",
     "output_type": "stream",
     "text": [
      "reading model from: \"train/2022-03-30-01-26-34/checkpoint-6480\"\n"
     ]
    }
   ],
   "source": [
    "finetuned_checkpoint_dp = 'train/2022-03-30-01-26-34/checkpoint-6480'\n",
    "print(f'reading model from: \"{finetuned_checkpoint_dp}\"')\n",
    "model = Wav2Vec2ForCTC.from_pretrained(finetuned_checkpoint_dp)\n",
    "model.to('cuda');"
   ]
  },
  {
   "cell_type": "code",
   "execution_count": null,
   "id": "061d5554",
   "metadata": {},
   "outputs": [],
   "source": []
  },
  {
   "cell_type": "code",
   "execution_count": 11,
   "id": "c0a04339",
   "metadata": {},
   "outputs": [],
   "source": [
    "wer_metric_2 = WerMetric(processor=processor)  # TODO: rename"
   ]
  },
  {
   "cell_type": "code",
   "execution_count": 12,
   "id": "a39f5f55",
   "metadata": {},
   "outputs": [],
   "source": [
    "training_args = TrainingArguments(\n",
    "    output_dir='eval_output',\n",
    "    per_device_eval_batch_size=16,\n",
    ")\n",
    "\n",
    "trainer = Trainer(\n",
    "    model=model,\n",
    "    data_collator=data_collator,\n",
    "    args=training_args,\n",
    "    compute_metrics=wer_metric_2.compute_metrics,\n",
    "    tokenizer=processor.feature_extractor,\n",
    ")"
   ]
  },
  {
   "cell_type": "code",
   "execution_count": null,
   "id": "2f640506",
   "metadata": {},
   "outputs": [],
   "source": [
    "pred_out = trainer.predict(ds['test'])"
   ]
  },
  {
   "cell_type": "code",
   "execution_count": 14,
   "id": "078459cd",
   "metadata": {},
   "outputs": [
    {
     "data": {
      "text/plain": [
       "{'test_loss': 0.1495739221572876,\n",
       " 'test_wer': 0.23438568674998445,\n",
       " 'test_runtime': 626.0028,\n",
       " 'test_samples_per_second': 25.241,\n",
       " 'test_steps_per_second': 0.527}"
      ]
     },
     "execution_count": 14,
     "metadata": {},
     "output_type": "execute_result"
    }
   ],
   "source": [
    "pred_out.metrics"
   ]
  },
  {
   "cell_type": "code",
   "execution_count": 58,
   "id": "901c0f52",
   "metadata": {},
   "outputs": [
    {
     "name": "stdout",
     "output_type": "stream",
     "text": [
      "Test WER using Acoustic Model only: 0.234\n"
     ]
    }
   ],
   "source": [
    "print(f\"Test WER using Acoustic Model only: {pred_out.metrics['test_wer'] :.3f}\")"
   ]
  },
  {
   "cell_type": "code",
   "execution_count": null,
   "id": "42c2d132",
   "metadata": {},
   "outputs": [],
   "source": []
  },
  {
   "cell_type": "markdown",
   "id": "4e9f3c37",
   "metadata": {},
   "source": [
    "### examples of model predictions"
   ]
  },
  {
   "cell_type": "code",
   "execution_count": 47,
   "id": "3dbe5696",
   "metadata": {},
   "outputs": [],
   "source": [
    "import matplotlib.pyplot as plt\n",
    "import seaborn as sns\n",
    "sns.set(font_scale=1.1);"
   ]
  },
  {
   "cell_type": "code",
   "execution_count": 17,
   "id": "12180160",
   "metadata": {},
   "outputs": [],
   "source": [
    "parsed_preds = parse_w2v2_predictions_batched(pred_out, processor=processor)"
   ]
  },
  {
   "cell_type": "code",
   "execution_count": 22,
   "id": "3ad57eb6",
   "metadata": {},
   "outputs": [
    {
     "data": {
      "text/html": [
       "<div>\n",
       "<style scoped>\n",
       "    .dataframe tbody tr th:only-of-type {\n",
       "        vertical-align: middle;\n",
       "    }\n",
       "\n",
       "    .dataframe tbody tr th {\n",
       "        vertical-align: top;\n",
       "    }\n",
       "\n",
       "    .dataframe thead th {\n",
       "        text-align: right;\n",
       "    }\n",
       "</style>\n",
       "<table border=\"1\" class=\"dataframe\">\n",
       "  <thead>\n",
       "    <tr style=\"text-align: right;\">\n",
       "      <th></th>\n",
       "      <th>text</th>\n",
       "      <th>pred_text</th>\n",
       "      <th>success</th>\n",
       "      <th>wer</th>\n",
       "    </tr>\n",
       "  </thead>\n",
       "  <tbody>\n",
       "    <tr>\n",
       "      <th>0</th>\n",
       "      <td>і на гэтым кірунку нас чакаюць вялікія складанасці</td>\n",
       "      <td>і на гэтым кірунку нас чакаюць вялікія складанасці</td>\n",
       "      <td>1</td>\n",
       "      <td>0.000000</td>\n",
       "    </tr>\n",
       "    <tr>\n",
       "      <th>1</th>\n",
       "      <td>быў разбураны пры вызваленні горада ад нямецкафашысцкіх захопнікаў</td>\n",
       "      <td>быў разбураны пры вызваленні горада аднямецка фашынцкіх захопнікаў</td>\n",
       "      <td>0</td>\n",
       "      <td>0.250000</td>\n",
       "    </tr>\n",
       "    <tr>\n",
       "      <th>2</th>\n",
       "      <td>далейшае супрацоўніцтва паміж нямецкім і савецкім прыняло форму абмену польскіх ваеннапалонных</td>\n",
       "      <td>далейша супрацоніцтваў мічнямецкім савецкім пыняўа форамуў абменну польскіх ваеннапоглам</td>\n",
       "      <td>0</td>\n",
       "      <td>0.818182</td>\n",
       "    </tr>\n",
       "    <tr>\n",
       "      <th>3</th>\n",
       "      <td>цвіценне працягваецца з мая да позняй восені</td>\n",
       "      <td>цвіценне працягваецца з мая да позняй восені</td>\n",
       "      <td>1</td>\n",
       "      <td>0.000000</td>\n",
       "    </tr>\n",
       "    <tr>\n",
       "      <th>4</th>\n",
       "      <td>таксама пройдзе канферэнцыя фестываль і мастацкая выстава</td>\n",
       "      <td>таксама пройдзе канферэнцыя фестываль і мастацкая выстала</td>\n",
       "      <td>0</td>\n",
       "      <td>0.142857</td>\n",
       "    </tr>\n",
       "  </tbody>\n",
       "</table>\n",
       "</div>"
      ],
      "text/plain": [
       "                                                                                             text  \\\n",
       "0                                              і на гэтым кірунку нас чакаюць вялікія складанасці   \n",
       "1                              быў разбураны пры вызваленні горада ад нямецкафашысцкіх захопнікаў   \n",
       "2  далейшае супрацоўніцтва паміж нямецкім і савецкім прыняло форму абмену польскіх ваеннапалонных   \n",
       "3                                                    цвіценне працягваецца з мая да позняй восені   \n",
       "4                                       таксама пройдзе канферэнцыя фестываль і мастацкая выстава   \n",
       "\n",
       "                                                                                  pred_text  \\\n",
       "0                                        і на гэтым кірунку нас чакаюць вялікія складанасці   \n",
       "1                        быў разбураны пры вызваленні горада аднямецка фашынцкіх захопнікаў   \n",
       "2  далейша супрацоніцтваў мічнямецкім савецкім пыняўа форамуў абменну польскіх ваеннапоглам   \n",
       "3                                              цвіценне працягваецца з мая да позняй восені   \n",
       "4                                 таксама пройдзе канферэнцыя фестываль і мастацкая выстала   \n",
       "\n",
       "   success       wer  \n",
       "0        1  0.000000  \n",
       "1        0  0.250000  \n",
       "2        0  0.818182  \n",
       "3        1  0.000000  \n",
       "4        0  0.142857  "
      ]
     },
     "execution_count": 22,
     "metadata": {},
     "output_type": "execute_result"
    }
   ],
   "source": [
    "df_results = pd.DataFrame(parsed_preds)[['text', 'pred_text']]\n",
    "print(df_results.shape)\n",
    "\n",
    "df_results['success'] = (df_results['text'] == df_results['pred_text']).astype('int')\n",
    "df_results['wer'] = df_results.apply(\n",
    "    lambda row: \n",
    "    wer_metric_2.wer_metric.compute(\n",
    "        predictions=[row['pred_text']],\n",
    "        references=[row['text']]\n",
    "    ),\n",
    "    axis=1\n",
    ")\n",
    "\n",
    "df_results.head()"
   ]
  },
  {
   "cell_type": "code",
   "execution_count": 25,
   "id": "f3197a60",
   "metadata": {},
   "outputs": [
    {
     "data": {
      "text/plain": [
       "(15801, 4)"
      ]
     },
     "execution_count": 25,
     "metadata": {},
     "output_type": "execute_result"
    }
   ],
   "source": [
    "df_results.shape"
   ]
  },
  {
   "cell_type": "code",
   "execution_count": 34,
   "id": "9447dad3",
   "metadata": {},
   "outputs": [
    {
     "data": {
      "text/html": [
       "<div>\n",
       "<style scoped>\n",
       "    .dataframe tbody tr th:only-of-type {\n",
       "        vertical-align: middle;\n",
       "    }\n",
       "\n",
       "    .dataframe tbody tr th {\n",
       "        vertical-align: top;\n",
       "    }\n",
       "\n",
       "    .dataframe thead th {\n",
       "        text-align: right;\n",
       "    }\n",
       "</style>\n",
       "<table border=\"1\" class=\"dataframe\">\n",
       "  <thead>\n",
       "    <tr style=\"text-align: right;\">\n",
       "      <th></th>\n",
       "      <th>fraction</th>\n",
       "      <th>abs</th>\n",
       "    </tr>\n",
       "  </thead>\n",
       "  <tbody>\n",
       "    <tr>\n",
       "      <th>0</th>\n",
       "      <td>0.712044</td>\n",
       "      <td>11251</td>\n",
       "    </tr>\n",
       "    <tr>\n",
       "      <th>1</th>\n",
       "      <td>0.287956</td>\n",
       "      <td>4550</td>\n",
       "    </tr>\n",
       "  </tbody>\n",
       "</table>\n",
       "</div>"
      ],
      "text/plain": [
       "   fraction    abs\n",
       "0  0.712044  11251\n",
       "1  0.287956   4550"
      ]
     },
     "execution_count": 34,
     "metadata": {},
     "output_type": "execute_result"
    }
   ],
   "source": [
    "success_stats = df_results['success'].value_counts(dropna=False, normalize=True)\n",
    "success_stats = success_stats.to_frame('fraction').join(\n",
    "    df_results['success'].value_counts(dropna=False).rename('abs')\n",
    ")\n",
    "success_stats"
   ]
  },
  {
   "cell_type": "code",
   "execution_count": 39,
   "id": "ec0ffe68",
   "metadata": {},
   "outputs": [
    {
     "name": "stdout",
     "output_type": "stream",
     "text": [
      "Rate of fully recognized clips from Test set using Acoustic Model only: 28.796%\n"
     ]
    }
   ],
   "source": [
    "print(f'Rate of fully recognized clips from Test set using Acoustic Model only: '\n",
    "      f\"{success_stats.loc[1, 'fraction'] :.3%}\")"
   ]
  },
  {
   "cell_type": "code",
   "execution_count": null,
   "id": "0c67a5e0",
   "metadata": {},
   "outputs": [],
   "source": []
  },
  {
   "cell_type": "code",
   "execution_count": 40,
   "id": "84d32f50",
   "metadata": {},
   "outputs": [
    {
     "data": {
      "text/html": [
       "<div>\n",
       "<style scoped>\n",
       "    .dataframe tbody tr th:only-of-type {\n",
       "        vertical-align: middle;\n",
       "    }\n",
       "\n",
       "    .dataframe tbody tr th {\n",
       "        vertical-align: top;\n",
       "    }\n",
       "\n",
       "    .dataframe thead th {\n",
       "        text-align: right;\n",
       "    }\n",
       "</style>\n",
       "<table border=\"1\" class=\"dataframe\">\n",
       "  <thead>\n",
       "    <tr style=\"text-align: right;\">\n",
       "      <th></th>\n",
       "      <th>text</th>\n",
       "      <th>pred_text</th>\n",
       "      <th>success</th>\n",
       "      <th>wer</th>\n",
       "    </tr>\n",
       "  </thead>\n",
       "  <tbody>\n",
       "    <tr>\n",
       "      <th>9235</th>\n",
       "      <td>елі гэтую страву звычайна разагрэтай</td>\n",
       "      <td>і ле гэтуую страву звычэйна раза гэта</td>\n",
       "      <td>0</td>\n",
       "      <td>1.200000</td>\n",
       "    </tr>\n",
       "    <tr>\n",
       "      <th>5359</th>\n",
       "      <td>асудзіў масонства сацыялізм камунізм нігілізм</td>\n",
       "      <td>аслудзіў у масорыства сацыялізмы камунізма негілізм</td>\n",
       "      <td>0</td>\n",
       "      <td>1.200000</td>\n",
       "    </tr>\n",
       "    <tr>\n",
       "      <th>10354</th>\n",
       "      <td>улезла глыбей ямачку сабе вылежала</td>\n",
       "      <td>у лезла я глабе ямошку сабе вылежыла</td>\n",
       "      <td>0</td>\n",
       "      <td>1.200000</td>\n",
       "    </tr>\n",
       "    <tr>\n",
       "      <th>8877</th>\n",
       "      <td>дрэвы маюць гладкую светлашэрую кару</td>\n",
       "      <td>трэба мач ладкую светла шэрую каромну</td>\n",
       "      <td>0</td>\n",
       "      <td>1.200000</td>\n",
       "    </tr>\n",
       "    <tr>\n",
       "      <th>824</th>\n",
       "      <td>нахіліўшы галаву абдзіраловіч прачытаў цісненне капітал</td>\n",
       "      <td>нахілевы жа халавў ціравовячы пачытаў ціснення капітаў</td>\n",
       "      <td>0</td>\n",
       "      <td>1.166667</td>\n",
       "    </tr>\n",
       "  </tbody>\n",
       "</table>\n",
       "</div>"
      ],
      "text/plain": [
       "                                                          text  \\\n",
       "9235                      елі гэтую страву звычайна разагрэтай   \n",
       "5359             асудзіў масонства сацыялізм камунізм нігілізм   \n",
       "10354                       улезла глыбей ямачку сабе вылежала   \n",
       "8877                      дрэвы маюць гладкую светлашэрую кару   \n",
       "824    нахіліўшы галаву абдзіраловіч прачытаў цісненне капітал   \n",
       "\n",
       "                                                    pred_text  success  \\\n",
       "9235                    і ле гэтуую страву звычэйна раза гэта        0   \n",
       "5359      аслудзіў у масорыства сацыялізмы камунізма негілізм        0   \n",
       "10354                    у лезла я глабе ямошку сабе вылежыла        0   \n",
       "8877                    трэба мач ладкую светла шэрую каромну        0   \n",
       "824    нахілевы жа халавў ціравовячы пачытаў ціснення капітаў        0   \n",
       "\n",
       "            wer  \n",
       "9235   1.200000  \n",
       "5359   1.200000  \n",
       "10354  1.200000  \n",
       "8877   1.200000  \n",
       "824    1.166667  "
      ]
     },
     "execution_count": 40,
     "metadata": {},
     "output_type": "execute_result"
    }
   ],
   "source": [
    "df_results.sort_values('wer', ascending=False).head()"
   ]
  },
  {
   "cell_type": "code",
   "execution_count": 41,
   "id": "d42317b5",
   "metadata": {},
   "outputs": [
    {
     "data": {
      "text/html": [
       "<div>\n",
       "<style scoped>\n",
       "    .dataframe tbody tr th:only-of-type {\n",
       "        vertical-align: middle;\n",
       "    }\n",
       "\n",
       "    .dataframe tbody tr th {\n",
       "        vertical-align: top;\n",
       "    }\n",
       "\n",
       "    .dataframe thead th {\n",
       "        text-align: right;\n",
       "    }\n",
       "</style>\n",
       "<table border=\"1\" class=\"dataframe\">\n",
       "  <thead>\n",
       "    <tr style=\"text-align: right;\">\n",
       "      <th></th>\n",
       "      <th>text</th>\n",
       "      <th>pred_text</th>\n",
       "      <th>success</th>\n",
       "      <th>wer</th>\n",
       "    </tr>\n",
       "  </thead>\n",
       "  <tbody>\n",
       "    <tr>\n",
       "      <th>0</th>\n",
       "      <td>і на гэтым кірунку нас чакаюць вялікія складанасці</td>\n",
       "      <td>і на гэтым кірунку нас чакаюць вялікія складанасці</td>\n",
       "      <td>1</td>\n",
       "      <td>0.0</td>\n",
       "    </tr>\n",
       "    <tr>\n",
       "      <th>8018</th>\n",
       "      <td>а выйшла што зусім не хочацца есці</td>\n",
       "      <td>а выйшла што зусім не хочацца есці</td>\n",
       "      <td>1</td>\n",
       "      <td>0.0</td>\n",
       "    </tr>\n",
       "    <tr>\n",
       "      <th>8017</th>\n",
       "      <td>і таму кажа спакойна вылучылі свайго кандыдата</td>\n",
       "      <td>і таму кажа спакойна вылучылі свайго кандыдата</td>\n",
       "      <td>1</td>\n",
       "      <td>0.0</td>\n",
       "    </tr>\n",
       "    <tr>\n",
       "      <th>8016</th>\n",
       "      <td>а мне дакладна скажуць што і так нармальна</td>\n",
       "      <td>а мне дакладна скажуць што і так нармальна</td>\n",
       "      <td>1</td>\n",
       "      <td>0.0</td>\n",
       "    </tr>\n",
       "    <tr>\n",
       "      <th>8015</th>\n",
       "      <td>не паедзеш за мяжу</td>\n",
       "      <td>не паедзеш за мяжу</td>\n",
       "      <td>1</td>\n",
       "      <td>0.0</td>\n",
       "    </tr>\n",
       "  </tbody>\n",
       "</table>\n",
       "</div>"
      ],
      "text/plain": [
       "                                                    text  \\\n",
       "0     і на гэтым кірунку нас чакаюць вялікія складанасці   \n",
       "8018                  а выйшла што зусім не хочацца есці   \n",
       "8017      і таму кажа спакойна вылучылі свайго кандыдата   \n",
       "8016          а мне дакладна скажуць што і так нармальна   \n",
       "8015                                  не паедзеш за мяжу   \n",
       "\n",
       "                                               pred_text  success  wer  \n",
       "0     і на гэтым кірунку нас чакаюць вялікія складанасці        1  0.0  \n",
       "8018                  а выйшла што зусім не хочацца есці        1  0.0  \n",
       "8017      і таму кажа спакойна вылучылі свайго кандыдата        1  0.0  \n",
       "8016          а мне дакладна скажуць што і так нармальна        1  0.0  \n",
       "8015                                  не паедзеш за мяжу        1  0.0  "
      ]
     },
     "execution_count": 41,
     "metadata": {},
     "output_type": "execute_result"
    }
   ],
   "source": [
    "df_results.sort_values('wer', ascending=True).head()"
   ]
  },
  {
   "cell_type": "code",
   "execution_count": null,
   "id": "9ebd058d",
   "metadata": {},
   "outputs": [],
   "source": []
  },
  {
   "cell_type": "code",
   "execution_count": 59,
   "id": "852ff4c8",
   "metadata": {},
   "outputs": [
    {
     "data": {
      "text/html": [
       "<div>\n",
       "<style scoped>\n",
       "    .dataframe tbody tr th:only-of-type {\n",
       "        vertical-align: middle;\n",
       "    }\n",
       "\n",
       "    .dataframe tbody tr th {\n",
       "        vertical-align: top;\n",
       "    }\n",
       "\n",
       "    .dataframe thead th {\n",
       "        text-align: right;\n",
       "    }\n",
       "</style>\n",
       "<table border=\"1\" class=\"dataframe\">\n",
       "  <thead>\n",
       "    <tr style=\"text-align: right;\">\n",
       "      <th></th>\n",
       "      <th>text</th>\n",
       "      <th>pred_text</th>\n",
       "      <th>success</th>\n",
       "      <th>wer</th>\n",
       "    </tr>\n",
       "  </thead>\n",
       "  <tbody>\n",
       "    <tr>\n",
       "      <th>12</th>\n",
       "      <td>толькі ў раёне таксама нашы людзі вясковыя</td>\n",
       "      <td>толькі ў раёне таксама наш людзі вясковая</td>\n",
       "      <td>0</td>\n",
       "      <td>0.285714</td>\n",
       "    </tr>\n",
       "    <tr>\n",
       "      <th>9532</th>\n",
       "      <td>у яго нават ёсць сольныя выступы</td>\n",
       "      <td>у яго нават ёсць сэльныя выступы</td>\n",
       "      <td>0</td>\n",
       "      <td>0.166667</td>\n",
       "    </tr>\n",
       "    <tr>\n",
       "      <th>9533</th>\n",
       "      <td>на ўзвышшы што ў цэнтры пляцоўкі стаяла абарончая вежа</td>\n",
       "      <td>наўзвышшы што ў цэнтры пляцоўкі стаяла абарончая вежа</td>\n",
       "      <td>0</td>\n",
       "      <td>0.222222</td>\n",
       "    </tr>\n",
       "    <tr>\n",
       "      <th>12305</th>\n",
       "      <td>шлюбам папярэднічалі перагаворы паміж сем'ямі</td>\n",
       "      <td>шлюбам папярэднічалі перагаворы паміж сем'ямі</td>\n",
       "      <td>1</td>\n",
       "      <td>0.000000</td>\n",
       "    </tr>\n",
       "  </tbody>\n",
       "</table>\n",
       "</div>"
      ],
      "text/plain": [
       "                                                         text  \\\n",
       "12                 толькі ў раёне таксама нашы людзі вясковыя   \n",
       "9532                         у яго нават ёсць сольныя выступы   \n",
       "9533   на ўзвышшы што ў цэнтры пляцоўкі стаяла абарончая вежа   \n",
       "12305           шлюбам папярэднічалі перагаворы паміж сем'ямі   \n",
       "\n",
       "                                                   pred_text  success  \\\n",
       "12                 толькі ў раёне таксама наш людзі вясковая        0   \n",
       "9532                        у яго нават ёсць сэльныя выступы        0   \n",
       "9533   наўзвышшы што ў цэнтры пляцоўкі стаяла абарончая вежа        0   \n",
       "12305          шлюбам папярэднічалі перагаворы паміж сем'ямі        1   \n",
       "\n",
       "            wer  \n",
       "12     0.285714  \n",
       "9532   0.166667  \n",
       "9533   0.222222  \n",
       "12305  0.000000  "
      ]
     },
     "execution_count": 59,
     "metadata": {},
     "output_type": "execute_result"
    }
   ],
   "source": [
    "df_results.iloc[[12, 9532, 9533,12305]]"
   ]
  },
  {
   "cell_type": "code",
   "execution_count": null,
   "id": "2ec04e1a",
   "metadata": {},
   "outputs": [],
   "source": []
  },
  {
   "cell_type": "code",
   "execution_count": null,
   "id": "b6f993e4",
   "metadata": {},
   "outputs": [],
   "source": []
  },
  {
   "cell_type": "markdown",
   "id": "dc80ade9",
   "metadata": {},
   "source": [
    "### wer stats for test set items"
   ]
  },
  {
   "cell_type": "code",
   "execution_count": 54,
   "id": "95b1720b",
   "metadata": {},
   "outputs": [
    {
     "data": {
      "text/plain": [
       "count    15801.000000\n",
       "mean         0.227199\n",
       "std          0.213068\n",
       "min          0.000000\n",
       "25%          0.000000\n",
       "50%          0.200000\n",
       "75%          0.363636\n",
       "max          1.200000\n",
       "Name: wer, dtype: float64"
      ]
     },
     "metadata": {},
     "output_type": "display_data"
    },
    {
     "data": {
      "image/png": "[encoded data removed]",
      "text/plain": [
       "<Figure size 576x360 with 1 Axes>"
      ]
     },
     "metadata": {},
     "output_type": "display_data"
    }
   ],
   "source": [
    "display(df_results['wer'].describe())\n",
    "\n",
    "df_results['wer'].plot.hist(bins=50, figsize=(8, 5));\n",
    "plt.title('WER distribution over Test set items');\n",
    "plt.axvline(1, color='red', alpha=0.5);"
   ]
  },
  {
   "cell_type": "code",
   "execution_count": null,
   "id": "f96087c7",
   "metadata": {},
   "outputs": [],
   "source": []
  },
  {
   "cell_type": "code",
   "execution_count": null,
   "id": "8f43696a",
   "metadata": {},
   "outputs": [],
   "source": []
  },
  {
   "cell_type": "code",
   "execution_count": null,
   "id": "0997463c",
   "metadata": {},
   "outputs": [],
   "source": []
  },
  {
   "cell_type": "code",
   "execution_count": null,
   "id": "ed13289e",
   "metadata": {},
   "outputs": [],
   "source": []
  }
 ],
 "metadata": {
  "kernelspec": {
   "display_name": "Python 3 (ipykernel)",
   "language": "python",
   "name": "python3"
  },
  "language_info": {
   "codemirror_mode": {
    "name": "ipython",
    "version": 3
   },
   "file_extension": ".py",
   "mimetype": "text/x-python",
   "name": "python",
   "nbconvert_exporter": "python",
   "pygments_lexer": "ipython3",
   "version": "3.9.7"
  },
  "toc": {
   "base_numbering": 1,
   "nav_menu": {},
   "number_sections": true,
   "sideBar": true,
   "skip_h1_title": false,
   "title_cell": "Table of Contents",
   "title_sidebar": "Contents",
   "toc_cell": false,
   "toc_position": {},
   "toc_section_display": true,
   "toc_window_display": true
  }
 },
 "nbformat": 4,
 "nbformat_minor": 5
}
