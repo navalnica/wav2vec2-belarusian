{
 "cells": [
  {
   "cell_type": "code",
   "execution_count": 1,
   "id": "58e50988",
   "metadata": {},
   "outputs": [],
   "source": [
    "import os\n",
    "\n",
    "import numpy as np\n",
    "import pandas as pd\n",
    "\n",
    "import IPython.display as ipd\n",
    "\n",
    "import torchaudio\n",
    "import datasets as hfd\n",
    "\n",
    "import matplotlib.pyplot as plt\n",
    "import seaborn as sns\n",
    "sns.set(font_scale=1.1)"
   ]
  },
  {
   "cell_type": "code",
   "execution_count": 2,
   "id": "0c21b4c9",
   "metadata": {},
   "outputs": [],
   "source": [
    "import logging\n",
    "logging_format_str = '%(asctime)s:%(name)s:%(levelname)s:%(message)s'\n",
    "logging.basicConfig(format=logging_format_str, level=logging.WARNING)\n",
    "logger = logging.getLogger('STT')\n",
    "logger.setLevel(level=logging.DEBUG)"
   ]
  },
  {
   "cell_type": "code",
   "execution_count": null,
   "id": "6c0e7f9d",
   "metadata": {},
   "outputs": [],
   "source": []
  },
  {
   "cell_type": "code",
   "execution_count": 3,
   "id": "6f4eb5ad",
   "metadata": {},
   "outputs": [],
   "source": [
    "DATA_ROOT_DP = os.environ['DATA_HOME']\n",
    "CV_DP = f'{DATA_ROOT_DP}/datasets/cv-corpus-8.0-2022-01-19/be'\n",
    "CLIPS_DP = os.path.join(CV_DP, 'clips')\n",
    "\n",
    "CV_PROCESSED_DP = f'{DATA_ROOT_DP}/datasets/cv-corpus-8.0-2022-01-19__be__processed'"
   ]
  },
  {
   "cell_type": "code",
   "execution_count": null,
   "id": "e478ea14",
   "metadata": {},
   "outputs": [],
   "source": []
  },
  {
   "cell_type": "code",
   "execution_count": 29,
   "id": "1a1badad",
   "metadata": {},
   "outputs": [],
   "source": [
    "# !rm -r $CV_PROCESSED_DP"
   ]
  },
  {
   "cell_type": "code",
   "execution_count": null,
   "id": "8feba3a6",
   "metadata": {},
   "outputs": [],
   "source": []
  },
  {
   "cell_type": "markdown",
   "id": "aefdc6c4",
   "metadata": {},
   "source": [
    "## process"
   ]
  },
  {
   "cell_type": "code",
   "execution_count": 5,
   "id": "74ea8fbb",
   "metadata": {},
   "outputs": [],
   "source": [
    "splits = ['train', 'dev', 'test']"
   ]
  },
  {
   "cell_type": "code",
   "execution_count": 6,
   "id": "4d325f71",
   "metadata": {},
   "outputs": [
    {
     "name": "stderr",
     "output_type": "stream",
     "text": [
      "2022-03-28 21:07:15,362:STT:DEBUG:df_train.shape: (314305, 10)\n",
      "2022-03-28 21:07:15,407:STT:DEBUG:df_dev.shape: (15803, 10)\n",
      "2022-03-28 21:07:15,452:STT:DEBUG:df_test.shape: (15801, 10)\n"
     ]
    }
   ],
   "source": [
    "df = {}\n",
    "for split in splits:\n",
    "    df[split] = pd.read_csv(os.path.join(CV_DP, f'{split}.tsv'), delimiter='\\t')\n",
    "    logger.debug(f'df_{split}.shape: {df[split].shape}')"
   ]
  },
  {
   "cell_type": "code",
   "execution_count": 7,
   "id": "a42c414a",
   "metadata": {},
   "outputs": [
    {
     "data": {
      "text/html": [
       "<div>\n",
       "<style scoped>\n",
       "    .dataframe tbody tr th:only-of-type {\n",
       "        vertical-align: middle;\n",
       "    }\n",
       "\n",
       "    .dataframe tbody tr th {\n",
       "        vertical-align: top;\n",
       "    }\n",
       "\n",
       "    .dataframe thead th {\n",
       "        text-align: right;\n",
       "    }\n",
       "</style>\n",
       "<table border=\"1\" class=\"dataframe\">\n",
       "  <thead>\n",
       "    <tr style=\"text-align: right;\">\n",
       "      <th></th>\n",
       "      <th>client_id</th>\n",
       "      <th>path</th>\n",
       "      <th>sentence</th>\n",
       "      <th>up_votes</th>\n",
       "      <th>down_votes</th>\n",
       "      <th>age</th>\n",
       "      <th>gender</th>\n",
       "      <th>accents</th>\n",
       "      <th>locale</th>\n",
       "      <th>segment</th>\n",
       "    </tr>\n",
       "  </thead>\n",
       "  <tbody>\n",
       "    <tr>\n",
       "      <th>0</th>\n",
       "      <td>9356b041bf9c40eb40bc036a354b69f47709e0cae8d619...</td>\n",
       "      <td>common_voice_be_29365148.mp3</td>\n",
       "      <td>Прыкладам таму можа быць мой уласны досвед.</td>\n",
       "      <td>2</td>\n",
       "      <td>0</td>\n",
       "      <td>NaN</td>\n",
       "      <td>NaN</td>\n",
       "      <td>NaN</td>\n",
       "      <td>be</td>\n",
       "      <td>NaN</td>\n",
       "    </tr>\n",
       "  </tbody>\n",
       "</table>\n",
       "</div>"
      ],
      "text/plain": [
       "                                           client_id  \\\n",
       "0  9356b041bf9c40eb40bc036a354b69f47709e0cae8d619...   \n",
       "\n",
       "                           path                                     sentence  \\\n",
       "0  common_voice_be_29365148.mp3  Прыкладам таму можа быць мой уласны досвед.   \n",
       "\n",
       "   up_votes  down_votes  age gender  accents locale  segment  \n",
       "0         2           0  NaN    NaN      NaN     be      NaN  "
      ]
     },
     "execution_count": 7,
     "metadata": {},
     "output_type": "execute_result"
    }
   ],
   "source": [
    "df['train'].head(1)"
   ]
  },
  {
   "cell_type": "code",
   "execution_count": null,
   "id": "e9fea412",
   "metadata": {},
   "outputs": [],
   "source": []
  },
  {
   "cell_type": "code",
   "execution_count": 8,
   "id": "938a5303",
   "metadata": {},
   "outputs": [],
   "source": [
    "ds = hfd.DatasetDict({\n",
    "    split: hfd.Dataset.from_pandas(df[split][['path', 'sentence']])\n",
    "    for split in splits\n",
    "})"
   ]
  },
  {
   "cell_type": "code",
   "execution_count": 9,
   "id": "ac1c7786",
   "metadata": {},
   "outputs": [
    {
     "data": {
      "text/plain": [
       "DatasetDict({\n",
       "    train: Dataset({\n",
       "        features: ['path', 'sentence'],\n",
       "        num_rows: 314305\n",
       "    })\n",
       "    dev: Dataset({\n",
       "        features: ['path', 'sentence'],\n",
       "        num_rows: 15803\n",
       "    })\n",
       "    test: Dataset({\n",
       "        features: ['path', 'sentence'],\n",
       "        num_rows: 15801\n",
       "    })\n",
       "})"
      ]
     },
     "execution_count": 9,
     "metadata": {},
     "output_type": "execute_result"
    }
   ],
   "source": [
    "ds"
   ]
  },
  {
   "cell_type": "code",
   "execution_count": 10,
   "id": "58ca7b8a",
   "metadata": {},
   "outputs": [
    {
     "data": {
      "text/plain": [
       "{'train': [], 'dev': [], 'test': []}"
      ]
     },
     "execution_count": 10,
     "metadata": {},
     "output_type": "execute_result"
    }
   ],
   "source": [
    "ds.cache_files"
   ]
  },
  {
   "cell_type": "code",
   "execution_count": 11,
   "id": "b1842182",
   "metadata": {},
   "outputs": [
    {
     "data": {
      "text/plain": [
       "{'path': 'common_voice_be_29365148.mp3',\n",
       " 'sentence': 'Прыкладам таму можа быць мой уласны досвед.'}"
      ]
     },
     "execution_count": 11,
     "metadata": {},
     "output_type": "execute_result"
    }
   ],
   "source": [
    "ds['train'][0]"
   ]
  },
  {
   "cell_type": "code",
   "execution_count": 12,
   "id": "5c3e3baf",
   "metadata": {},
   "outputs": [
    {
     "data": {
      "text/plain": [
       "{'path': 'common_voice_be_29793303.mp3',\n",
       " 'sentence': 'І на гэтым кірунку нас чакаюць вялікія складанасці.'}"
      ]
     },
     "execution_count": 12,
     "metadata": {},
     "output_type": "execute_result"
    }
   ],
   "source": [
    "ds['test'][0]"
   ]
  },
  {
   "cell_type": "code",
   "execution_count": null,
   "id": "8ffdfb8a",
   "metadata": {},
   "outputs": [],
   "source": []
  },
  {
   "cell_type": "code",
   "execution_count": 13,
   "id": "8dc2ea91",
   "metadata": {},
   "outputs": [],
   "source": [
    "def get_full_path(example, root_dp: str):\n",
    "    example['path'] = os.path.join(root_dp, example['path'])\n",
    "    return example"
   ]
  },
  {
   "cell_type": "code",
   "execution_count": 14,
   "id": "9bcdaa3d",
   "metadata": {},
   "outputs": [
    {
     "data": {
      "application/vnd.jupyter.widget-view+json": {
       "model_id": "8f77a317c4da4d94a15a8a6b65f361ac",
       "version_major": 2,
       "version_minor": 0
      },
      "text/plain": [
       "0ex [00:00, ?ex/s]"
      ]
     },
     "metadata": {},
     "output_type": "display_data"
    },
    {
     "data": {
      "application/vnd.jupyter.widget-view+json": {
       "model_id": "4a0f1011cf9c490cb455df78c25e7d53",
       "version_major": 2,
       "version_minor": 0
      },
      "text/plain": [
       "0ex [00:00, ?ex/s]"
      ]
     },
     "metadata": {},
     "output_type": "display_data"
    },
    {
     "data": {
      "application/vnd.jupyter.widget-view+json": {
       "model_id": "7a145345100547ea880fcd510d52be13",
       "version_major": 2,
       "version_minor": 0
      },
      "text/plain": [
       "0ex [00:00, ?ex/s]"
      ]
     },
     "metadata": {},
     "output_type": "display_data"
    }
   ],
   "source": [
    "ds = ds.map(get_full_path, fn_kwargs=dict(root_dp=CLIPS_DP))\n",
    "\n",
    "ds = ds.cast_column('path', hfd.Audio(sampling_rate=16_000, mono=True))\n",
    "ds = ds.rename_column('path', 'audio')"
   ]
  },
  {
   "cell_type": "code",
   "execution_count": null,
   "id": "8ff69b1c",
   "metadata": {},
   "outputs": [],
   "source": []
  },
  {
   "cell_type": "code",
   "execution_count": 24,
   "id": "61f1b192",
   "metadata": {},
   "outputs": [],
   "source": [
    "# ds['train'][0]"
   ]
  },
  {
   "cell_type": "code",
   "execution_count": 25,
   "id": "004f6ed9",
   "metadata": {},
   "outputs": [],
   "source": [
    "# ds['dev'][0]"
   ]
  },
  {
   "cell_type": "code",
   "execution_count": null,
   "id": "e4272910",
   "metadata": {},
   "outputs": [],
   "source": []
  },
  {
   "cell_type": "code",
   "execution_count": 17,
   "id": "332a5850",
   "metadata": {},
   "outputs": [],
   "source": [
    "ds.save_to_disk(os.path.join(CV_PROCESSED_DP))"
   ]
  },
  {
   "cell_type": "code",
   "execution_count": null,
   "id": "e5df9ac8",
   "metadata": {},
   "outputs": [],
   "source": []
  },
  {
   "cell_type": "markdown",
   "id": "6a53fb26",
   "metadata": {},
   "source": [
    "## validate"
   ]
  },
  {
   "cell_type": "code",
   "execution_count": 18,
   "id": "7e60f994",
   "metadata": {},
   "outputs": [
    {
     "name": "stdout",
     "output_type": "stream",
     "text": [
      "dataset_dict.json  dev\ttest  train\r\n"
     ]
    }
   ],
   "source": [
    "!ls $CV_PROCESSED_DP"
   ]
  },
  {
   "cell_type": "code",
   "execution_count": 19,
   "id": "7255e1cd",
   "metadata": {},
   "outputs": [
    {
     "name": "stdout",
     "output_type": "stream",
     "text": [
      "dataset.arrow  dataset_info.json  state.json\r\n"
     ]
    }
   ],
   "source": [
    "!ls $CV_PROCESSED_DP/test"
   ]
  },
  {
   "cell_type": "code",
   "execution_count": null,
   "id": "54d317ed",
   "metadata": {},
   "outputs": [],
   "source": []
  },
  {
   "cell_type": "code",
   "execution_count": 27,
   "id": "0cdaed98",
   "metadata": {},
   "outputs": [],
   "source": [
    "# !du -sh $CV_PROCESSED_DP/*"
   ]
  },
  {
   "cell_type": "code",
   "execution_count": 28,
   "id": "7cc37dd5",
   "metadata": {},
   "outputs": [],
   "source": [
    "# !du -sh $CV_PROCESSED_DP/dev/*"
   ]
  },
  {
   "cell_type": "code",
   "execution_count": null,
   "id": "c4b2cd84",
   "metadata": {},
   "outputs": [],
   "source": []
  },
  {
   "cell_type": "code",
   "execution_count": 22,
   "id": "d97b0403",
   "metadata": {},
   "outputs": [],
   "source": [
    "x = hfd.load_from_disk(CV_PROCESSED_DP)"
   ]
  },
  {
   "cell_type": "code",
   "execution_count": 23,
   "id": "05639374",
   "metadata": {},
   "outputs": [
    {
     "data": {
      "text/plain": [
       "DatasetDict({\n",
       "    train: Dataset({\n",
       "        features: ['audio', 'sentence'],\n",
       "        num_rows: 314305\n",
       "    })\n",
       "    dev: Dataset({\n",
       "        features: ['audio', 'sentence'],\n",
       "        num_rows: 15803\n",
       "    })\n",
       "    test: Dataset({\n",
       "        features: ['audio', 'sentence'],\n",
       "        num_rows: 15801\n",
       "    })\n",
       "})"
      ]
     },
     "execution_count": 23,
     "metadata": {},
     "output_type": "execute_result"
    }
   ],
   "source": [
    "x"
   ]
  },
  {
   "cell_type": "code",
   "execution_count": null,
   "id": "9348c4a9",
   "metadata": {},
   "outputs": [],
   "source": []
  },
  {
   "cell_type": "code",
   "execution_count": null,
   "id": "8f314801",
   "metadata": {},
   "outputs": [],
   "source": []
  },
  {
   "cell_type": "code",
   "execution_count": null,
   "id": "0cfe290e",
   "metadata": {},
   "outputs": [],
   "source": []
  }
 ],
 "metadata": {
  "kernelspec": {
   "display_name": "Python 3 (ipykernel)",
   "language": "python",
   "name": "python3"
  },
  "language_info": {
   "codemirror_mode": {
    "name": "ipython",
    "version": 3
   },
   "file_extension": ".py",
   "mimetype": "text/x-python",
   "name": "python",
   "nbconvert_exporter": "python",
   "pygments_lexer": "ipython3",
   "version": "3.9.7"
  },
  "toc": {
   "base_numbering": 1,
   "nav_menu": {},
   "number_sections": true,
   "sideBar": true,
   "skip_h1_title": false,
   "title_cell": "Table of Contents",
   "title_sidebar": "Contents",
   "toc_cell": false,
   "toc_position": {},
   "toc_section_display": true,
   "toc_window_display": false
  }
 },
 "nbformat": 4,
 "nbformat_minor": 5
}
