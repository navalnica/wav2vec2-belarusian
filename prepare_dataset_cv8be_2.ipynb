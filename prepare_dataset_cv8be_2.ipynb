{
 "cells": [
  {
   "cell_type": "code",
   "execution_count": 1,
   "id": "beb8bab5",
   "metadata": {},
   "outputs": [
    {
     "name": "stdout",
     "output_type": "stream",
     "text": [
      "True\n"
     ]
    }
   ],
   "source": [
    "import re\n",
    "import json\n",
    "import os\n",
    "import shutil\n",
    "\n",
    "import numpy as np\n",
    "\n",
    "import pandas as pd\n",
    "pd.options.display.max_columns = 100\n",
    "\n",
    "import IPython.display as ipd\n",
    "\n",
    "import datasets as hfd\n",
    "\n",
    "from transformers import (\n",
    "    Wav2Vec2CTCTokenizer, Wav2Vec2FeatureExtractor, Wav2Vec2Processor, \n",
    ")\n",
    "\n",
    "import torch\n",
    "print(torch.cuda.is_available())"
   ]
  },
  {
   "cell_type": "code",
   "execution_count": null,
   "id": "14d93b9a",
   "metadata": {},
   "outputs": [],
   "source": []
  },
  {
   "cell_type": "code",
   "execution_count": 2,
   "id": "b4f8638e",
   "metadata": {},
   "outputs": [],
   "source": [
    "DATA_ROOT_DP = os.environ['DATA_HOME']\n",
    "CV_PROCESSED_DP = f'{DATA_ROOT_DP}/datasets/cv-corpus-8.0-2022-01-19__be__processed'"
   ]
  },
  {
   "cell_type": "code",
   "execution_count": 3,
   "id": "8f5c8573",
   "metadata": {},
   "outputs": [],
   "source": [
    "artifacts_dp = 'artifacts'\n",
    "os.makedirs(artifacts_dp, exist_ok=True)"
   ]
  },
  {
   "cell_type": "code",
   "execution_count": null,
   "id": "0ccdcbbd",
   "metadata": {},
   "outputs": [],
   "source": []
  },
  {
   "cell_type": "code",
   "execution_count": 4,
   "id": "56121552",
   "metadata": {},
   "outputs": [
    {
     "data": {
      "text/plain": [
       "DatasetDict({\n",
       "    train: Dataset({\n",
       "        features: ['audio', 'sentence'],\n",
       "        num_rows: 314305\n",
       "    })\n",
       "    dev: Dataset({\n",
       "        features: ['audio', 'sentence'],\n",
       "        num_rows: 15803\n",
       "    })\n",
       "    test: Dataset({\n",
       "        features: ['audio', 'sentence'],\n",
       "        num_rows: 15801\n",
       "    })\n",
       "})"
      ]
     },
     "execution_count": 4,
     "metadata": {},
     "output_type": "execute_result"
    }
   ],
   "source": [
    "ds = hfd.load_from_disk(CV_PROCESSED_DP)\n",
    "ds"
   ]
  },
  {
   "cell_type": "code",
   "execution_count": null,
   "id": "26be6053",
   "metadata": {},
   "outputs": [],
   "source": []
  },
  {
   "cell_type": "markdown",
   "id": "42b2a61a",
   "metadata": {},
   "source": [
    "### preprocess text"
   ]
  },
  {
   "cell_type": "code",
   "execution_count": 6,
   "id": "ddd8a1ee",
   "metadata": {},
   "outputs": [
    {
     "data": {
      "text/plain": [
       "{110: 'н', 1169: 'г'}"
      ]
     },
     "execution_count": 6,
     "metadata": {},
     "output_type": "execute_result"
    }
   ],
   "source": [
    "char_map = {'n': 'н', 'ґ': 'г'}\n",
    "char_map = str.maketrans(char_map)\n",
    "char_map"
   ]
  },
  {
   "cell_type": "code",
   "execution_count": 7,
   "id": "22404f1e",
   "metadata": {},
   "outputs": [],
   "source": [
    "def preprocess_text(example, char_map):\n",
    "    text = example['sentence']\n",
    "    text = text.lower()\n",
    "    # remove non-word chars\n",
    "    text = re.sub(r\"[^\\w\\s']\", '', text)    \n",
    "    # sub multiple sequential space chars with single space\n",
    "    text = re.sub(r\"\\s+\", ' ', text)\n",
    "    text = text.translate(char_map)\n",
    "    example['sentence'] = text\n",
    "    return example"
   ]
  },
  {
   "cell_type": "code",
   "execution_count": 44,
   "id": "0b73b3ce",
   "metadata": {},
   "outputs": [],
   "source": [
    "# ds = ds.map(preprocess_text, fn_kwargs=dict(char_map=char_map))"
   ]
  },
  {
   "cell_type": "code",
   "execution_count": null,
   "id": "952d69ad",
   "metadata": {},
   "outputs": [],
   "source": []
  },
  {
   "cell_type": "markdown",
   "id": "ed81e761",
   "metadata": {},
   "source": [
    "### create vocab.json"
   ]
  },
  {
   "cell_type": "code",
   "execution_count": 9,
   "id": "bb55342f",
   "metadata": {},
   "outputs": [],
   "source": [
    "# def extract_all_chars(batch):\n",
    "#     s = [set(x) for x in batch['sentence']]\n",
    "#     s_all = set().union(*s)\n",
    "#     return {'vocab': [list(s_all)]}"
   ]
  },
  {
   "cell_type": "code",
   "execution_count": 10,
   "id": "022b6e49",
   "metadata": {},
   "outputs": [
    {
     "data": {
      "application/vnd.jupyter.widget-view+json": {
       "model_id": "75f4610c56604418b78fed1191dbaf87",
       "version_major": 2,
       "version_minor": 0
      },
      "text/plain": [
       "  0%|          | 0/9823 [00:00<?, ?ba/s]"
      ]
     },
     "metadata": {},
     "output_type": "display_data"
    },
    {
     "data": {
      "application/vnd.jupyter.widget-view+json": {
       "model_id": "75a773b6a88c49638ce2a94acf8b069c",
       "version_major": 2,
       "version_minor": 0
      },
      "text/plain": [
       "  0%|          | 0/494 [00:00<?, ?ba/s]"
      ]
     },
     "metadata": {},
     "output_type": "display_data"
    },
    {
     "data": {
      "application/vnd.jupyter.widget-view+json": {
       "model_id": "59d4c1f3f79949bc96877ce69458e05f",
       "version_major": 2,
       "version_minor": 0
      },
      "text/plain": [
       "  0%|          | 0/494 [00:00<?, ?ba/s]"
      ]
     },
     "metadata": {},
     "output_type": "display_data"
    }
   ],
   "source": [
    "# vocab = ds.map(\n",
    "#     extract_all_chars, keep_in_memory=True, \n",
    "#     batched=True, batch_size=32, remove_columns=ds.column_names[\"train\"]\n",
    "# )\n",
    "# vocab = {split: set().union(*vocab[split]['vocab']) for split in vocab}\n",
    "# vocab = set().union(vocab['train'], vocab['dev'], vocab['test'])\n",
    "# vocab = sorted(vocab)"
   ]
  },
  {
   "cell_type": "code",
   "execution_count": 21,
   "id": "18f2602b",
   "metadata": {},
   "outputs": [
    {
     "data": {
      "text/html": [
       "<div>\n",
       "<style scoped>\n",
       "    .dataframe tbody tr th:only-of-type {\n",
       "        vertical-align: middle;\n",
       "    }\n",
       "\n",
       "    .dataframe tbody tr th {\n",
       "        vertical-align: top;\n",
       "    }\n",
       "\n",
       "    .dataframe thead th {\n",
       "        text-align: right;\n",
       "    }\n",
       "</style>\n",
       "<table border=\"1\" class=\"dataframe\">\n",
       "  <thead>\n",
       "    <tr style=\"text-align: right;\">\n",
       "      <th></th>\n",
       "      <th>0</th>\n",
       "      <th>1</th>\n",
       "      <th>2</th>\n",
       "      <th>3</th>\n",
       "      <th>4</th>\n",
       "      <th>5</th>\n",
       "      <th>6</th>\n",
       "      <th>7</th>\n",
       "      <th>8</th>\n",
       "      <th>9</th>\n",
       "      <th>10</th>\n",
       "      <th>11</th>\n",
       "      <th>12</th>\n",
       "      <th>13</th>\n",
       "      <th>14</th>\n",
       "      <th>15</th>\n",
       "      <th>16</th>\n",
       "      <th>17</th>\n",
       "      <th>18</th>\n",
       "      <th>19</th>\n",
       "      <th>20</th>\n",
       "      <th>21</th>\n",
       "      <th>22</th>\n",
       "      <th>23</th>\n",
       "      <th>24</th>\n",
       "      <th>25</th>\n",
       "      <th>26</th>\n",
       "      <th>27</th>\n",
       "      <th>28</th>\n",
       "      <th>29</th>\n",
       "      <th>30</th>\n",
       "      <th>31</th>\n",
       "      <th>32</th>\n",
       "      <th>33</th>\n",
       "      <th>34</th>\n",
       "    </tr>\n",
       "  </thead>\n",
       "  <tbody>\n",
       "    <tr>\n",
       "      <th>char</th>\n",
       "      <td></td>\n",
       "      <td>'</td>\n",
       "      <td>i</td>\n",
       "      <td>а</td>\n",
       "      <td>б</td>\n",
       "      <td>в</td>\n",
       "      <td>г</td>\n",
       "      <td>д</td>\n",
       "      <td>е</td>\n",
       "      <td>ж</td>\n",
       "      <td>з</td>\n",
       "      <td>й</td>\n",
       "      <td>к</td>\n",
       "      <td>л</td>\n",
       "      <td>м</td>\n",
       "      <td>н</td>\n",
       "      <td>о</td>\n",
       "      <td>п</td>\n",
       "      <td>р</td>\n",
       "      <td>с</td>\n",
       "      <td>т</td>\n",
       "      <td>у</td>\n",
       "      <td>ф</td>\n",
       "      <td>х</td>\n",
       "      <td>ц</td>\n",
       "      <td>ч</td>\n",
       "      <td>ш</td>\n",
       "      <td>ы</td>\n",
       "      <td>ь</td>\n",
       "      <td>э</td>\n",
       "      <td>ю</td>\n",
       "      <td>я</td>\n",
       "      <td>ё</td>\n",
       "      <td>і</td>\n",
       "      <td>ў</td>\n",
       "    </tr>\n",
       "    <tr>\n",
       "      <th>ord</th>\n",
       "      <td>32</td>\n",
       "      <td>39</td>\n",
       "      <td>105</td>\n",
       "      <td>1072</td>\n",
       "      <td>1073</td>\n",
       "      <td>1074</td>\n",
       "      <td>1075</td>\n",
       "      <td>1076</td>\n",
       "      <td>1077</td>\n",
       "      <td>1078</td>\n",
       "      <td>1079</td>\n",
       "      <td>1081</td>\n",
       "      <td>1082</td>\n",
       "      <td>1083</td>\n",
       "      <td>1084</td>\n",
       "      <td>1085</td>\n",
       "      <td>1086</td>\n",
       "      <td>1087</td>\n",
       "      <td>1088</td>\n",
       "      <td>1089</td>\n",
       "      <td>1090</td>\n",
       "      <td>1091</td>\n",
       "      <td>1092</td>\n",
       "      <td>1093</td>\n",
       "      <td>1094</td>\n",
       "      <td>1095</td>\n",
       "      <td>1096</td>\n",
       "      <td>1099</td>\n",
       "      <td>1100</td>\n",
       "      <td>1101</td>\n",
       "      <td>1102</td>\n",
       "      <td>1103</td>\n",
       "      <td>1105</td>\n",
       "      <td>1110</td>\n",
       "      <td>1118</td>\n",
       "    </tr>\n",
       "  </tbody>\n",
       "</table>\n",
       "</div>"
      ],
      "text/plain": [
       "      0   1    2     3     4     5     6     7     8     9     10    11    12  \\\n",
       "char       '    i     а     б     в     г     д     е     ж     з     й     к   \n",
       "ord   32  39  105  1072  1073  1074  1075  1076  1077  1078  1079  1081  1082   \n",
       "\n",
       "        13    14    15    16    17    18    19    20    21    22    23    24  \\\n",
       "char     л     м     н     о     п     р     с     т     у     ф     х     ц   \n",
       "ord   1083  1084  1085  1086  1087  1088  1089  1090  1091  1092  1093  1094   \n",
       "\n",
       "        25    26    27    28    29    30    31    32    33    34  \n",
       "char     ч     ш     ы     ь     э     ю     я     ё     і     ў  \n",
       "ord   1095  1096  1099  1100  1101  1102  1103  1105  1110  1118  "
      ]
     },
     "execution_count": 21,
     "metadata": {},
     "output_type": "execute_result"
    }
   ],
   "source": [
    "# x = pd.DataFrame({'char': vocab})\n",
    "# x['ord'] = x['char'].apply(ord)\n",
    "# x.T"
   ]
  },
  {
   "cell_type": "code",
   "execution_count": null,
   "id": "5b07d18b",
   "metadata": {},
   "outputs": [],
   "source": []
  },
  {
   "cell_type": "code",
   "execution_count": null,
   "id": "e03543b0",
   "metadata": {},
   "outputs": [],
   "source": [
    "# vocab_dict = {v: k for k, v in enumerate(sorted(vocab))}\n",
    "\n",
    "# vocab_dict[\"|\"] = vocab_dict[\" \"]\n",
    "# del vocab_dict[\" \"]\n",
    "\n",
    "# vocab_dict[\"[UNK]\"] = len(vocab_dict)\n",
    "# vocab_dict[\"[PAD]\"] = len(vocab_dict)\n",
    "\n",
    "# print(f'vocab len: {len(vocab_dict)}')"
   ]
  },
  {
   "cell_type": "code",
   "execution_count": 51,
   "id": "3876bdaa",
   "metadata": {},
   "outputs": [],
   "source": [
    "# with open(os.path.join(artifacts_dp, 'vocab.json'), 'w') as fout:\n",
    "#     json.dump(vocab_dict, fout, indent=2)"
   ]
  },
  {
   "cell_type": "code",
   "execution_count": 52,
   "id": "ae8f40f5",
   "metadata": {},
   "outputs": [
    {
     "name": "stdout",
     "output_type": "stream",
     "text": [
      "{\"'\": 1, 'i': 2, 'а': 3, 'б': 4, 'в': 5, 'г': 6, 'д': 7, 'е': 8, 'ж': 9, 'з': 10, 'й': 11, 'к': 12, 'л': 13, 'м': 14, 'н': 15, 'о': 16, 'п': 17, 'р': 18, 'с': 19, 'т': 20, 'у': 21, 'ф': 22, 'х': 23, 'ц': 24, 'ч': 25, 'ш': 26, 'ы': 27, 'ь': 28, 'э': 29, 'ю': 30, 'я': 31, 'ё': 32, 'і': 33, 'ў': 34, '|': 0, '[UNK]': 35, '[PAD]': 36}\n"
     ]
    }
   ],
   "source": [
    "print(vocab_dict)"
   ]
  },
  {
   "cell_type": "code",
   "execution_count": null,
   "id": "5617be92",
   "metadata": {},
   "outputs": [],
   "source": []
  },
  {
   "cell_type": "code",
   "execution_count": 55,
   "id": "9fa7b631",
   "metadata": {},
   "outputs": [],
   "source": [
    "# with open(os.path.join(artifacts_dp, 'vocab.json')) as fin:\n",
    "#     vocab = json.load(fin)"
   ]
  },
  {
   "cell_type": "code",
   "execution_count": null,
   "id": "0fcc2ef8",
   "metadata": {},
   "outputs": [],
   "source": []
  },
  {
   "cell_type": "markdown",
   "id": "c520bcac",
   "metadata": {},
   "source": [
    "### processor"
   ]
  },
  {
   "cell_type": "code",
   "execution_count": 58,
   "id": "2d2a0a2b",
   "metadata": {},
   "outputs": [],
   "source": [
    "# tokenizer = Wav2Vec2CTCTokenizer(\n",
    "#     os.path.join(artifacts_dp, 'vocab.json'),\n",
    "#     unk_token=\"[UNK]\", \n",
    "#     pad_token=\"[PAD]\", \n",
    "#     word_delimiter_token=\"|\"\n",
    "# )\n",
    "\n",
    "# feature_extractor = Wav2Vec2FeatureExtractor(\n",
    "#     feature_size=1, sampling_rate=16_000, padding_value=0.0, \n",
    "#     do_normalize=True, return_attention_mask=False\n",
    "# )\n",
    "\n",
    "# processor = Wav2Vec2Processor(\n",
    "#     feature_extractor=feature_extractor, \n",
    "#     tokenizer=tokenizer\n",
    "# )"
   ]
  },
  {
   "cell_type": "code",
   "execution_count": 66,
   "id": "48ad59b4",
   "metadata": {},
   "outputs": [],
   "source": [
    "# processor.save_pretrained(os.path.join(artifacts_dp, 'processor'))"
   ]
  },
  {
   "cell_type": "code",
   "execution_count": 9,
   "id": "b234caec",
   "metadata": {},
   "outputs": [
    {
     "name": "stderr",
     "output_type": "stream",
     "text": [
      "Special tokens have been added in the vocabulary, make sure the associated word embeddings are fine-tuned or trained.\n"
     ]
    }
   ],
   "source": [
    "processor = Wav2Vec2Processor.from_pretrained(os.path.join(artifacts_dp, 'processor'))"
   ]
  },
  {
   "cell_type": "code",
   "execution_count": 10,
   "id": "53160118",
   "metadata": {},
   "outputs": [
    {
     "data": {
      "text/html": [
       "<div>\n",
       "<style scoped>\n",
       "    .dataframe tbody tr th:only-of-type {\n",
       "        vertical-align: middle;\n",
       "    }\n",
       "\n",
       "    .dataframe tbody tr th {\n",
       "        vertical-align: top;\n",
       "    }\n",
       "\n",
       "    .dataframe thead th {\n",
       "        text-align: right;\n",
       "    }\n",
       "</style>\n",
       "<table border=\"1\" class=\"dataframe\">\n",
       "  <thead>\n",
       "    <tr style=\"text-align: right;\">\n",
       "      <th></th>\n",
       "      <th>'</th>\n",
       "      <th>i</th>\n",
       "      <th>а</th>\n",
       "      <th>б</th>\n",
       "      <th>в</th>\n",
       "      <th>г</th>\n",
       "      <th>д</th>\n",
       "      <th>е</th>\n",
       "      <th>ж</th>\n",
       "      <th>з</th>\n",
       "      <th>й</th>\n",
       "      <th>к</th>\n",
       "      <th>л</th>\n",
       "      <th>м</th>\n",
       "      <th>н</th>\n",
       "      <th>о</th>\n",
       "      <th>п</th>\n",
       "      <th>р</th>\n",
       "      <th>с</th>\n",
       "      <th>т</th>\n",
       "      <th>у</th>\n",
       "      <th>ф</th>\n",
       "      <th>х</th>\n",
       "      <th>ц</th>\n",
       "      <th>ч</th>\n",
       "      <th>ш</th>\n",
       "      <th>ы</th>\n",
       "      <th>ь</th>\n",
       "      <th>э</th>\n",
       "      <th>ю</th>\n",
       "      <th>я</th>\n",
       "      <th>ё</th>\n",
       "      <th>і</th>\n",
       "      <th>ў</th>\n",
       "      <th>|</th>\n",
       "      <th>[UNK]</th>\n",
       "      <th>[PAD]</th>\n",
       "      <th>&lt;s&gt;</th>\n",
       "      <th>&lt;/s&gt;</th>\n",
       "    </tr>\n",
       "  </thead>\n",
       "  <tbody>\n",
       "    <tr>\n",
       "      <th>0</th>\n",
       "      <td>1</td>\n",
       "      <td>2</td>\n",
       "      <td>3</td>\n",
       "      <td>4</td>\n",
       "      <td>5</td>\n",
       "      <td>6</td>\n",
       "      <td>7</td>\n",
       "      <td>8</td>\n",
       "      <td>9</td>\n",
       "      <td>10</td>\n",
       "      <td>11</td>\n",
       "      <td>12</td>\n",
       "      <td>13</td>\n",
       "      <td>14</td>\n",
       "      <td>15</td>\n",
       "      <td>16</td>\n",
       "      <td>17</td>\n",
       "      <td>18</td>\n",
       "      <td>19</td>\n",
       "      <td>20</td>\n",
       "      <td>21</td>\n",
       "      <td>22</td>\n",
       "      <td>23</td>\n",
       "      <td>24</td>\n",
       "      <td>25</td>\n",
       "      <td>26</td>\n",
       "      <td>27</td>\n",
       "      <td>28</td>\n",
       "      <td>29</td>\n",
       "      <td>30</td>\n",
       "      <td>31</td>\n",
       "      <td>32</td>\n",
       "      <td>33</td>\n",
       "      <td>34</td>\n",
       "      <td>0</td>\n",
       "      <td>35</td>\n",
       "      <td>36</td>\n",
       "      <td>37</td>\n",
       "      <td>38</td>\n",
       "    </tr>\n",
       "  </tbody>\n",
       "</table>\n",
       "</div>"
      ],
      "text/plain": [
       "   '  i  а  б  в  г  д  е  ж   з   й   к   л   м   н   о   п   р   с   т   у  \\\n",
       "0  1  2  3  4  5  6  7  8  9  10  11  12  13  14  15  16  17  18  19  20  21   \n",
       "\n",
       "    ф   х   ц   ч   ш   ы   ь   э   ю   я   ё   і   ў  |  [UNK]  [PAD]  <s>  \\\n",
       "0  22  23  24  25  26  27  28  29  30  31  32  33  34  0     35     36   37   \n",
       "\n",
       "   </s>  \n",
       "0    38  "
      ]
     },
     "execution_count": 10,
     "metadata": {},
     "output_type": "execute_result"
    }
   ],
   "source": [
    "vocab = processor.tokenizer.get_vocab()\n",
    "pd.Series(vocab).to_frame().T"
   ]
  },
  {
   "cell_type": "code",
   "execution_count": null,
   "id": "ec4c57a2",
   "metadata": {},
   "outputs": [],
   "source": []
  },
  {
   "cell_type": "code",
   "execution_count": null,
   "id": "a193c666",
   "metadata": {},
   "outputs": [],
   "source": []
  },
  {
   "cell_type": "markdown",
   "id": "e9191987",
   "metadata": {},
   "source": [
    "### Input values"
   ]
  },
  {
   "cell_type": "code",
   "execution_count": 11,
   "id": "7c1242d0",
   "metadata": {},
   "outputs": [],
   "source": [
    "def prepare_dataset(batch):\n",
    "    audio = batch['audio']\n",
    "    batch['input_values'] = processor(\n",
    "        audio['array'], sampling_rate=audio['sampling_rate']\n",
    "    )['input_values'][0]\n",
    "    \n",
    "    with processor.as_target_processor():\n",
    "        batch['labels'] = processor(batch['sentence'])['input_ids']\n",
    "        \n",
    "    return batch"
   ]
  },
  {
   "cell_type": "code",
   "execution_count": 12,
   "id": "a91b817e",
   "metadata": {},
   "outputs": [
    {
     "data": {
      "text/plain": [
       "DatasetDict({\n",
       "    train: Dataset({\n",
       "        features: ['input_values', 'labels'],\n",
       "        num_rows: 314305\n",
       "    })\n",
       "    dev: Dataset({\n",
       "        features: ['input_values', 'labels'],\n",
       "        num_rows: 15803\n",
       "    })\n",
       "    test: Dataset({\n",
       "        features: ['input_values', 'labels'],\n",
       "        num_rows: 15801\n",
       "    })\n",
       "})"
      ]
     },
     "execution_count": 12,
     "metadata": {},
     "output_type": "execute_result"
    }
   ],
   "source": [
    "ds_p = ds.map(prepare_dataset, remove_columns=ds.column_names['train'], num_proc=8)\n",
    "ds_p"
   ]
  },
  {
   "cell_type": "code",
   "execution_count": null,
   "id": "bae46950",
   "metadata": {},
   "outputs": [],
   "source": []
  },
  {
   "cell_type": "markdown",
   "id": "0931f45f",
   "metadata": {},
   "source": [
    "### save to disk"
   ]
  },
  {
   "cell_type": "code",
   "execution_count": 14,
   "id": "28fc9bbb",
   "metadata": {},
   "outputs": [],
   "source": [
    "CV_PROCESSED_2_DP = f'{DATA_ROOT_DP}/datasets/cv-corpus-8.0-2022-01-19__be__processed__2'"
   ]
  },
  {
   "cell_type": "code",
   "execution_count": 15,
   "id": "350c5bfe",
   "metadata": {},
   "outputs": [],
   "source": [
    "ds_p.save_to_disk(os.path.join(CV_PROCESSED_2_DP))"
   ]
  },
  {
   "cell_type": "code",
   "execution_count": null,
   "id": "abba4d55",
   "metadata": {},
   "outputs": [],
   "source": []
  },
  {
   "cell_type": "markdown",
   "id": "f55dc261",
   "metadata": {},
   "source": [
    "### reread"
   ]
  },
  {
   "cell_type": "code",
   "execution_count": 23,
   "id": "e06f1862",
   "metadata": {},
   "outputs": [],
   "source": [
    "ds_p = hfd.load_from_disk(CV_PROCESSED_2_DP)\n",
    "ds_p"
   ]
  },
  {
   "cell_type": "code",
   "execution_count": null,
   "id": "ca916304",
   "metadata": {},
   "outputs": [],
   "source": []
  },
  {
   "cell_type": "code",
   "execution_count": null,
   "id": "d95161b9",
   "metadata": {},
   "outputs": [],
   "source": []
  },
  {
   "cell_type": "markdown",
   "id": "ac3edc0a",
   "metadata": {},
   "source": [
    "### debug"
   ]
  },
  {
   "cell_type": "code",
   "execution_count": 36,
   "id": "8d638f22",
   "metadata": {},
   "outputs": [],
   "source": [
    "vocab_dict_inverted = dict(zip(vocab.values(), vocab.keys()))"
   ]
  },
  {
   "cell_type": "code",
   "execution_count": null,
   "id": "221c0fad",
   "metadata": {},
   "outputs": [],
   "source": []
  },
  {
   "cell_type": "code",
   "execution_count": 41,
   "id": "1be31bd6",
   "metadata": {},
   "outputs": [
    {
     "name": "stdout",
     "output_type": "stream",
     "text": [
      "8.660139083862305 1.934119883273166e-09 0.9999900884003534 81216\n",
      "што гэта свет клінам сышоўся\n",
      "што гэта свет клінам сышоўся\n",
      "што|гэта|свет|клінам|сышоўся\n"
     ]
    }
   ],
   "source": [
    "ix = 2054\n",
    "\n",
    "inputs = np.asarray(ds_p['train'][ix]['input_values'])\n",
    "print(inputs.max(), inputs.mean(), inputs.std(), len(inputs))\n",
    "\n",
    "print(ds['train'][ix]['sentence'])\n",
    "\n",
    "print(processor.decode(ds_p['train'][ix]['labels']))\n",
    "\n",
    "y = list(map(vocab_dict_inverted.get, ds_p['train'][ix]['labels']))\n",
    "print(''.join(y))"
   ]
  },
  {
   "cell_type": "code",
   "execution_count": 43,
   "id": "c73e9b6a",
   "metadata": {},
   "outputs": [
    {
     "name": "stdout",
     "output_type": "stream",
     "text": [
      "5.936769008636475 5.3624984834760684e-09 0.9999971653160846 60480\n",
      "ужо праз год будаўніцтва было скончана\n",
      "ужо праз год будаўніцтва было скончана\n",
      "ужо|праз|год|будаўніцтва|было|скончана\n"
     ]
    }
   ],
   "source": [
    "ix = 51432\n",
    "\n",
    "inputs = np.asarray(ds_p['train'][ix]['input_values'])\n",
    "print(inputs.max(), inputs.mean(), inputs.std(), len(inputs))\n",
    "\n",
    "print(ds['train'][ix]['sentence'])\n",
    "\n",
    "print(processor.decode(ds_p['train'][ix]['labels']))\n",
    "\n",
    "y = list(map(vocab_dict_inverted.get, ds_p['train'][ix]['labels']))\n",
    "print(''.join(y))"
   ]
  },
  {
   "cell_type": "code",
   "execution_count": null,
   "id": "d86974b2",
   "metadata": {},
   "outputs": [],
   "source": []
  },
  {
   "cell_type": "code",
   "execution_count": null,
   "id": "6b9f7e42",
   "metadata": {},
   "outputs": [],
   "source": []
  },
  {
   "cell_type": "code",
   "execution_count": null,
   "id": "eaced5cf",
   "metadata": {},
   "outputs": [],
   "source": []
  }
 ],
 "metadata": {
  "kernelspec": {
   "display_name": "Python 3 (ipykernel)",
   "language": "python",
   "name": "python3"
  },
  "language_info": {
   "codemirror_mode": {
    "name": "ipython",
    "version": 3
   },
   "file_extension": ".py",
   "mimetype": "text/x-python",
   "name": "python",
   "nbconvert_exporter": "python",
   "pygments_lexer": "ipython3",
   "version": "3.9.7"
  },
  "toc": {
   "base_numbering": 1,
   "nav_menu": {},
   "number_sections": true,
   "sideBar": true,
   "skip_h1_title": false,
   "title_cell": "Table of Contents",
   "title_sidebar": "Contents",
   "toc_cell": false,
   "toc_position": {},
   "toc_section_display": true,
   "toc_window_display": true
  }
 },
 "nbformat": 4,
 "nbformat_minor": 5
}
